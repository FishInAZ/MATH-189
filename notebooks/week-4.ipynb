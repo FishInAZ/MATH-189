{
 "cells": [
  {
   "cell_type": "markdown",
   "id": "200e3bab",
   "metadata": {
    "editable": true,
    "slideshow": {
     "slide_type": "slide"
    },
    "tags": []
   },
   "source": [
    "# Week 4\n",
    "## MATH 189 • Data Analysis & Inference • Wi 2024\n",
    "### Siddharth Vishwanath"
   ]
  },
  {
   "cell_type": "markdown",
   "id": "8700143e-29e1-4307-9662-02a03e22ef20",
   "metadata": {},
   "source": [
    "% # %load tex-macros\n",
    "<div hidden>\n",
    "\\newcommand{\\require}[1]{}\n",
    "\n",
    "$\\require{begingroup}\\require{newcommand}$\n",
    "$\\long\\def \\forcecommand #1{\\providecommand{#1}{}\\renewcommand{#1}}$\n",
    "$\\forcecommand{\\defeq}{\\stackrel{\\small\\bullet}{=}}$\n",
    "$\\forcecommand{\\ra}{\\rangle}$\n",
    "$\\forcecommand{\\la}{\\langle}$\n",
    "$\\forcecommand{\\pr}{{\\mathbb P}}$\n",
    "$\\forcecommand{\\qr}{{\\mathbb Q}}$\n",
    "$\\forcecommand{\\xv}{{\\boldsymbol{x}}}$\n",
    "$\\forcecommand{\\av}{{\\boldsymbol{a}}}$\n",
    "$\\forcecommand{\\bv}{{\\boldsymbol{b}}}$\n",
    "$\\forcecommand{\\cv}{{\\boldsymbol{c}}}$\n",
    "$\\forcecommand{\\dv}{{\\boldsymbol{d}}}$\n",
    "$\\forcecommand{\\ev}{{\\boldsymbol{e}}}$\n",
    "$\\forcecommand{\\fv}{{\\boldsymbol{f}}}$\n",
    "$\\forcecommand{\\gv}{{\\boldsymbol{g}}}$\n",
    "$\\forcecommand{\\hv}{{\\boldsymbol{h}}}$\n",
    "$\\forcecommand{\\nv}{{\\boldsymbol{n}}}$\n",
    "$\\forcecommand{\\sv}{{\\boldsymbol{s}}}$\n",
    "$\\forcecommand{\\tv}{{\\boldsymbol{t}}}$\n",
    "$\\forcecommand{\\uv}{{\\boldsymbol{u}}}$\n",
    "$\\forcecommand{\\vv}{{\\boldsymbol{v}}}$\n",
    "$\\forcecommand{\\wv}{{\\boldsymbol{w}}}$\n",
    "$\\forcecommand{\\zerov}{{\\mathbf{0}}}$\n",
    "$\\forcecommand{\\onev}{{\\mathbf{0}}}$\n",
    "$\\forcecommand{\\phiv}{{\\boldsymbol{\\phi}}}$\n",
    "$\\forcecommand{\\cc}{{\\check{C}}}$\n",
    "$\\forcecommand{\\xv}{{\\boldsymbol{x}}}$\n",
    "$\\forcecommand{\\Xv}{{\\boldsymbol{X}\\!}}$\n",
    "$\\forcecommand{\\yv}{{\\boldsymbol{y}}}$\n",
    "$\\forcecommand{\\Yv}{{\\boldsymbol{Y}}}$\n",
    "$\\forcecommand{\\zv}{{\\boldsymbol{z}}}$\n",
    "$\\forcecommand{\\Zv}{{\\boldsymbol{Z}}}$\n",
    "$\\forcecommand{\\Iv}{{\\boldsymbol{I}}}$\n",
    "$\\forcecommand{\\Jv}{{\\boldsymbol{J}}}$\n",
    "$\\forcecommand{\\Cv}{{\\boldsymbol{C}}}$\n",
    "$\\forcecommand{\\Ev}{{\\boldsymbol{E}}}$\n",
    "$\\forcecommand{\\Fv}{{\\boldsymbol{F}}}$\n",
    "$\\forcecommand{\\Gv}{{\\boldsymbol{G}}}$\n",
    "$\\forcecommand{\\Hv}{{\\boldsymbol{H}}}$\n",
    "$\\forcecommand{\\alphav}{{\\boldsymbol{\\alpha}}}$\n",
    "$\\forcecommand{\\epsilonv}{{\\boldsymbol{\\epsilon}}}$\n",
    "$\\forcecommand{\\betav}{{\\boldsymbol{\\beta}}}$\n",
    "$\\forcecommand{\\deltav}{{\\boldsymbol{\\delta}}}$\n",
    "$\\forcecommand{\\gammav}{{\\boldsymbol{\\gamma}}}$\n",
    "$\\forcecommand{\\etav}{{\\boldsymbol{\\eta}}}$\n",
    "$\\forcecommand{\\piv}{{\\boldsymbol{\\pi}}}$\n",
    "$\\forcecommand{\\thetav}{{\\boldsymbol{\\theta}}}$\n",
    "$\\forcecommand{\\tauv}{{\\boldsymbol{\\tau}}}$\n",
    "$\\forcecommand{\\muv}{{\\boldsymbol{\\mu}}}$\n",
    "$%$\n",
    "$\\forcecommand{\\sd}{\\text{SD}}$\n",
    "$\\forcecommand{\\se}{\\text{SE}}$\n",
    "$\\forcecommand{\\med}{\\text{median}}$\n",
    "$\\forcecommand{\\median}{\\text{median}}$\n",
    "$%$\n",
    "$\\forcecommand{\\Ber}{{\\text{Ber}}}$\n",
    "$\\forcecommand{\\Bin}{{\\text{Bin}}}$\n",
    "$\\forcecommand{\\Geo}{{\\text{Geo}}}$\n",
    "$\\forcecommand{\\Unif}{{\\text{Unif}}}$\n",
    "$\\forcecommand{\\Poi}{{\\text{Poi}}}$\n",
    "$\\forcecommand{\\Exp}{{\\text{Exp}}}$\n",
    "$\\forcecommand{\\Chisq}{{\\chi^2}}$\n",
    "$\\forcecommand{\\N}{\\mathbb{N}}$\n",
    "$\\forcecommand{\\iid}{{\\stackrel{iid}{\\sim}}}$\n",
    "$\\forcecommand{\\px}{p_{X}}$\n",
    "$\\forcecommand{\\fx}{f_{X}}$\n",
    "$\\forcecommand{\\Fx}{F_{X}}$\n",
    "$\\forcecommand{\\py}{p_{Y}}$\n",
    "$\\forcecommand{\\pxy}{p_{X,Y}}$\n",
    "$\\forcecommand{\\po}{{p_0}}$\n",
    "$\\forcecommand{\\pa}{{p_a}}$\n",
    "$\\forcecommand{\\Xbar}{\\overline{X}}$\n",
    "$\\forcecommand{\\Ybar}{\\overline{Y}}$\n",
    "$\\forcecommand{\\Zbar}{\\overline{Z}}$\n",
    "$\\forcecommand{\\nXbar}{n \\cdot \\overline{X}}$\n",
    "$\\forcecommand{\\nYbar}{n \\cdot \\overline{Y}}$\n",
    "$\\forcecommand{\\nZbar}{n \\cdot \\overline{Z}}$\n",
    "$\\forcecommand{\\Xn}{X_1, X_2, \\dots, X_n}$\n",
    "$\\forcecommand{\\Xm}{{X_1, X_2, \\dots, X_m}}$\n",
    "$\\forcecommand{\\Yn}{Y_1, Y_2, \\dots, Y_n}$\n",
    "$\\forcecommand{\\Ym}{{Y_1, Y_2, \\dots, Y_m}}$\n",
    "$\\forcecommand{\\sumXn}{X_1 + X_2 + \\dots + X_n}$\n",
    "$\\forcecommand{\\sumym}{Y_1 + Y_2 + \\dots + Y_m}$\n",
    "$\\forcecommand{\\la}{\\ell_\\alpha}$\n",
    "$\\forcecommand{\\ua}{u_\\alpha}$\n",
    "$\\forcecommand{\\at}{{\\alpha/2}}$\n",
    "$\\forcecommand{\\mux}{\\mu_{X}}$\n",
    "$\\forcecommand{\\muy}{\\mu_{Y}}$\n",
    "$\\forcecommand{\\sx}{\\sigma_{X}}$\n",
    "$\\forcecommand{\\sy}{\\sigma_{Y}}$\n",
    "$\\forcecommand{\\pvalue}{$p$-value}$\n",
    "$\\forcecommand{\\Ho}{H_{0}}$\n",
    "$\\forcecommand{\\Ha}{H_{a}}$\n",
    "$\\forcecommand{\\pvalue}{p\\text{-value}}$\n",
    "\n",
    "\\vskip-\\parskip\n",
    "\\vskip-\\baselineskip\n",
    "</div>"
   ]
  },
  {
   "cell_type": "markdown",
   "id": "3b96abc1",
   "metadata": {
    "editable": true,
    "slideshow": {
     "slide_type": "slide"
    },
    "tags": []
   },
   "source": [
    "## Agenda\n",
    "---\n",
    "\n",
    "1. Univariate Hypothesis Testing\n",
    "    * Review of hypothesis testing\n",
    "    * One sample proportion\n",
    "    * Two sample proportions\n",
    "    * One sample mean\n",
    "    * Two sample means\n",
    "\n",
    "---"
   ]
  },
  {
   "cell_type": "markdown",
   "id": "d19ea4ab",
   "metadata": {},
   "source": [
    "Packages:"
   ]
  },
  {
   "cell_type": "code",
   "execution_count": 1,
   "id": "36f314af",
   "metadata": {
    "editable": true,
    "slideshow": {
     "slide_type": ""
    },
    "tags": []
   },
   "outputs": [
    {
     "name": "stderr",
     "output_type": "stream",
     "text": [
      "/var/folders/hj/8xqq0_jd37l1yy3gsych74_r0000gq/T/ipykernel_95757/1605028792.py:2: DeprecationWarning: \n",
      "Pyarrow will become a required dependency of pandas in the next major release of pandas (pandas 3.0),\n",
      "(to allow more performant data types, such as the Arrow string type, and better interoperability with other libraries)\n",
      "but was not found to be installed on your system.\n",
      "If this would cause problems for you,\n",
      "please provide us feedback at https://github.com/pandas-dev/pandas/issues/54466\n",
      "        \n",
      "  import pandas as pd;\n"
     ]
    }
   ],
   "source": [
    "import numpy as np\n",
    "import pandas as pd;\n",
    "import scipy.stats as stats\n",
    "\n",
    "import seaborn as sns\n",
    "import matplotlib.pyplot as plt\n",
    "\n",
    "import statsmodels\n",
    "import statsmodels.api as sm\n",
    "import statsmodels.formula.api as smf\n",
    "\n",
    "# Optional \n",
    "import ipywidgets as widgets\n",
    "from ipywidgets import interact, fixed\n",
    "%matplotlib inline"
   ]
  },
  {
   "cell_type": "markdown",
   "id": "0ed87b17",
   "metadata": {},
   "source": [
    "> helper plotting functions from week 2"
   ]
  },
  {
   "cell_type": "code",
   "execution_count": 2,
   "id": "744778c1",
   "metadata": {
    "tags": []
   },
   "outputs": [],
   "source": [
    "# Helper function to plot the pmf of a discrete random variable\n",
    "def plot_X(X, ax, type='pmf', **kwargs):\n",
    "    ax.set_xlabel('Support')\n",
    "    ax.set_title(f'{X.dist.name}{X.args}')\n",
    "    \n",
    "    min_X, max_X = X.ppf((1e-3, 1-1e-3))\n",
    "    supp_X = np.linspace(min_X-1, max_X + 1, 200)\n",
    "    \n",
    "    if type == 'pmf':\n",
    "        supp_X = np.arange(min_X-1, max_X + 1)\n",
    "        ax.bar(supp_X, X.pmf(supp_X), **kwargs)\n",
    "        ax.set_ylabel('PMF')\n",
    "    elif type == 'pdf':\n",
    "        ax.plot(supp_X, X.pdf(supp_X), **kwargs)\n",
    "        ax.set_ylabel('PDF')\n",
    "    elif type == 'cdf':\n",
    "        ax.plot(supp_X, X.cdf(supp_X), **kwargs)\n",
    "        ax.set_ylabel('CDF')\n",
    "    else:\n",
    "        raise ValueError('type must be pmf or cdf')"
   ]
  },
  {
   "cell_type": "markdown",
   "id": "b9176d7f",
   "metadata": {},
   "source": [
    "\n",
    "---\n",
    "\n",
    "# §1. Preliminaries\n",
    "\n",
    "* Suppose we have a collection $X_1, X_2, \\dots, X_n \\sim D(\\theta)$, observed iid from a distribution $D$ with unknown population parameter $\\theta$.\n",
    "\n",
    "* We want to understand whether the true population parameter $\\theta$ is equal to some value $\\theta_0$.\n",
    "\n",
    "* We do this by constructing a **hypothesis test**.\n",
    "\n"
   ]
  },
  {
   "cell_type": "markdown",
   "id": "b87cf9a4",
   "metadata": {},
   "source": [
    "#### Anatomy of a statistical hypothesis test:\n",
    "\n",
    "\n",
    "> **Assumption**\n",
    ">\n",
    "> This is the assumption that $X_1, X_2, \\dots, X_n \\sim D(\\theta)$ from which we draw obtain our data.\n",
    "\n",
    "<br></br>\n",
    "\n",
    "\n",
    "---\n",
    "\n",
    "\n",
    "> **Population Parameter**\n",
    ">\n",
    "> Under the assumptions above the population parameter $\\theta$ encodes some information about the population which we want to infer.\n",
    "\n",
    "<br></br>\n",
    "\n",
    "\n",
    "---\n",
    "\n",
    "> **Null hypothesis**:\n",
    "> \n",
    "> $H_0$ is a statement about the value of $\\theta$ under the most conservative assumptions.\n",
    "\n",
    "<br></br>\n",
    "\n",
    "\n",
    "---\n",
    "\n",
    "\n",
    "> **Alternate hypothesis**\n",
    ">\n",
    "> $H_a$ is a statement about the value of $\\theta$ you want to show evidence in favor of.\n",
    "\n",
    "<br></br>\n",
    "\n",
    "\n",
    "\n",
    "---\n",
    "\n",
    "\n",
    "> **Sample statistic**\n",
    ">\n",
    "> The sample statistic $\\hat\\theta$ is a function of the data that we use to estimate $\\theta$.\n",
    "\n",
    "<br></br>\n",
    "\n",
    "\n",
    "\n",
    "---\n",
    "\n",
    "> **Test statistic**\n",
    ">\n",
    "> $\\hat T = \\hat  T(X_1, X_2, \\dots, X_n)$ is a function of the data that we use to decide between $H_0$ and $H_a$.\n",
    "\n",
    "<br></br>\n",
    "\n",
    "---\n",
    "\n",
    "> **Rejection region**\n",
    ">\n",
    "> $R(\\hat T, \\alpha)$ is a set of values of $\\hat T$ for which we reject $H_0$.\n",
    "\n",
    "<br></br>\n",
    "\n",
    "---"
   ]
  },
  {
   "cell_type": "markdown",
   "id": "8947ed39",
   "metadata": {},
   "source": [
    "\n",
    "### Scenarios\n",
    "\n",
    "|👇 Decision / Truth 👉     | $H_0$ is true | $H_a$ is true|\n",
    "|:------------------------:|:-------------:|:-------------:|\n",
    "| **Fail to reject $H_0$** | Correct       | Type II error |\n",
    "| **Reject $H_0$**         | Type I error  | Correct       |"
   ]
  },
  {
   "cell_type": "markdown",
   "id": "4052aa19",
   "metadata": {},
   "source": [
    "\n",
    "> **Significance level**\n",
    ">\n",
    ">$\\alpha$ is the probability of making a type-I Error.\n",
    "\n",
    "$$\n",
    "\\alpha = \\pr\\Big( \\text{reject } H_0  \\ \\big| \\  H_0 \\text{ is true} \\Big)\n",
    "$$\n",
    "\n",
    "<br></br>\n",
    "\n",
    "---\n",
    "\n",
    ">**Power**\n",
    "> \n",
    "> $1 - \\beta$ is the probability making the right decision when $H_a$ is true\n",
    "\n",
    "$$\n",
    "1-\\beta = \\pr\\Big( \\text{reject } H_0  \\ \\big| \\  H_a \\text{ is true} \\Big)\n",
    "$$\n",
    "\n",
    "<br></br>"
   ]
  },
  {
   "cell_type": "markdown",
   "id": "6f645f77",
   "metadata": {},
   "source": [
    "\n",
    "### §1.1 Examples\n"
   ]
  },
  {
   "cell_type": "markdown",
   "id": "c1e7fb43",
   "metadata": {},
   "source": [
    "<br></br>\n",
    "\n",
    "---\n",
    "\n",
    "##### Example 1\n",
    "\n",
    "You are a student at UCSD and you want to know if students at UCSD get the minimum recommended amount of sleep per night (7 hours). \n",
    "\n",
    "* You take a random sample of 100 students and ask them how many hours of sleep they get per night.\n",
    "* You find that the average amount of sleep is 6.5 hours per night.\n",
    "* You want to know if this significant evidence that UCSD students get less than the recommended amount of sleep."
   ]
  },
  {
   "cell_type": "markdown",
   "id": "2bd1b3e0",
   "metadata": {},
   "source": [
    "Answer:\n",
    "\n",
    "| Anatomy of the hypothesis test |  Answer  |\n",
    "|:------------------------------:|:--------:|\n",
    "| Assumption                     | $X_1, X_2, \\dots, X_n \\sim N(\\mu, \\sigma^2)$ |\n",
    "| Population parameter           | $\\theta = \\mu$ |\n",
    "| Sample statistic               | $\\hat\\theta = \\overline{X}$ |\n",
    "| Test statistic                 | $T = \\displaystyle\\frac{\\hat\\theta - \\theta}{\\hat\\sigma / \\sqrt{n}} \\sim t_{n-1}$ |\n",
    "| Null hypothesis                | $H_0: \\theta = 7$ |\n",
    "| Alternate hypothesis           | $H_a: \\theta < 7$ |\n",
    "| Rejection region shape         | $(-\\infty, x_\\alpha)$ |"
   ]
  },
  {
   "cell_type": "markdown",
   "id": "4f501a14",
   "metadata": {},
   "source": [
    "<br></br>\n",
    "\n",
    "---\n",
    "\n",
    "##### Example 2\n",
    "\n",
    "You are a student at UCSD and you want to see if the number of students who use the RIMAC gym is different from the number of students who use the Main Gym.\n",
    "\n",
    "* You take a random sample of 100 students and ask them if they use the RIMAC gym or the Main Gym.\n",
    "* You find that 60 of the students use the RIMAC gym and 40 of the students use the Main Gym.\n",
    "* You want to know if this is evidence that the proportion of students who use the RIMAC gym is more from the number of students who use the Main Gym."
   ]
  },
  {
   "cell_type": "markdown",
   "id": "e4366796",
   "metadata": {},
   "source": [
    "Answer:\n",
    "\n",
    "| Anatomy of the hypothesis test |  Answer  |\n",
    "|:------------------------------:|:--------:|\n",
    "| Assumption                     | $X_1, X_2, \\dots, X_n \\sim \\Ber(p)$ |\n",
    "| Population parameter           | $\\theta = p$ |\n",
    "| Sample statistic               | $\\hat\\theta = \\overline{X}$ |\n",
    "| Test statistic                 | $T = \\displaystyle \\frac{\\hat\\theta - \\theta}{\\sqrt{\\frac{\\hat\\theta \\times (1-\\hat\\theta)}{n}}} \\approx N(0,1)$ |\n",
    "| Null hypothesis                | $H_0: \\theta = 0.5$ |\n",
    "| Alternate hypothesis           | $H_a: \\theta \\neq 0.5$ |\n",
    "| Rejection region shape         | $(-\\infty, -x_\\alpha) \\cup (x_\\alpha, \\infty)$ |"
   ]
  },
  {
   "cell_type": "markdown",
   "id": "9b3d9d72",
   "metadata": {},
   "source": [
    "<br></br>\n",
    "\n",
    "---\n",
    "\n",
    "##### Example 3\n",
    "\n",
    "You are a student at UCSD and you want to know if the proportion of left-handed students who are a part of a club is different from the proportion of right-handed students who are a part of a club.\n",
    "\n",
    "* You take a random sample of 20 left-handed students and 50 right-handed students and ask them if they are a part of a club.\n",
    "* You find that 10 of the left-handed students are a part of a club and 20 of the right-handed students are a part of a club.\n",
    "* You want to know if this is evidence that the proportion of left-handed students who are a part of a club is different from the proportion of right-handed students who are a part of a club."
   ]
  },
  {
   "cell_type": "markdown",
   "id": "57817bb8",
   "metadata": {},
   "source": [
    "Answer:\n",
    "\n",
    "| Anatomy of the hypothesis test |  Answer  |\n",
    "|:------------------------------:|:--------:|\n",
    "| Assumption                     | $X_1, X_2, \\dots, X_n \\sim \\Ber(p_X)$ and $Y_1, Y_2, \\dots, Y_n \\sim \\Ber(p_Y)$ |\n",
    "| Population parameter           | $\\theta = p_X - p_Y$ |\n",
    "| Sample statistic               | $\\hat\\theta = \\overline{X} - \\overline{Y}$ |\n",
    "| Test statistic                 | $\\displaystyle T = \\frac{\\hat\\theta - \\theta}{\\text{SE}} \\approx N(0, 1)$ |\n",
    "| Null hypothesis                | $H_0: \\theta = 0$ |\n",
    "| Alternate hypothesis           | $H_a: \\theta \\neq 0$ |\n",
    "| Rejection region shape         | $(-\\infty, -x_\\alpha) \\cup (x_\\alpha, \\infty)$ |\n",
    "\n",
    "\n",
    "$$\n",
    "\\se = \\sqrt{ \\frac{\\hat\\theta_X \\times (1-\\hat\\theta_X)}{n} + \\frac{\\hat\\theta_Y \\times (1-\\hat\\theta_Y)}{m}}\n",
    "$$"
   ]
  },
  {
   "cell_type": "markdown",
   "id": "5990c09d",
   "metadata": {},
   "source": [
    "<br></br>\n",
    "\n",
    "---\n",
    "\n",
    "##### Example 4\n",
    "\n",
    "You want to investigate whether freshmen at UCSD get more sleep than seniors at UCSD. \n",
    "\n",
    "* You take a random sample of 100 freshmen and 90 seniors and ask them how many hours of sleep they get per night.\n",
    "* You find that the average number of hours of sleep for freshmen is 7 hours and the average number of hours of sleep for seniors is 6 hours.\n",
    "* You want to know if this is evidence that the average number of hours of sleep for freshmen is greater than the average number of hours of sleep for seniors."
   ]
  },
  {
   "cell_type": "markdown",
   "id": "5727e62c",
   "metadata": {},
   "source": [
    "Answer:\n",
    "\n",
    "| Anatomy of the hypothesis test |  Answer  |\n",
    "|:------------------------------:|:--------:|\n",
    "| Assumption                     | $\\Xn \\sim N(\\mux, \\sx^2)$ and $\\Ym \\sim N(\\muy, \\sy^2)$ |\n",
    "| Population parameter           | $\\theta = \\mux - \\muy$ |\n",
    "| Sample statistic               | $\\hat\\theta = \\overline{X} - \\overline{Y}$ |\n",
    "| Test statistic                 | $T = \\displaystyle\\frac{\\hat\\theta - \\theta}{\\se} \\sim t_{n+m-2}$ |\n",
    "| Null hypothesis                | $H_0: \\theta = 0$ |\n",
    "| Alternate hypothesis           | $H_a: \\theta > 0$ |\n",
    "| Rejection region shape         | $(x_\\alpha, \\infty)$ |"
   ]
  },
  {
   "cell_type": "markdown",
   "id": "8251bf61",
   "metadata": {},
   "source": [
    "---"
   ]
  },
  {
   "cell_type": "markdown",
   "id": "c9b68001",
   "metadata": {},
   "source": [
    "## §2. One sample mean\n",
    "\n",
    "Suppose you ask a random sample of $n=15$ students at UCSD how many hours of sleep they get per night. "
   ]
  },
  {
   "cell_type": "code",
   "execution_count": 3,
   "id": "69527504",
   "metadata": {},
   "outputs": [],
   "source": [
    "TRUE_MU = 6.5\n",
    "MU_0 = 7"
   ]
  },
  {
   "cell_type": "code",
   "execution_count": 4,
   "id": "bcb572a6",
   "metadata": {},
   "outputs": [
    {
     "data": {
      "text/plain": [
       "array([6.43758633, 6.70293742, 5.28042134, 6.61138321, 7.91868839,\n",
       "       5.11089352, 6.14964967, 4.4037589 , 6.15219393, 8.15183777,\n",
       "       7.73319678, 6.26998823, 8.29087739, 6.93185839, 6.88896658])"
      ]
     },
     "execution_count": 4,
     "metadata": {},
     "output_type": "execute_result"
    }
   ],
   "source": [
    "def simulate_sleep_data(n):\n",
    "    return np.random.normal(TRUE_MU, 1, size=n)\n",
    "\n",
    "sleep_data = simulate_sleep_data(15)\n",
    "sleep_data"
   ]
  },
  {
   "cell_type": "markdown",
   "id": "cc29ae58",
   "metadata": {},
   "source": [
    "> ##### Sample statistic $\\hat\\theta$"
   ]
  },
  {
   "cell_type": "code",
   "execution_count": 5,
   "id": "dcb8f9d3",
   "metadata": {},
   "outputs": [
    {
     "data": {
      "text/plain": [
       "6.602282523841989"
      ]
     },
     "execution_count": 5,
     "metadata": {},
     "output_type": "execute_result"
    }
   ],
   "source": [
    "theta_hat = sleep_data.mean()\n",
    "theta_hat"
   ]
  },
  {
   "cell_type": "markdown",
   "id": "0172cb2b",
   "metadata": {},
   "source": [
    "> ##### Test statistic $T$"
   ]
  },
  {
   "cell_type": "markdown",
   "id": "b817e7c9",
   "metadata": {},
   "source": [
    "$$\n",
    "\\frac{\\hat\\mu - \\mu_{\\text{true}}}{\\hat\\sigma / \\sqrt{n}} \\sim t_{n-1}\n",
    "$$\n",
    "\n",
    "$$\n",
    "T_0 = \\frac{\\hat\\mu - \\mu_{\\text{0}}}{\\hat\\sigma / \\sqrt{n}} \\sim t_{n-1} \\tag{under $H_0$}\n",
    "$$"
   ]
  },
  {
   "cell_type": "markdown",
   "id": "78b3ce51",
   "metadata": {},
   "source": [
    "> ##### Question\n",
    "\n",
    "If the $H_0$ were true, then what would our test statistic have looked like?\n",
    "\n",
    "<br></br>"
   ]
  },
  {
   "cell_type": "markdown",
   "id": "652be10c",
   "metadata": {},
   "source": [
    "> #### Answer\n",
    "The statistic would have been one observation from the sampling distribution of the statistic under the null hypothesis $H_0$.\n",
    "\n",
    "$$\n",
    "\\frac{\\hat \\mu - \\mu_0 }{\\hat\\sigma/\\sqrt{n}} \\sim t_{n-1}\n",
    "$$"
   ]
  },
  {
   "cell_type": "code",
   "execution_count": 6,
   "id": "a543bf56",
   "metadata": {},
   "outputs": [],
   "source": [
    "def simulate_null_data(n):\n",
    "    return np.random.normal(MU_0, 1, size=n)\n",
    "\n",
    "\n",
    "num_experiments = 1000\n",
    "null_data_replications = [simulate_null_data(15) for _ in range(1000)]\n",
    "\n",
    "def sleep_T_hat(data, MU):\n",
    "    return (data.mean() - MU) / (data.std(ddof=1) / np.sqrt(len(data)))"
   ]
  },
  {
   "cell_type": "code",
   "execution_count": 7,
   "id": "24b9ae2c",
   "metadata": {},
   "outputs": [
    {
     "data": {
      "image/png": "[encoded data removed]",
      "text/plain": [
       "<Figure size 600x600 with 1 Axes>"
      ]
     },
     "metadata": {},
     "output_type": "display_data"
    }
   ],
   "source": [
    "fig, ax = plt.subplots(1, 1, figsize=(6, 6))\n",
    "ax. hist([sleep_T_hat(x, MU_0) for x in null_data_replications], bins=20, density=True)\n",
    "plot_X(stats.t(14), ax, type='pdf', color='black', alpha=1.0, lw=3)"
   ]
  },
  {
   "cell_type": "markdown",
   "id": "9c25917d",
   "metadata": {},
   "source": [
    "#### The observed test statistic $\\hat T$\n",
    "\n",
    "The observed test statistic which we got from the data is plotted in red."
   ]
  },
  {
   "cell_type": "code",
   "execution_count": 8,
   "id": "735fd426",
   "metadata": {},
   "outputs": [
    {
     "data": {
      "image/png": "[encoded data removed]",
      "text/plain": [
       "<Figure size 600x600 with 1 Axes>"
      ]
     },
     "execution_count": 8,
     "metadata": {},
     "output_type": "execute_result"
    }
   ],
   "source": [
    "t_hat = sleep_T_hat(sleep_data, MU_0)\n",
    "ax.vlines(t_hat, 0, 0.4, color='red', linestyles='--', lw=2)\n",
    "fig"
   ]
  },
  {
   "cell_type": "markdown",
   "id": "3f26e5b2",
   "metadata": {},
   "source": [
    "#### Rejection region under the null hypothesis\n",
    "\n",
    "$$\n",
    "\\begin{aligned}\n",
    "R(\\hat T, \\alpha) &= (-\\infty, -x_\\alpha) \\\\\n",
    "\\end{aligned}\n",
    "$$\n"
   ]
  },
  {
   "cell_type": "code",
   "execution_count": 9,
   "id": "3e4174b7",
   "metadata": {},
   "outputs": [
    {
     "data": {
      "application/vnd.jupyter.widget-view+json": {
       "model_id": "f2e278dc52254f2b964fe9a0df341fd2",
       "version_major": 2,
       "version_minor": 0
      },
      "text/plain": [
       "interactive(children=(FloatSlider(value=0.5, description='alpha', max=0.999, min=0.001, step=0.001), Output())…"
      ]
     },
     "metadata": {},
     "output_type": "display_data"
    }
   ],
   "source": [
    "@interact(alpha = (0.001, 0.999, 0.001))\n",
    "def rejection_region(alpha):\n",
    "    fig, ax = plt.subplots(1, 1, figsize=(6, 6))\n",
    "    # ax. hist([sleep_T_hat(x, MU_0) for x in null_data_replications], bins=20, density=True)\n",
    "    plot_X(stats.t(14), ax, type='pdf', color='black', alpha=1.0, lw=3)\n",
    "\n",
    "    ax.vlines(t_hat, 0, 0.4, color='red', linestyles='--', lw=2)\n",
    "    \n",
    "    x = np.linspace(-4, 4, 200)\n",
    "    ax.fill_between(x, 0, stats.t(14).pdf(x), where=x < stats.t(14).ppf(alpha), color='red', alpha=0.5)\n",
    "    ax.set_title(f'Rejection region for $\\\\alpha={alpha: .3f}$')\n",
    "    ax.set_xlim(-4, 4)\n",
    "    ax.set_ylim(0, 0.5)\n",
    "    plt.show()"
   ]
  },
  {
   "cell_type": "markdown",
   "id": "45cabf3d",
   "metadata": {},
   "source": [
    "> #### Question: For what value of $\\alpha$ is the observed $\\hat T$ in the rejection region?\n",
    "\n",
    "<br></br><br></br><br></br>"
   ]
  },
  {
   "cell_type": "markdown",
   "id": "f121fd3d",
   "metadata": {},
   "source": [
    "---\n",
    "\n",
    "\n",
    "### $p$-value"
   ]
  },
  {
   "cell_type": "markdown",
   "id": "564380e3",
   "metadata": {},
   "source": [
    "The $p$-value is the probability of observing a test statistic as extreme or more extreme than the one we observed under the null hypothesis. i.e., \n",
    "\n",
    "$$\n",
    "\\renewcommand{\\pvalue}{p-\\text{value}}\n",
    "\\pvalue = \\min\\Big\\{ \\alpha \\in (0, 1) : \\hat T \\in R(\\hat T, \\alpha) \\Big\\}\n",
    "$$\n",
    "\n",
    "Alternatively, if $T \\sim D(T_0)$ is the distribution of the test statistic under the null hypothesis, then\n",
    "\n",
    "$$\n",
    "\\pvalue = \\begin{cases}\n",
    "\\pr(D(T_0) \\le \\hat T) & \\text{if } H_0: \\theta < 0 \\\\\n",
    "\\pr(D(T_0) \\ge \\hat T) & \\text{if } H_0: \\theta > 0 \\\\\n",
    "2 \\times \\min\\Big\\{ \\pr(D(T_0) \\le \\hat T), \\pr(D(T_0) \\ge \\hat T) \\Big\\} & \\text{if } H_0: \\theta \\neq 0\n",
    "\\end{cases}\n",
    "$$\n"
   ]
  },
  {
   "cell_type": "code",
   "execution_count": 10,
   "id": "bc52c2b2",
   "metadata": {},
   "outputs": [
    {
     "data": {
      "text/plain": [
       "0.09682048058461787"
      ]
     },
     "execution_count": 10,
     "metadata": {},
     "output_type": "execute_result"
    }
   ],
   "source": [
    "DT_0 = stats.t(14)\n",
    "p_value = DT_0.cdf(t_hat)\n",
    "p_value"
   ]
  },
  {
   "cell_type": "markdown",
   "id": "152bd2d9",
   "metadata": {},
   "source": [
    "---"
   ]
  },
  {
   "cell_type": "markdown",
   "id": "aabedcef",
   "metadata": {},
   "source": [
    "this time we'll use the ``ttest_1samp`` function from ``scipy.stats``"
   ]
  },
  {
   "cell_type": "code",
   "execution_count": 11,
   "id": "8a976438",
   "metadata": {},
   "outputs": [],
   "source": [
    "# stats.ttest_1samp?"
   ]
  },
  {
   "cell_type": "code",
   "execution_count": 12,
   "id": "ad5483af",
   "metadata": {},
   "outputs": [
    {
     "data": {
      "text/plain": [
       "TtestResult(statistic=-1.3654817234232886, pvalue=0.09682048058461787, df=14)"
      ]
     },
     "execution_count": 12,
     "metadata": {},
     "output_type": "execute_result"
    }
   ],
   "source": [
    "stats.ttest_1samp(sleep_data, MU_0, alternative='less')"
   ]
  },
  {
   "cell_type": "markdown",
   "id": "0c2e453e",
   "metadata": {},
   "source": [
    "---"
   ]
  },
  {
   "cell_type": "markdown",
   "id": "41c9206d",
   "metadata": {},
   "source": [
    "# Example 1\n",
    "\n",
    "> `mtcars` dataset from `statsmodels.api.datasets`"
   ]
  },
  {
   "cell_type": "code",
   "execution_count": 13,
   "id": "65453554",
   "metadata": {},
   "outputs": [],
   "source": [
    "mtcars = sm.datasets.get_rdataset('mtcars', 'datasets')\n",
    "# print(mtcars.__doc__)"
   ]
  },
  {
   "cell_type": "code",
   "execution_count": 14,
   "id": "552e70de",
   "metadata": {},
   "outputs": [
    {
     "data": {
      "text/html": [
       "<div>\n",
       "<style scoped>\n",
       "    .dataframe tbody tr th:only-of-type {\n",
       "        vertical-align: middle;\n",
       "    }\n",
       "\n",
       "    .dataframe tbody tr th {\n",
       "        vertical-align: top;\n",
       "    }\n",
       "\n",
       "    .dataframe thead th {\n",
       "        text-align: right;\n",
       "    }\n",
       "</style>\n",
       "<table border=\"1\" class=\"dataframe\">\n",
       "  <thead>\n",
       "    <tr style=\"text-align: right;\">\n",
       "      <th></th>\n",
       "      <th>mpg</th>\n",
       "      <th>cyl</th>\n",
       "      <th>disp</th>\n",
       "      <th>hp</th>\n",
       "      <th>drat</th>\n",
       "      <th>wt</th>\n",
       "      <th>qsec</th>\n",
       "      <th>vs</th>\n",
       "      <th>am</th>\n",
       "      <th>gear</th>\n",
       "      <th>carb</th>\n",
       "    </tr>\n",
       "    <tr>\n",
       "      <th>rownames</th>\n",
       "      <th></th>\n",
       "      <th></th>\n",
       "      <th></th>\n",
       "      <th></th>\n",
       "      <th></th>\n",
       "      <th></th>\n",
       "      <th></th>\n",
       "      <th></th>\n",
       "      <th></th>\n",
       "      <th></th>\n",
       "      <th></th>\n",
       "    </tr>\n",
       "  </thead>\n",
       "  <tbody>\n",
       "    <tr>\n",
       "      <th>Mazda RX4</th>\n",
       "      <td>21.0</td>\n",
       "      <td>6</td>\n",
       "      <td>160.0</td>\n",
       "      <td>110</td>\n",
       "      <td>3.90</td>\n",
       "      <td>2.620</td>\n",
       "      <td>16.46</td>\n",
       "      <td>0</td>\n",
       "      <td>1</td>\n",
       "      <td>4</td>\n",
       "      <td>4</td>\n",
       "    </tr>\n",
       "    <tr>\n",
       "      <th>Mazda RX4 Wag</th>\n",
       "      <td>21.0</td>\n",
       "      <td>6</td>\n",
       "      <td>160.0</td>\n",
       "      <td>110</td>\n",
       "      <td>3.90</td>\n",
       "      <td>2.875</td>\n",
       "      <td>17.02</td>\n",
       "      <td>0</td>\n",
       "      <td>1</td>\n",
       "      <td>4</td>\n",
       "      <td>4</td>\n",
       "    </tr>\n",
       "    <tr>\n",
       "      <th>Datsun 710</th>\n",
       "      <td>22.8</td>\n",
       "      <td>4</td>\n",
       "      <td>108.0</td>\n",
       "      <td>93</td>\n",
       "      <td>3.85</td>\n",
       "      <td>2.320</td>\n",
       "      <td>18.61</td>\n",
       "      <td>1</td>\n",
       "      <td>1</td>\n",
       "      <td>4</td>\n",
       "      <td>1</td>\n",
       "    </tr>\n",
       "    <tr>\n",
       "      <th>Hornet 4 Drive</th>\n",
       "      <td>21.4</td>\n",
       "      <td>6</td>\n",
       "      <td>258.0</td>\n",
       "      <td>110</td>\n",
       "      <td>3.08</td>\n",
       "      <td>3.215</td>\n",
       "      <td>19.44</td>\n",
       "      <td>1</td>\n",
       "      <td>0</td>\n",
       "      <td>3</td>\n",
       "      <td>1</td>\n",
       "    </tr>\n",
       "    <tr>\n",
       "      <th>Hornet Sportabout</th>\n",
       "      <td>18.7</td>\n",
       "      <td>8</td>\n",
       "      <td>360.0</td>\n",
       "      <td>175</td>\n",
       "      <td>3.15</td>\n",
       "      <td>3.440</td>\n",
       "      <td>17.02</td>\n",
       "      <td>0</td>\n",
       "      <td>0</td>\n",
       "      <td>3</td>\n",
       "      <td>2</td>\n",
       "    </tr>\n",
       "  </tbody>\n",
       "</table>\n",
       "</div>"
      ],
      "text/plain": [
       "                    mpg  cyl   disp   hp  drat     wt   qsec  vs  am  gear  \\\n",
       "rownames                                                                     \n",
       "Mazda RX4          21.0    6  160.0  110  3.90  2.620  16.46   0   1     4   \n",
       "Mazda RX4 Wag      21.0    6  160.0  110  3.90  2.875  17.02   0   1     4   \n",
       "Datsun 710         22.8    4  108.0   93  3.85  2.320  18.61   1   1     4   \n",
       "Hornet 4 Drive     21.4    6  258.0  110  3.08  3.215  19.44   1   0     3   \n",
       "Hornet Sportabout  18.7    8  360.0  175  3.15  3.440  17.02   0   0     3   \n",
       "\n",
       "                   carb  \n",
       "rownames                 \n",
       "Mazda RX4             4  \n",
       "Mazda RX4 Wag         4  \n",
       "Datsun 710            1  \n",
       "Hornet 4 Drive        1  \n",
       "Hornet Sportabout     2  "
      ]
     },
     "execution_count": 14,
     "metadata": {},
     "output_type": "execute_result"
    }
   ],
   "source": [
    "df = mtcars.data\n",
    "df.head(5)"
   ]
  },
  {
   "cell_type": "markdown",
   "id": "5620ad47",
   "metadata": {},
   "source": [
    "### Question 1:\n",
    "\n",
    "Is the average miles per gallon for cars in the `mtcars` dataset different from 20 mpg?"
   ]
  },
  {
   "cell_type": "markdown",
   "id": "00c3d48b",
   "metadata": {},
   "source": [
    "| Anatomy of the hypothesis test |  Answer  |\n",
    "|:------------------------------:|:--------:|\n",
    "| Assumption                     | $X_1, X_2, \\dots, X_n \\sim N(\\mu, \\sigma^2)$ |\n",
    "| Population parameter           | $\\theta = \\mu$ |\n",
    "| Sample statistic               | $\\hat\\theta = \\overline{X}$ |\n",
    "| Test statistic                 | $\\displaystyle T = \\frac{\\hat\\theta - \\theta}{\\text{SE}} \\approx t_{n-1}$ |\n",
    "| Null hypothesis                | $H_0: \\theta = 20$ |\n",
    "| Alternate hypothesis           | $H_a: \\theta \\neq 20$ |\n",
    "| Rejection region shape         | $(-\\infty, -x_\\alpha) \\cup (x_\\alpha, \\infty)$ |"
   ]
  },
  {
   "cell_type": "code",
   "execution_count": 15,
   "id": "79f1bb29",
   "metadata": {},
   "outputs": [
    {
     "data": {
      "text/plain": [
       "TtestResult(statistic=0.08506003568133688, pvalue=0.9327606409093872, df=31)"
      ]
     },
     "execution_count": 15,
     "metadata": {},
     "output_type": "execute_result"
    }
   ],
   "source": [
    "stats.ttest_1samp(df['mpg'], 20, alternative='two-sided')"
   ]
  },
  {
   "cell_type": "markdown",
   "id": "91d26efb",
   "metadata": {},
   "source": [
    "#### Question 2\n",
    "\n",
    "Are cars with 4 cylinders more fuel efficient than cars with 8 cylinders?"
   ]
  },
  {
   "cell_type": "markdown",
   "id": "1c7fd394",
   "metadata": {},
   "source": [
    "| Anatomy of the hypothesis test |  Answer  |\n",
    "|:------------------------------:|:--------:|\n",
    "| Assumption                     | $\\Xn \\sim N(\\mux, \\sx^2)$ and $\\Ym \\sim N(\\muy, \\sy^2)$ |\n",
    "| Population parameter           | $\\theta = \\mux - \\muy$ |\n",
    "| Sample statistic               | $\\hat\\theta = \\overline{X} - \\overline{Y}$ |\n",
    "| Test statistic                 | $T = \\displaystyle\\frac{\\hat\\theta - \\theta}{\\se} \\sim t_{k}$ |\n",
    "| Null hypothesis                | $H_0: \\theta = 0$ |\n",
    "| Alternate hypothesis           | $H_a: \\theta > 0$ |\n",
    "| Rejection region shape         | $(x_\\alpha, \\infty)$ |"
   ]
  },
  {
   "cell_type": "code",
   "execution_count": 16,
   "id": "037857c7",
   "metadata": {},
   "outputs": [],
   "source": [
    "# stats.ttest_ind?"
   ]
  },
  {
   "cell_type": "code",
   "execution_count": 17,
   "id": "53d04f09",
   "metadata": {},
   "outputs": [
    {
     "name": "stderr",
     "output_type": "stream",
     "text": [
      "/Users/svishwanath/mambaforge/envs/math189/lib/python3.12/site-packages/seaborn/categorical.py:640: FutureWarning: SeriesGroupBy.grouper is deprecated and will be removed in a future version of pandas.\n",
      "  positions = grouped.grouper.result_index.to_numpy(dtype=float)\n"
     ]
    },
    {
     "data": {
      "text/plain": [
       "<Axes: xlabel='cyl', ylabel='mpg'>"
      ]
     },
     "execution_count": 17,
     "metadata": {},
     "output_type": "execute_result"
    },
    {
     "data": {
      "image/png": "[encoded data removed]",
      "text/plain": [
       "<Figure size 640x480 with 1 Axes>"
      ]
     },
     "metadata": {},
     "output_type": "display_data"
    }
   ],
   "source": [
    "sns.boxplot(x='cyl', y='mpg', data=df)"
   ]
  },
  {
   "cell_type": "code",
   "execution_count": 18,
   "id": "845756c7",
   "metadata": {},
   "outputs": [
    {
     "data": {
      "text/plain": [
       "TtestResult(statistic=8.102358987762017, pvalue=1.7231094747136172e-08, df=23.0)"
      ]
     },
     "execution_count": 18,
     "metadata": {},
     "output_type": "execute_result"
    }
   ],
   "source": [
    "stats.ttest_ind(\n",
    "    df[df['cyl'] == 4]['mpg'], \n",
    "    df[df['cyl'] == 8]['mpg'], \n",
    "    equal_var=True,\n",
    "    alternative='greater'\n",
    ")"
   ]
  },
  {
   "cell_type": "markdown",
   "id": "44374272",
   "metadata": {},
   "source": [
    "---"
   ]
  },
  {
   "cell_type": "markdown",
   "id": "10c11991",
   "metadata": {},
   "source": [
    "# Example 2\n",
    "\n",
    "We will use the `covid-19` dataset from this [excellent source](https://vincentarelbundock.github.io/Rdatasets/articles/data.html)."
   ]
  },
  {
   "cell_type": "code",
   "execution_count": 19,
   "id": "efd1c2eb",
   "metadata": {},
   "outputs": [
    {
     "data": {
      "text/html": [
       "<div>\n",
       "<style scoped>\n",
       "    .dataframe tbody tr th:only-of-type {\n",
       "        vertical-align: middle;\n",
       "    }\n",
       "\n",
       "    .dataframe tbody tr th {\n",
       "        vertical-align: top;\n",
       "    }\n",
       "\n",
       "    .dataframe thead th {\n",
       "        text-align: right;\n",
       "    }\n",
       "</style>\n",
       "<table border=\"1\" class=\"dataframe\">\n",
       "  <thead>\n",
       "    <tr style=\"text-align: right;\">\n",
       "      <th></th>\n",
       "      <th>subject_id</th>\n",
       "      <th>fake_first_name</th>\n",
       "      <th>fake_last_name</th>\n",
       "      <th>gender</th>\n",
       "      <th>pan_day</th>\n",
       "      <th>test_id</th>\n",
       "      <th>clinic_name</th>\n",
       "      <th>result</th>\n",
       "      <th>demo_group</th>\n",
       "      <th>age</th>\n",
       "      <th>drive_thru_ind</th>\n",
       "      <th>ct_result</th>\n",
       "      <th>orderset</th>\n",
       "      <th>payor_group</th>\n",
       "      <th>patient_class</th>\n",
       "      <th>col_rec_tat</th>\n",
       "      <th>rec_ver_tat</th>\n",
       "    </tr>\n",
       "    <tr>\n",
       "      <th>rownames</th>\n",
       "      <th></th>\n",
       "      <th></th>\n",
       "      <th></th>\n",
       "      <th></th>\n",
       "      <th></th>\n",
       "      <th></th>\n",
       "      <th></th>\n",
       "      <th></th>\n",
       "      <th></th>\n",
       "      <th></th>\n",
       "      <th></th>\n",
       "      <th></th>\n",
       "      <th></th>\n",
       "      <th></th>\n",
       "      <th></th>\n",
       "      <th></th>\n",
       "      <th></th>\n",
       "    </tr>\n",
       "  </thead>\n",
       "  <tbody>\n",
       "    <tr>\n",
       "      <th>1</th>\n",
       "      <td>1412</td>\n",
       "      <td>jhezane</td>\n",
       "      <td>westerling</td>\n",
       "      <td>female</td>\n",
       "      <td>4</td>\n",
       "      <td>covid</td>\n",
       "      <td>inpatient ward a</td>\n",
       "      <td>negative</td>\n",
       "      <td>patient</td>\n",
       "      <td>0.0</td>\n",
       "      <td>0</td>\n",
       "      <td>45.0</td>\n",
       "      <td>0</td>\n",
       "      <td>government</td>\n",
       "      <td>inpatient</td>\n",
       "      <td>1.4</td>\n",
       "      <td>5.2</td>\n",
       "    </tr>\n",
       "    <tr>\n",
       "      <th>2</th>\n",
       "      <td>533</td>\n",
       "      <td>penny</td>\n",
       "      <td>targaryen</td>\n",
       "      <td>female</td>\n",
       "      <td>7</td>\n",
       "      <td>covid</td>\n",
       "      <td>clinical lab</td>\n",
       "      <td>negative</td>\n",
       "      <td>patient</td>\n",
       "      <td>0.0</td>\n",
       "      <td>1</td>\n",
       "      <td>45.0</td>\n",
       "      <td>0</td>\n",
       "      <td>commercial</td>\n",
       "      <td>not applicable</td>\n",
       "      <td>2.3</td>\n",
       "      <td>5.8</td>\n",
       "    </tr>\n",
       "    <tr>\n",
       "      <th>3</th>\n",
       "      <td>9134</td>\n",
       "      <td>grunt</td>\n",
       "      <td>rivers</td>\n",
       "      <td>male</td>\n",
       "      <td>7</td>\n",
       "      <td>covid</td>\n",
       "      <td>clinical lab</td>\n",
       "      <td>negative</td>\n",
       "      <td>patient</td>\n",
       "      <td>0.8</td>\n",
       "      <td>1</td>\n",
       "      <td>45.0</td>\n",
       "      <td>1</td>\n",
       "      <td>NaN</td>\n",
       "      <td>NaN</td>\n",
       "      <td>7.3</td>\n",
       "      <td>4.7</td>\n",
       "    </tr>\n",
       "    <tr>\n",
       "      <th>4</th>\n",
       "      <td>8518</td>\n",
       "      <td>melisandre</td>\n",
       "      <td>swyft</td>\n",
       "      <td>female</td>\n",
       "      <td>8</td>\n",
       "      <td>covid</td>\n",
       "      <td>clinical lab</td>\n",
       "      <td>negative</td>\n",
       "      <td>patient</td>\n",
       "      <td>0.8</td>\n",
       "      <td>1</td>\n",
       "      <td>45.0</td>\n",
       "      <td>1</td>\n",
       "      <td>NaN</td>\n",
       "      <td>NaN</td>\n",
       "      <td>5.8</td>\n",
       "      <td>5.0</td>\n",
       "    </tr>\n",
       "    <tr>\n",
       "      <th>5</th>\n",
       "      <td>8967</td>\n",
       "      <td>rolley</td>\n",
       "      <td>karstark</td>\n",
       "      <td>male</td>\n",
       "      <td>8</td>\n",
       "      <td>covid</td>\n",
       "      <td>emergency dept</td>\n",
       "      <td>negative</td>\n",
       "      <td>patient</td>\n",
       "      <td>0.8</td>\n",
       "      <td>0</td>\n",
       "      <td>45.0</td>\n",
       "      <td>1</td>\n",
       "      <td>government</td>\n",
       "      <td>emergency</td>\n",
       "      <td>1.2</td>\n",
       "      <td>6.4</td>\n",
       "    </tr>\n",
       "    <tr>\n",
       "      <th>6</th>\n",
       "      <td>11048</td>\n",
       "      <td>megga</td>\n",
       "      <td>karstark</td>\n",
       "      <td>female</td>\n",
       "      <td>8</td>\n",
       "      <td>covid</td>\n",
       "      <td>oncology day hosp</td>\n",
       "      <td>negative</td>\n",
       "      <td>patient</td>\n",
       "      <td>0.8</td>\n",
       "      <td>0</td>\n",
       "      <td>45.0</td>\n",
       "      <td>0</td>\n",
       "      <td>commercial</td>\n",
       "      <td>recurring outpatient</td>\n",
       "      <td>1.4</td>\n",
       "      <td>7.0</td>\n",
       "    </tr>\n",
       "    <tr>\n",
       "      <th>7</th>\n",
       "      <td>663</td>\n",
       "      <td>ithoke</td>\n",
       "      <td>targaryen</td>\n",
       "      <td>male</td>\n",
       "      <td>9</td>\n",
       "      <td>covid</td>\n",
       "      <td>clinical lab</td>\n",
       "      <td>negative</td>\n",
       "      <td>patient</td>\n",
       "      <td>0.8</td>\n",
       "      <td>1</td>\n",
       "      <td>45.0</td>\n",
       "      <td>1</td>\n",
       "      <td>NaN</td>\n",
       "      <td>NaN</td>\n",
       "      <td>2.6</td>\n",
       "      <td>4.2</td>\n",
       "    </tr>\n",
       "    <tr>\n",
       "      <th>8</th>\n",
       "      <td>2158</td>\n",
       "      <td>ravella</td>\n",
       "      <td>frey</td>\n",
       "      <td>female</td>\n",
       "      <td>9</td>\n",
       "      <td>covid</td>\n",
       "      <td>emergency dept</td>\n",
       "      <td>negative</td>\n",
       "      <td>patient</td>\n",
       "      <td>0.0</td>\n",
       "      <td>0</td>\n",
       "      <td>45.0</td>\n",
       "      <td>1</td>\n",
       "      <td>government</td>\n",
       "      <td>inpatient</td>\n",
       "      <td>0.7</td>\n",
       "      <td>6.3</td>\n",
       "    </tr>\n",
       "    <tr>\n",
       "      <th>9</th>\n",
       "      <td>3794</td>\n",
       "      <td>styr</td>\n",
       "      <td>tyrell</td>\n",
       "      <td>male</td>\n",
       "      <td>9</td>\n",
       "      <td>covid</td>\n",
       "      <td>clinical lab</td>\n",
       "      <td>negative</td>\n",
       "      <td>patient</td>\n",
       "      <td>0.0</td>\n",
       "      <td>1</td>\n",
       "      <td>45.0</td>\n",
       "      <td>1</td>\n",
       "      <td>NaN</td>\n",
       "      <td>NaN</td>\n",
       "      <td>1.0</td>\n",
       "      <td>5.6</td>\n",
       "    </tr>\n",
       "    <tr>\n",
       "      <th>10</th>\n",
       "      <td>4706</td>\n",
       "      <td>wynafryd</td>\n",
       "      <td>seaworth</td>\n",
       "      <td>male</td>\n",
       "      <td>9</td>\n",
       "      <td>covid</td>\n",
       "      <td>clinical lab</td>\n",
       "      <td>negative</td>\n",
       "      <td>patient</td>\n",
       "      <td>0.9</td>\n",
       "      <td>1</td>\n",
       "      <td>45.0</td>\n",
       "      <td>1</td>\n",
       "      <td>NaN</td>\n",
       "      <td>NaN</td>\n",
       "      <td>7.1</td>\n",
       "      <td>7.0</td>\n",
       "    </tr>\n",
       "  </tbody>\n",
       "</table>\n",
       "</div>"
      ],
      "text/plain": [
       "          subject_id fake_first_name fake_last_name  gender  pan_day test_id  \\\n",
       "rownames                                                                       \n",
       "1               1412         jhezane     westerling  female        4   covid   \n",
       "2                533           penny      targaryen  female        7   covid   \n",
       "3               9134           grunt         rivers    male        7   covid   \n",
       "4               8518      melisandre          swyft  female        8   covid   \n",
       "5               8967          rolley       karstark    male        8   covid   \n",
       "6              11048           megga       karstark  female        8   covid   \n",
       "7                663          ithoke      targaryen    male        9   covid   \n",
       "8               2158         ravella           frey  female        9   covid   \n",
       "9               3794            styr         tyrell    male        9   covid   \n",
       "10              4706        wynafryd       seaworth    male        9   covid   \n",
       "\n",
       "                clinic_name    result demo_group  age  drive_thru_ind  \\\n",
       "rownames                                                                \n",
       "1          inpatient ward a  negative    patient  0.0               0   \n",
       "2              clinical lab  negative    patient  0.0               1   \n",
       "3              clinical lab  negative    patient  0.8               1   \n",
       "4              clinical lab  negative    patient  0.8               1   \n",
       "5            emergency dept  negative    patient  0.8               0   \n",
       "6         oncology day hosp  negative    patient  0.8               0   \n",
       "7              clinical lab  negative    patient  0.8               1   \n",
       "8            emergency dept  negative    patient  0.0               0   \n",
       "9              clinical lab  negative    patient  0.0               1   \n",
       "10             clinical lab  negative    patient  0.9               1   \n",
       "\n",
       "          ct_result  orderset payor_group         patient_class  col_rec_tat  \\\n",
       "rownames                                                                       \n",
       "1              45.0         0  government             inpatient          1.4   \n",
       "2              45.0         0  commercial        not applicable          2.3   \n",
       "3              45.0         1         NaN                   NaN          7.3   \n",
       "4              45.0         1         NaN                   NaN          5.8   \n",
       "5              45.0         1  government             emergency          1.2   \n",
       "6              45.0         0  commercial  recurring outpatient          1.4   \n",
       "7              45.0         1         NaN                   NaN          2.6   \n",
       "8              45.0         1  government             inpatient          0.7   \n",
       "9              45.0         1         NaN                   NaN          1.0   \n",
       "10             45.0         1         NaN                   NaN          7.1   \n",
       "\n",
       "          rec_ver_tat  \n",
       "rownames               \n",
       "1                 5.2  \n",
       "2                 5.8  \n",
       "3                 4.7  \n",
       "4                 5.0  \n",
       "5                 6.4  \n",
       "6                 7.0  \n",
       "7                 4.2  \n",
       "8                 6.3  \n",
       "9                 5.6  \n",
       "10                7.0  "
      ]
     },
     "execution_count": 19,
     "metadata": {},
     "output_type": "execute_result"
    }
   ],
   "source": [
    "url = 'https://vincentarelbundock.github.io/Rdatasets/csv/medicaldata/covid_testing.csv'\n",
    "df = pd.read_csv(url, index_col=0)\n",
    "df.head(10)\n",
    "# df.columns"
   ]
  },
  {
   "cell_type": "markdown",
   "id": "62a3b38b",
   "metadata": {},
   "source": [
    "The description of the dataset is here: [https://vincentarelbundock.github.io/Rdatasets/doc/medicaldata/covid_testing.html](https://vincentarelbundock.github.io/Rdatasets/doc/medicaldata/covid_testing.html)"
   ]
  },
  {
   "cell_type": "markdown",
   "id": "c8a6617c",
   "metadata": {},
   "source": [
    "#### Question 1:\n",
    "\n",
    "Do the number of positive COVID-19 tests in the `covid-19` exceed 5%?\n",
    "\n",
    "<br></br><br></br><br></br><br></br>"
   ]
  },
  {
   "cell_type": "markdown",
   "id": "22770e85",
   "metadata": {},
   "source": [
    "> Not all tests in the dataset are COVID tests. We need to first remove them."
   ]
  },
  {
   "cell_type": "code",
   "execution_count": 20,
   "id": "81d82fb5",
   "metadata": {},
   "outputs": [
    {
     "data": {
      "text/plain": [
       "array(['covid'], dtype=object)"
      ]
     },
     "execution_count": 20,
     "metadata": {},
     "output_type": "execute_result"
    }
   ],
   "source": [
    "df.value_counts('test_id')\n",
    "df = df[df.test_id == 'covid']\n",
    "df.test_id.unique()"
   ]
  },
  {
   "cell_type": "markdown",
   "id": "afae62b6",
   "metadata": {},
   "source": [
    "> Not all covid tests are valid. We can remove them as well. "
   ]
  },
  {
   "cell_type": "code",
   "execution_count": 21,
   "id": "efbdeb77",
   "metadata": {},
   "outputs": [
    {
     "data": {
      "text/plain": [
       "result\n",
       "negative    14356\n",
       "positive      865\n",
       "invalid       301\n",
       "Name: count, dtype: int64"
      ]
     },
     "execution_count": 21,
     "metadata": {},
     "output_type": "execute_result"
    }
   ],
   "source": [
    "df.value_counts('result')"
   ]
  },
  {
   "cell_type": "code",
   "execution_count": 22,
   "id": "e822d274",
   "metadata": {},
   "outputs": [
    {
     "data": {
      "text/plain": [
       "result\n",
       "negative    14356\n",
       "positive      865\n",
       "Name: count, dtype: int64"
      ]
     },
     "execution_count": 22,
     "metadata": {},
     "output_type": "execute_result"
    }
   ],
   "source": [
    "df = df[\n",
    "    df['result'].isin(['positive', 'negative'])\n",
    "]\n",
    "df.value_counts('result')"
   ]
  },
  {
   "cell_type": "markdown",
   "id": "d6cd728f",
   "metadata": {},
   "source": [
    "> Visulaizing the data"
   ]
  },
  {
   "cell_type": "code",
   "execution_count": 23,
   "id": "26687149",
   "metadata": {},
   "outputs": [
    {
     "data": {
      "text/plain": [
       "<matplotlib.collections.LineCollection at 0x12306e3c0>"
      ]
     },
     "execution_count": 23,
     "metadata": {},
     "output_type": "execute_result"
    },
    {
     "data": {
      "image/png": "[encoded data removed]",
      "text/plain": [
       "<Figure size 600x600 with 1 Axes>"
      ]
     },
     "metadata": {},
     "output_type": "display_data"
    }
   ],
   "source": [
    "fig, ax = plt.subplots(1, 1, figsize=(6, 6))\n",
    "sns.countplot(x='result', data=df, stat='percent', ax=ax)\n",
    "ax.hlines(5, -0.5, 1.5, color='red', linestyles='--')"
   ]
  },
  {
   "cell_type": "markdown",
   "id": "60e778eb",
   "metadata": {},
   "source": [
    "> One sample proportion test"
   ]
  },
  {
   "cell_type": "code",
   "execution_count": 24,
   "id": "4c467f3c-2004-4415-a226-2ba3196bf820",
   "metadata": {},
   "outputs": [],
   "source": [
    "# statsmodels.stats.proportion.proportions_ztest?"
   ]
  },
  {
   "cell_type": "code",
   "execution_count": 25,
   "id": "dc658a34",
   "metadata": {},
   "outputs": [
    {
     "data": {
      "text/plain": [
       "(3.6393289157411104, 0.0001366747365646764)"
      ]
     },
     "execution_count": 25,
     "metadata": {},
     "output_type": "execute_result"
    }
   ],
   "source": [
    "statsmodels.stats.proportion.proportions_ztest(\n",
    "    count = df['result'].map(lambda x: x == 'positive').sum(),\n",
    "    nobs = df.shape[0],\n",
    "    value = 0.05,\n",
    "    alternative = 'larger'\n",
    ")"
   ]
  },
  {
   "cell_type": "markdown",
   "id": "2b1127f8",
   "metadata": {},
   "source": [
    "#### Question 2:\n",
    "\n",
    "Do drive-through tests have a higher proportion of positive COVID-19 tests than walk-in tests?"
   ]
  },
  {
   "cell_type": "code",
   "execution_count": 26,
   "id": "a07e6336-3a0b-4c31-a632-c4942d22d19c",
   "metadata": {},
   "outputs": [
    {
     "data": {
      "text/html": [
       "<div>\n",
       "<style scoped>\n",
       "    .dataframe tbody tr th:only-of-type {\n",
       "        vertical-align: middle;\n",
       "    }\n",
       "\n",
       "    .dataframe tbody tr th {\n",
       "        vertical-align: top;\n",
       "    }\n",
       "\n",
       "    .dataframe thead th {\n",
       "        text-align: right;\n",
       "    }\n",
       "</style>\n",
       "<table border=\"1\" class=\"dataframe\">\n",
       "  <thead>\n",
       "    <tr style=\"text-align: right;\">\n",
       "      <th>result</th>\n",
       "      <th>negative</th>\n",
       "      <th>positive</th>\n",
       "    </tr>\n",
       "    <tr>\n",
       "      <th>drive_thru_ind</th>\n",
       "      <th></th>\n",
       "      <th></th>\n",
       "    </tr>\n",
       "  </thead>\n",
       "  <tbody>\n",
       "    <tr>\n",
       "      <th>0</th>\n",
       "      <td>0.457657</td>\n",
       "      <td>0.02536</td>\n",
       "    </tr>\n",
       "    <tr>\n",
       "      <th>1</th>\n",
       "      <td>0.485513</td>\n",
       "      <td>0.03147</td>\n",
       "    </tr>\n",
       "  </tbody>\n",
       "</table>\n",
       "</div>"
      ],
      "text/plain": [
       "result          negative  positive\n",
       "drive_thru_ind                    \n",
       "0               0.457657   0.02536\n",
       "1               0.485513   0.03147"
      ]
     },
     "execution_count": 26,
     "metadata": {},
     "output_type": "execute_result"
    }
   ],
   "source": [
    "pd.crosstab(df['drive_thru_ind'], df['result']) / df.shape[0]"
   ]
  },
  {
   "cell_type": "markdown",
   "id": "aeb7428d",
   "metadata": {},
   "source": [
    "> Two sample proportion test"
   ]
  },
  {
   "cell_type": "code",
   "execution_count": 27,
   "id": "0e301797-11af-4fe7-b3b3-97e10c3667c5",
   "metadata": {},
   "outputs": [
    {
     "data": {
      "text/plain": [
       "(3.2594197080618814, 0.0005582018792729656)"
      ]
     },
     "execution_count": 27,
     "metadata": {},
     "output_type": "execute_result"
    }
   ],
   "source": [
    "statsmodels.stats.proportion.proportions_ztest(\n",
    "    count = [\n",
    "        df[df['drive_thru_ind'] == 1]['result'].map(lambda x: x == 'positive').sum(),\n",
    "        df[df['drive_thru_ind'] == 0]['result'].map(lambda x: x == 'positive').sum()\n",
    "    ],\n",
    "    nobs = [\n",
    "        df[df['drive_thru_ind'] == 0].shape[0],\n",
    "        df[df['drive_thru_ind'] == 0].shape[0]\n",
    "    ],\n",
    "    value = 0.0,\n",
    "    alternative = 'larger'\n",
    ")"
   ]
  },
  {
   "cell_type": "markdown",
   "id": "588b8cbe",
   "metadata": {},
   "source": [
    "---\n",
    "\n",
    "<br></br><br></br><br></br><br></br><br></br>"
   ]
  },
  {
   "cell_type": "markdown",
   "id": "a06dcfdc",
   "metadata": {},
   "source": [
    "# §3. More parametric hypothesis tests\n",
    "\n",
    "* Goodness of fit test\n",
    "* Test for independence\n",
    "* Test for homogeneity\n",
    "\n",
    "\n",
    "<br></br><br></br>"
   ]
  },
  {
   "cell_type": "markdown",
   "id": "bb20fa83",
   "metadata": {},
   "source": [
    "---\n",
    "\n",
    "## §3.1 Goodness of fit test\n",
    "\n",
    "Suppose we have a categorical variable $X$ with $k$ categories. We want to test if the observed frequencies of the categories are consistent with some expected frequencies.\n",
    "\n",
    "\n",
    "| Category | Observed Frequency | Expected Frequency |\n",
    "|:--------:|:-------------------:|:-------------------:|\n",
    "| 1        | $O_1$               | $E_1$               |\n",
    "| 2        | $O_2$               | $E_2$               |\n",
    "| $\\vdots$ | $\\vdots$            | $\\vdots$            |\n",
    "| $k$      | $O_k$               | $E_k$               |"
   ]
  },
  {
   "cell_type": "markdown",
   "id": "2042f292",
   "metadata": {},
   "source": [
    "> ##### Question: What is an appropriate model for the expected frequencies?\n",
    "\n",
    "<br></br><br></br><br></br><br></br>\n",
    "\n",
    "> ##### Answer: The categorical and the multinomial distribution\n",
    "\n",
    "\n",
    "<br></br><br></br>\n",
    "\n",
    "> Categorical distribution\n",
    "\n",
    "A random variable $X \\sim \\text{Categorical}(\\piv)$ has a categorical distribution with parameters $\\piv = (p_1, p_2, \\dots, p_k)$ if\n",
    "\n",
    "$$\n",
    "\\begin{aligned}\n",
    "\\pr(X = i) &= p_i \\quad \\quad \\text{for } i = 1, 2, \\dots, k \\\\\n",
    "\\end{aligned}\n",
    "$$\n",
    "\n",
    "and the parameters satisfy the following conditions:\n",
    "\n",
    "$$\n",
    "\\begin{aligned}\n",
    "0 \\le p_i &\\le 1 \\quad \\quad \\text{for } i = 1, 2, \\dots, k \\\\\n",
    "\\sum_{i=1}^k p_i &= 1\n",
    "\\end{aligned}\n",
    "$$\n",
    "\n",
    "\n",
    "<br></br><br></br>\n",
    "\n",
    "> Multiomial distribution\n",
    "\n",
    "A random vector $\\Xv = (X_1, X_2, \\dots, X_k)$ has a multinomial distribution with parameters $n$ and $\\piv = (p_1, p_2, \\dots, p_k)$, denoted as $\\Xv \\sim \\text{Multinomial}(n, \\piv)$, if\n",
    "\n",
    "$$\n",
    "\\pr(X_1 = O_1, X_2 = O_2, \\dots, X_k = O_k) = \\frac{n!}{O_1! \\times O_2! \\times \\dots \\times O_k!} \\times p_1^{O_1} \\times p_2^{O_2} \\times \\dots \\times p_k^{O_k}\n",
    "$$\n",
    "\n",
    "where the total number of observations is $n = O_1 + O_2 + \\dots + O_k$."
   ]
  },
  {
   "cell_type": "code",
   "execution_count": 28,
   "id": "4ec3da20",
   "metadata": {},
   "outputs": [
    {
     "data": {
      "text/plain": [
       "array([[0, 5, 5],\n",
       "       [2, 2, 6],\n",
       "       [0, 1, 9],\n",
       "       [2, 2, 6],\n",
       "       [2, 4, 4]])"
      ]
     },
     "execution_count": 28,
     "metadata": {},
     "output_type": "execute_result"
    }
   ],
   "source": [
    "X = stats.multinomial(10, [0.1, 0.3, 0.6])\n",
    "X.pmf([1, 3, 5]) # P(X_1 = 1, X_2 = 3, X_3 = 5) = 0 because the sum is not 10\n",
    "X.pmf([1, 3, 6]) # P(X_1 = 1, X_2 = 3, X_3 = 6) > 0 because the sum is 10\n",
    "X.rvs(5)#.sum(axis=1)"
   ]
  },
  {
   "cell_type": "markdown",
   "id": "de34232a",
   "metadata": {},
   "source": [
    "\n",
    "<br></br><br></br>\n",
    "\n",
    "Note:\n",
    "\n",
    "* When $n=1$, the multinomial distribution is the categorical distribution.\n",
    "* The multinomial distribution is a generalization of the binomial distribution to more than two categories.\n",
    "    * When $k=2$ and $\\piv = (p, 1-p)$, the categorical distribution is exactly the Bernoulli distribution.\n",
    "    * For $k=2$ and $n > 1$, the PMF of the multinomial distribution is the same as the PMF of the binomial distribution."
   ]
  },
  {
   "cell_type": "code",
   "execution_count": 29,
   "id": "1ad04a72",
   "metadata": {},
   "outputs": [
    {
     "data": {
      "application/vnd.jupyter.widget-view+json": {
       "model_id": "096bd6c00a02464f852dd650cecf3934",
       "version_major": 2,
       "version_minor": 0
      },
      "text/plain": [
       "interactive(children=(IntSlider(value=6, description='n', max=10, min=2), FloatSlider(value=0.5, description='…"
      ]
     },
     "metadata": {},
     "output_type": "display_data"
    }
   ],
   "source": [
    "@interact(n = (2, 10, 1), p=(0.1, 0.9, 0.1))\n",
    "\n",
    "def binom_multinom_comparison(n, p):\n",
    "    Mult_2 = stats.multinomial(n, [p, 1-p])\n",
    "    Binom = stats.binom(n, p)\n",
    "\n",
    "    x_support = np.arange(n+1)\n",
    "    x_mult_support = np.array([[i, n-i] for i in x_support])\n",
    "\n",
    "    fig, axs = plt.subplots(1, 2, figsize=(6, 3))\n",
    "    axs[0].bar(x_support, Binom.pmf(x_support), label='Binomial', color='red', alpha=0.5)\n",
    "    axs[1].bar(x_support, Mult_2.pmf(x_mult_support), label='Multinomial', alpha=0.5)\n",
    "    axs[0].set_title('PMF for Binomial'); axs[1].set_title('PMF for Multinomial')"
   ]
  },
  {
   "cell_type": "markdown",
   "id": "589dc334",
   "metadata": {},
   "source": [
    "\n",
    "### Hypotheses\n",
    "\n",
    "Suppose we have a categorical variable $X$ with $k$ categories. We want to test if the observed frequencies of the categories are consistent with some expected frequencies.\n",
    "\n",
    "\n",
    "| Category | Observed Frequency | Expected Frequency | Observed Proportion | Expected Proportion |\n",
    "|:--------:|:-------------------:|:-------------------:|:-------------------:|:-------------------:|\n",
    "| 1        | $O_1$               | $E_1$               | $\\hat p_1 = {O_1}/{n}$ | $p_1 = {E_1}/{n}$ |\n",
    "| 2        | $O_2$               | $E_2$               | $\\hat p_2 = {O_2}/{n}$ | $p_2 = {E_2}/{n}$ |\n",
    "| $\\vdots$ | $\\vdots$            | $\\vdots$            | $\\vdots$            | $\\vdots$            |\n",
    "| $k$      | $O_k$               | $E_k$               | $\\hat p_k = {O_k}/{n}$ | $p_k = {E_k}/{n}$ |\n",
    "\n",
    "\n",
    "\n",
    "* $H_0$: The observed frequencies are consistent with the expected frequencies.\n",
    "* $H_a$: The observed frequencies are not consistent with the expected frequencies.\n",
    "\n",
    "### Test statistic\n",
    "\n",
    "$$\n",
    "\\displaystyle T = \\sum_{i=1}^k \\frac{(O_i - E_i)^2}{E_i} = n \\times \\sum_{i=1}^k \\frac{(\\hat p_i - p_i)^2}{p_i} \\sim \\Chisq_{k-1}\n",
    "$$\n",
    "\n",
    "### Rejection region\n",
    "\n",
    "$$\n",
    "R(\\chi^2, \\alpha) = (\\chi^2_{\\alpha, k-1}, \\infty)\n",
    "$$\n",
    "\n",
    "\n",
    "\n",
    "| Anatomy of the hypothesis test |  Answer  |\n",
    "|:------------------------------:|:--------:|\n",
    "| Assumption                     | $X_1, X_2, \\dots, X_k \\sim \\text{Multinomial}(n, p_1, p_2, \\dots, p_k)$ |\n",
    "| Population parameter           | $\\theta = (p_1, p_2, \\dots, p_k)$ |\n",
    "| Sample statistic               | $\\hat\\theta = (\\hat p_1, \\hat p_2, \\dots, \\hat p_k)$ |\n",
    "| Test statistic                 | $\\displaystyle T = n \\times \\sum_{i=1}^k \\frac{(\\hat p_i - p_i)^2}{p_i} \\sim \\Chisq_{k-1}$ |\n",
    "| Null hypothesis                | $H_0: \\theta = (p_1, p_2, \\dots, p_k)$ |\n",
    "| Alternate hypothesis           | $H_a: \\theta \\neq (p_1, p_2, \\dots, p_k)$ |\n",
    "| Rejection region shape         | ($x_\\alpha$, $\\infty$) |\n",
    "\n",
    "where $x_\\alpha = \\chi^2_{\\alpha, k-1}$"
   ]
  },
  {
   "cell_type": "markdown",
   "id": "56358d25",
   "metadata": {},
   "source": [
    "\n",
    "<br></br><br></br>\n",
    "\n",
    "> #### Example\n",
    "\n",
    "Let's consider the `political` dataset from [https://vincentarelbundock.github.io/Rdatasets/doc/Stat2Data/Political.html](https://vincentarelbundock.github.io/Rdatasets/doc/Stat2Data/Political.html)"
   ]
  },
  {
   "cell_type": "code",
   "execution_count": 30,
   "id": "ca826e78",
   "metadata": {},
   "outputs": [
    {
     "data": {
      "text/html": [
       "<div>\n",
       "<style scoped>\n",
       "    .dataframe tbody tr th:only-of-type {\n",
       "        vertical-align: middle;\n",
       "    }\n",
       "\n",
       "    .dataframe tbody tr th {\n",
       "        vertical-align: top;\n",
       "    }\n",
       "\n",
       "    .dataframe thead th {\n",
       "        text-align: right;\n",
       "    }\n",
       "</style>\n",
       "<table border=\"1\" class=\"dataframe\">\n",
       "  <thead>\n",
       "    <tr style=\"text-align: right;\">\n",
       "      <th></th>\n",
       "      <th>Year</th>\n",
       "      <th>Sex</th>\n",
       "      <th>Vote</th>\n",
       "      <th>Paper</th>\n",
       "      <th>Edit</th>\n",
       "      <th>TV</th>\n",
       "      <th>Ethics</th>\n",
       "      <th>Inform</th>\n",
       "      <th>Participate</th>\n",
       "    </tr>\n",
       "    <tr>\n",
       "      <th>rownames</th>\n",
       "      <th></th>\n",
       "      <th></th>\n",
       "      <th></th>\n",
       "      <th></th>\n",
       "      <th></th>\n",
       "      <th></th>\n",
       "      <th></th>\n",
       "      <th></th>\n",
       "      <th></th>\n",
       "    </tr>\n",
       "  </thead>\n",
       "  <tbody>\n",
       "    <tr>\n",
       "      <th>1</th>\n",
       "      <td>1</td>\n",
       "      <td>1</td>\n",
       "      <td>1</td>\n",
       "      <td>3</td>\n",
       "      <td>1</td>\n",
       "      <td>0</td>\n",
       "      <td>2</td>\n",
       "      <td>2</td>\n",
       "      <td>0.0</td>\n",
       "    </tr>\n",
       "    <tr>\n",
       "      <th>2</th>\n",
       "      <td>4</td>\n",
       "      <td>1</td>\n",
       "      <td>3</td>\n",
       "      <td>1</td>\n",
       "      <td>1</td>\n",
       "      <td>3</td>\n",
       "      <td>2</td>\n",
       "      <td>2</td>\n",
       "      <td>1.0</td>\n",
       "    </tr>\n",
       "    <tr>\n",
       "      <th>3</th>\n",
       "      <td>2</td>\n",
       "      <td>0</td>\n",
       "      <td>3</td>\n",
       "      <td>4</td>\n",
       "      <td>1</td>\n",
       "      <td>3</td>\n",
       "      <td>2</td>\n",
       "      <td>3</td>\n",
       "      <td>1.0</td>\n",
       "    </tr>\n",
       "    <tr>\n",
       "      <th>4</th>\n",
       "      <td>3</td>\n",
       "      <td>1</td>\n",
       "      <td>3</td>\n",
       "      <td>3</td>\n",
       "      <td>1</td>\n",
       "      <td>0</td>\n",
       "      <td>3</td>\n",
       "      <td>2</td>\n",
       "      <td>1.0</td>\n",
       "    </tr>\n",
       "    <tr>\n",
       "      <th>5</th>\n",
       "      <td>1</td>\n",
       "      <td>1</td>\n",
       "      <td>3</td>\n",
       "      <td>2</td>\n",
       "      <td>0</td>\n",
       "      <td>0</td>\n",
       "      <td>2</td>\n",
       "      <td>3</td>\n",
       "      <td>1.0</td>\n",
       "    </tr>\n",
       "  </tbody>\n",
       "</table>\n",
       "</div>"
      ],
      "text/plain": [
       "          Year  Sex  Vote  Paper  Edit  TV  Ethics  Inform  Participate\n",
       "rownames                                                               \n",
       "1            1    1     1      3     1   0       2       2          0.0\n",
       "2            4    1     3      1     1   3       2       2          1.0\n",
       "3            2    0     3      4     1   3       2       3          1.0\n",
       "4            3    1     3      3     1   0       3       2          1.0\n",
       "5            1    1     3      2     0   0       2       3          1.0"
      ]
     },
     "execution_count": 30,
     "metadata": {},
     "output_type": "execute_result"
    }
   ],
   "source": [
    "url = 'https://vincentarelbundock.github.io/Rdatasets/csv/Stat2Data/Political.csv'\n",
    "df = pd.read_csv(url, index_col=0)\n",
    "df.head(5)"
   ]
  },
  {
   "cell_type": "markdown",
   "id": "4adc23ad",
   "metadata": {},
   "source": [
    "> #### Question \n",
    "\n",
    "Are the ethical beliefs of the college students uniformly representative, or are they skewed towards one particular belief?"
   ]
  },
  {
   "cell_type": "code",
   "execution_count": 31,
   "id": "b76eee6a",
   "metadata": {},
   "outputs": [
    {
     "data": {
      "text/plain": [
       "Ethics\n",
       "2    26\n",
       "3    19\n",
       "4    11\n",
       "5     3\n",
       "Name: count, dtype: int64"
      ]
     },
     "execution_count": 31,
     "metadata": {},
     "output_type": "execute_result"
    }
   ],
   "source": [
    "df.Ethics.value_counts()"
   ]
  },
  {
   "cell_type": "code",
   "execution_count": 32,
   "id": "60317d84",
   "metadata": {},
   "outputs": [
    {
     "data": {
      "text/plain": [
       "20.11864406779661"
      ]
     },
     "execution_count": 32,
     "metadata": {},
     "output_type": "execute_result"
    }
   ],
   "source": [
    "## Chi-squared goodness of fit statistic\n",
    "n = df.shape[0]\n",
    "k = df['Ethics'].nunique()\n",
    "\n",
    "p_hat = df['Ethics'].value_counts() / n\n",
    "p = np.repeat(1/4, 4)\n",
    "# p = (0.5, 0.5, 0.0, 0.0)\n",
    "\n",
    "t_hat = n * np.sum([(x[0] - x[1])**2 / x[1] for x in zip(p_hat, p)])\n",
    "t_hat"
   ]
  },
  {
   "cell_type": "code",
   "execution_count": 33,
   "id": "d0f32090",
   "metadata": {},
   "outputs": [
    {
     "data": {
      "text/plain": [
       "0.00016039817465407502"
      ]
     },
     "execution_count": 33,
     "metadata": {},
     "output_type": "execute_result"
    }
   ],
   "source": [
    "T = stats.chi2(k-1)\n",
    "p_value = 1 - T.cdf(t_hat)\n",
    "p_value"
   ]
  },
  {
   "cell_type": "code",
   "execution_count": 34,
   "id": "dd852785",
   "metadata": {},
   "outputs": [],
   "source": [
    "# stats.chisquare?"
   ]
  },
  {
   "cell_type": "code",
   "execution_count": 35,
   "id": "3f4536b7",
   "metadata": {},
   "outputs": [
    {
     "data": {
      "text/plain": [
       "Power_divergenceResult(statistic=20.11864406779661, pvalue=0.00016039817465410343)"
      ]
     },
     "execution_count": 35,
     "metadata": {},
     "output_type": "execute_result"
    }
   ],
   "source": [
    "stats.chisquare(df['Ethics'].value_counts())"
   ]
  },
  {
   "cell_type": "markdown",
   "id": "b7b2e7ec",
   "metadata": {},
   "source": [
    "\n",
    "<br></br><br></br>"
   ]
  },
  {
   "cell_type": "markdown",
   "id": "54a334b0",
   "metadata": {},
   "source": [
    "---"
   ]
  },
  {
   "cell_type": "markdown",
   "id": "de7cd67b",
   "metadata": {},
   "source": [
    "## §3.2 Test for independence\n",
    "\n",
    "Suppose we have two categorical variables $X$ and $Y$ with $k$ and $m$ categories, respectively. We want to test if the observed frequencies of the categories are independent of each other.\n",
    "\n",
    "\n",
    "| \\ | Y Category 1 | Y Category 2 | $\\dots$ | Y Category $m$ |\n",
    "|:--------:|:-------------------:|:-------------------:|:-------------------:|:-------------------:|\n",
    "| X Category 1 | $O_{11}$               | $O_{12}$               | $\\dots$ | $O_{1m}$ |\n",
    "| X Category 2 | $O_{21}$               | $O_{22}$               | $\\dots$ | $O_{2m}$ |\n",
    "| $\\vdots$ | $\\vdots$            | $\\vdots$            | $\\vdots$ | $\\vdots$ |\n",
    "| X Category $k$ | $O_{k1}$               | $O_{k2}$               | $\\dots$ | $O_{km}$ |\n",
    "\n",
    "\n",
    "Here $O_{ij}$ is the observed frequency of the $i$ th category of $X$ and the $j$ th category of $Y$, and\n",
    "$$\n",
    "n = O_{11} + O_{12} + \\dots + O_{1m} + O_{21} + \\dots + O_{km}\n",
    "$$ \n",
    "is the total number of observations.\n"
   ]
  },
  {
   "cell_type": "markdown",
   "id": "1810a0d3",
   "metadata": {},
   "source": [
    "> ##### Question: What is an appropriate model for the expected frequencies?\n",
    "\n",
    "<br></br><br></br><br></br><br></br>\n",
    "\n",
    "$X \\sim \\text{Categorical}(\\piv_X)$ and $Y \\sim \\text{Categorical}(\\piv_Y)$ and the joint distribution of $X$ and $Y$ is the product of the marginal distributions.\n",
    "\n",
    "The joint distribution of $X$ and $Y$ is given by\n",
    "\n",
    "$$\n",
    "\\begin{aligned}\n",
    "\\pr(X = i, Y = j) &= p_{ij} \\quad \\quad \\text{for } i = 1, 2, \\dots, k \\text{ and } j = 1, 2, \\dots, m \\\\\n",
    "\\end{aligned}\n",
    "$$\n",
    "\n",
    "and the parameters satisfy the following conditions:\n",
    "\n",
    "$$\n",
    "\\begin{aligned}\n",
    "0 \\le p_{ij} &\\le 1 \\quad \\quad \\text{for } i = 1, 2, \\dots, k \\text{ and } j = 1, 2, \\dots, m \\\\\n",
    "\\sum_{i=1}^k \\sum_{j=1}^m p_{ij} &= 1\n",
    "\\end{aligned}\n",
    "$$\n",
    "\n",
    "\n",
    "> #### If $X$ and $Y$ are independent:\n",
    "\n",
    "If $X$ and $Y$ are independent, then the joint distribution of $X$ and $Y$ is the product of the marginal distributions, i.e., \n",
    "\n",
    "$$\n",
    "\\begin{aligned}\n",
    "\\pr(X = i, Y = j) &= \\pr(X = i) \\times \\pr(Y = j)\\\\ &= \\piv_{X, i} \\times \\piv_{Y, j}\\quad \\text{i.e.,}\\\\ \\\\\n",
    "\\quad p_{ij} &= \\piv_{X, i} \\times \\piv_{Y, j}\n",
    "\\end{aligned}\n",
    "$$\n",
    "\n",
    "then  effectively you're saying that $k \\times m$ probability parameters can be faithfully encoded in just $k+m$ different probability parameters\n",
    "\n",
    "where $\\piv_{X, i}$ and $\\piv_{Y, j}$ are the marginal probabilities of $X$ and $Y$, respectively.\n",
    "\n",
    "> #### If $X$ and $Y$ are not independent:\n",
    "\n",
    "If $X$ and $Y$ are not independent, then the joint distribution of $X$ and $Y$ is not the product of the marginal distributions, i.e.,\n",
    "\n",
    "$$\n",
    "\\begin{aligned}\n",
    "p_{ij} &\\neq \\piv_{X, i} \\times \\piv_{Y, j}\n",
    "\\end{aligned}\n",
    "$$\n"
   ]
  },
  {
   "cell_type": "markdown",
   "id": "230ec30b",
   "metadata": {},
   "source": [
    "The dataset in terms of the parameters and statistics:\n",
    "\n",
    "| \\ | Y Category 1 | Y Category 2 | $\\dots$ | Y Category $m$ |\n",
    "|:--------:|:-------------------:|:-------------------:|:-------------------:|:-------------------:|\n",
    "| X Category 1 | $\\hat{p}_{11} = {O_{11}}/{n}$               | $\\hat{p}_{12} = {O_{12}}/{n}$               | $\\dots$ | $\\hat{p}_{1m} = {O_{1m}}/{n}$ |\n",
    "| X Category 2 | $\\hat{p}_{21} = {O_{21}}/{n}$               | $\\hat{p}_{22} = {O_{22}}/{n}$               | $\\dots$ | $\\hat{p}_{2m} = {O_{2m}}/{n}$ |\n",
    "| $\\vdots$ | $\\vdots$            | $\\vdots$            | $\\vdots$ | $\\vdots$ |\n",
    "| X Category $k$ | $\\hat{p}_{k1} = {O_{k1}}/{n}$               | $\\hat{p}_{k2} = {O_{k2}}/{n}$               | $\\dots$ | $\\hat{p}_{km} = {O_{km}}/{n}$ |\n",
    "\n",
    "\n",
    "$$\n",
    "\\begin{aligned}\n",
    "\\hat{\\piv}_{X, i} &= \\sum_{j=1}^m \\hat{p}_{ij} \\quad \\text{for } i = 1, 2, \\dots, k \\\\\n",
    "\\hat{\\piv}_{Y, j} &= \\sum_{i=1}^k \\hat{p}_{ij} \\quad \\text{for } j = 1, 2, \\dots, m \\\\\n",
    "\\end{aligned}\n",
    "$$\n",
    "\n"
   ]
  },
  {
   "cell_type": "markdown",
   "id": "c6b9f010",
   "metadata": {},
   "source": [
    "| Anatomy of the hypothesis test |  Answer  |\n",
    "|:------------------------------:|:--------:|\n",
    "| Assumption                     | $(X, Y) \\sim \\text{Multinomial}(n, p_{11}, p_{12}, \\dots, p_{km})$ |\n",
    "| Population parameter           | $\\theta = (p_{11}, p_{12}, \\dots, p_{km}, \\piv_X, \\piv_Y)$ |\n",
    "| Sample statistic               | $\\hat\\theta = (\\hat p_{11}, \\hat p_{12}, \\dots, \\hat p_{km}, \\hat \\piv_X, \\hat \\piv_Y)$ |\n",
    "| Test statistic                 | $\\displaystyle T = n \\times  \\sum_{i=1}^k \\sum_{j=1}^m \\frac{(\\hat p_{ij} - \\hat\\piv_{X, i} \\cdot \\hat\\piv_{Y, j})^2}{\\hat\\piv_{X, i} \\cdot \\hat\\piv_{Y, j}} \\sim \\Chisq_{(k-1) \\times (m-1)}$ |\n",
    "| Null hypothesis                | $H_0: p_{ij} = \\piv_{X, i} \\times \\piv_{Y, j}$ for all $i$ and $j$ |\n",
    "| Alternate hypothesis           | $H_a: p_{ij} \\neq \\piv_{X, i} \\times \\piv_{Y, j}$ for some $i$ and $j$ |"
   ]
  },
  {
   "cell_type": "markdown",
   "id": "669efcef",
   "metadata": {},
   "source": [
    "#### Example\n",
    "\n",
    "Let's look at the `mtcars` dataset again"
   ]
  },
  {
   "cell_type": "code",
   "execution_count": 36,
   "id": "6bfaecb0",
   "metadata": {},
   "outputs": [
    {
     "data": {
      "text/html": [
       "<div>\n",
       "<style scoped>\n",
       "    .dataframe tbody tr th:only-of-type {\n",
       "        vertical-align: middle;\n",
       "    }\n",
       "\n",
       "    .dataframe tbody tr th {\n",
       "        vertical-align: top;\n",
       "    }\n",
       "\n",
       "    .dataframe thead th {\n",
       "        text-align: right;\n",
       "    }\n",
       "</style>\n",
       "<table border=\"1\" class=\"dataframe\">\n",
       "  <thead>\n",
       "    <tr style=\"text-align: right;\">\n",
       "      <th></th>\n",
       "      <th>mpg</th>\n",
       "      <th>cyl</th>\n",
       "      <th>disp</th>\n",
       "      <th>hp</th>\n",
       "      <th>drat</th>\n",
       "      <th>wt</th>\n",
       "      <th>qsec</th>\n",
       "      <th>vs</th>\n",
       "      <th>am</th>\n",
       "      <th>gear</th>\n",
       "      <th>carb</th>\n",
       "    </tr>\n",
       "    <tr>\n",
       "      <th>rownames</th>\n",
       "      <th></th>\n",
       "      <th></th>\n",
       "      <th></th>\n",
       "      <th></th>\n",
       "      <th></th>\n",
       "      <th></th>\n",
       "      <th></th>\n",
       "      <th></th>\n",
       "      <th></th>\n",
       "      <th></th>\n",
       "      <th></th>\n",
       "    </tr>\n",
       "  </thead>\n",
       "  <tbody>\n",
       "    <tr>\n",
       "      <th>Mazda RX4</th>\n",
       "      <td>21.0</td>\n",
       "      <td>6</td>\n",
       "      <td>160.0</td>\n",
       "      <td>110</td>\n",
       "      <td>3.90</td>\n",
       "      <td>2.620</td>\n",
       "      <td>16.46</td>\n",
       "      <td>0</td>\n",
       "      <td>1</td>\n",
       "      <td>4</td>\n",
       "      <td>4</td>\n",
       "    </tr>\n",
       "    <tr>\n",
       "      <th>Mazda RX4 Wag</th>\n",
       "      <td>21.0</td>\n",
       "      <td>6</td>\n",
       "      <td>160.0</td>\n",
       "      <td>110</td>\n",
       "      <td>3.90</td>\n",
       "      <td>2.875</td>\n",
       "      <td>17.02</td>\n",
       "      <td>0</td>\n",
       "      <td>1</td>\n",
       "      <td>4</td>\n",
       "      <td>4</td>\n",
       "    </tr>\n",
       "    <tr>\n",
       "      <th>Datsun 710</th>\n",
       "      <td>22.8</td>\n",
       "      <td>4</td>\n",
       "      <td>108.0</td>\n",
       "      <td>93</td>\n",
       "      <td>3.85</td>\n",
       "      <td>2.320</td>\n",
       "      <td>18.61</td>\n",
       "      <td>1</td>\n",
       "      <td>1</td>\n",
       "      <td>4</td>\n",
       "      <td>1</td>\n",
       "    </tr>\n",
       "    <tr>\n",
       "      <th>Hornet 4 Drive</th>\n",
       "      <td>21.4</td>\n",
       "      <td>6</td>\n",
       "      <td>258.0</td>\n",
       "      <td>110</td>\n",
       "      <td>3.08</td>\n",
       "      <td>3.215</td>\n",
       "      <td>19.44</td>\n",
       "      <td>1</td>\n",
       "      <td>0</td>\n",
       "      <td>3</td>\n",
       "      <td>1</td>\n",
       "    </tr>\n",
       "    <tr>\n",
       "      <th>Hornet Sportabout</th>\n",
       "      <td>18.7</td>\n",
       "      <td>8</td>\n",
       "      <td>360.0</td>\n",
       "      <td>175</td>\n",
       "      <td>3.15</td>\n",
       "      <td>3.440</td>\n",
       "      <td>17.02</td>\n",
       "      <td>0</td>\n",
       "      <td>0</td>\n",
       "      <td>3</td>\n",
       "      <td>2</td>\n",
       "    </tr>\n",
       "    <tr>\n",
       "      <th>Valiant</th>\n",
       "      <td>18.1</td>\n",
       "      <td>6</td>\n",
       "      <td>225.0</td>\n",
       "      <td>105</td>\n",
       "      <td>2.76</td>\n",
       "      <td>3.460</td>\n",
       "      <td>20.22</td>\n",
       "      <td>1</td>\n",
       "      <td>0</td>\n",
       "      <td>3</td>\n",
       "      <td>1</td>\n",
       "    </tr>\n",
       "    <tr>\n",
       "      <th>Duster 360</th>\n",
       "      <td>14.3</td>\n",
       "      <td>8</td>\n",
       "      <td>360.0</td>\n",
       "      <td>245</td>\n",
       "      <td>3.21</td>\n",
       "      <td>3.570</td>\n",
       "      <td>15.84</td>\n",
       "      <td>0</td>\n",
       "      <td>0</td>\n",
       "      <td>3</td>\n",
       "      <td>4</td>\n",
       "    </tr>\n",
       "    <tr>\n",
       "      <th>Merc 240D</th>\n",
       "      <td>24.4</td>\n",
       "      <td>4</td>\n",
       "      <td>146.7</td>\n",
       "      <td>62</td>\n",
       "      <td>3.69</td>\n",
       "      <td>3.190</td>\n",
       "      <td>20.00</td>\n",
       "      <td>1</td>\n",
       "      <td>0</td>\n",
       "      <td>4</td>\n",
       "      <td>2</td>\n",
       "    </tr>\n",
       "    <tr>\n",
       "      <th>Merc 230</th>\n",
       "      <td>22.8</td>\n",
       "      <td>4</td>\n",
       "      <td>140.8</td>\n",
       "      <td>95</td>\n",
       "      <td>3.92</td>\n",
       "      <td>3.150</td>\n",
       "      <td>22.90</td>\n",
       "      <td>1</td>\n",
       "      <td>0</td>\n",
       "      <td>4</td>\n",
       "      <td>2</td>\n",
       "    </tr>\n",
       "    <tr>\n",
       "      <th>Merc 280</th>\n",
       "      <td>19.2</td>\n",
       "      <td>6</td>\n",
       "      <td>167.6</td>\n",
       "      <td>123</td>\n",
       "      <td>3.92</td>\n",
       "      <td>3.440</td>\n",
       "      <td>18.30</td>\n",
       "      <td>1</td>\n",
       "      <td>0</td>\n",
       "      <td>4</td>\n",
       "      <td>4</td>\n",
       "    </tr>\n",
       "  </tbody>\n",
       "</table>\n",
       "</div>"
      ],
      "text/plain": [
       "                    mpg  cyl   disp   hp  drat     wt   qsec  vs  am  gear  \\\n",
       "rownames                                                                     \n",
       "Mazda RX4          21.0    6  160.0  110  3.90  2.620  16.46   0   1     4   \n",
       "Mazda RX4 Wag      21.0    6  160.0  110  3.90  2.875  17.02   0   1     4   \n",
       "Datsun 710         22.8    4  108.0   93  3.85  2.320  18.61   1   1     4   \n",
       "Hornet 4 Drive     21.4    6  258.0  110  3.08  3.215  19.44   1   0     3   \n",
       "Hornet Sportabout  18.7    8  360.0  175  3.15  3.440  17.02   0   0     3   \n",
       "Valiant            18.1    6  225.0  105  2.76  3.460  20.22   1   0     3   \n",
       "Duster 360         14.3    8  360.0  245  3.21  3.570  15.84   0   0     3   \n",
       "Merc 240D          24.4    4  146.7   62  3.69  3.190  20.00   1   0     4   \n",
       "Merc 230           22.8    4  140.8   95  3.92  3.150  22.90   1   0     4   \n",
       "Merc 280           19.2    6  167.6  123  3.92  3.440  18.30   1   0     4   \n",
       "\n",
       "                   carb  \n",
       "rownames                 \n",
       "Mazda RX4             4  \n",
       "Mazda RX4 Wag         4  \n",
       "Datsun 710            1  \n",
       "Hornet 4 Drive        1  \n",
       "Hornet Sportabout     2  \n",
       "Valiant               1  \n",
       "Duster 360            4  \n",
       "Merc 240D             2  \n",
       "Merc 230              2  \n",
       "Merc 280              4  "
      ]
     },
     "execution_count": 36,
     "metadata": {},
     "output_type": "execute_result"
    }
   ],
   "source": [
    "df = mtcars.data\n",
    "df.head(10)"
   ]
  },
  {
   "cell_type": "markdown",
   "id": "94abcb4b",
   "metadata": {},
   "source": [
    "> ##### Question\n",
    "Are the \\# of cylinders and the \\# of gears independent?"
   ]
  },
  {
   "cell_type": "code",
   "execution_count": 37,
   "id": "0a3ba3d4",
   "metadata": {},
   "outputs": [
    {
     "data": {
      "text/html": [
       "<div>\n",
       "<style scoped>\n",
       "    .dataframe tbody tr th:only-of-type {\n",
       "        vertical-align: middle;\n",
       "    }\n",
       "\n",
       "    .dataframe tbody tr th {\n",
       "        vertical-align: top;\n",
       "    }\n",
       "\n",
       "    .dataframe thead th {\n",
       "        text-align: right;\n",
       "    }\n",
       "</style>\n",
       "<table border=\"1\" class=\"dataframe\">\n",
       "  <thead>\n",
       "    <tr style=\"text-align: right;\">\n",
       "      <th>gear</th>\n",
       "      <th>3</th>\n",
       "      <th>4</th>\n",
       "      <th>5</th>\n",
       "    </tr>\n",
       "    <tr>\n",
       "      <th>cyl</th>\n",
       "      <th></th>\n",
       "      <th></th>\n",
       "      <th></th>\n",
       "    </tr>\n",
       "  </thead>\n",
       "  <tbody>\n",
       "    <tr>\n",
       "      <th>4</th>\n",
       "      <td>1</td>\n",
       "      <td>8</td>\n",
       "      <td>2</td>\n",
       "    </tr>\n",
       "    <tr>\n",
       "      <th>6</th>\n",
       "      <td>2</td>\n",
       "      <td>4</td>\n",
       "      <td>1</td>\n",
       "    </tr>\n",
       "    <tr>\n",
       "      <th>8</th>\n",
       "      <td>12</td>\n",
       "      <td>0</td>\n",
       "      <td>2</td>\n",
       "    </tr>\n",
       "  </tbody>\n",
       "</table>\n",
       "</div>"
      ],
      "text/plain": [
       "gear   3  4  5\n",
       "cyl           \n",
       "4      1  8  2\n",
       "6      2  4  1\n",
       "8     12  0  2"
      ]
     },
     "execution_count": 37,
     "metadata": {},
     "output_type": "execute_result"
    }
   ],
   "source": [
    "pd.crosstab(df['cyl'], df['gear'])"
   ]
  },
  {
   "cell_type": "code",
   "execution_count": 38,
   "id": "6841b994",
   "metadata": {},
   "outputs": [
    {
     "data": {
      "text/plain": [
       "18.03636363636364"
      ]
     },
     "execution_count": 38,
     "metadata": {},
     "output_type": "execute_result"
    }
   ],
   "source": [
    "n, k, m = df.shape[0], df['cyl'].nunique(), df['gear'].nunique()\n",
    "\n",
    "p_hat = pd.crosstab(df['cyl'], df['gear']).values / n\n",
    "\n",
    "pi_X = p_hat.sum(axis=0)\n",
    "pi_Y = p_hat.sum(axis=1)\n",
    "\n",
    "t_hat = n * np.sum([[(p_hat[i, j] - pi_X[j] * pi_Y[i]) ** 2 / (pi_X[j] * pi_Y[i]) for j in range(m)] for i in range(k)])\n",
    "t_hat"
   ]
  },
  {
   "cell_type": "code",
   "execution_count": 39,
   "id": "8c69ccae",
   "metadata": {},
   "outputs": [
    {
     "data": {
      "text/plain": [
       "0.001214066033785155"
      ]
     },
     "execution_count": 39,
     "metadata": {},
     "output_type": "execute_result"
    }
   ],
   "source": [
    "T = stats.chi2((k-1)*(m-1))\n",
    "p_value = 1 - T.cdf(t_hat)\n",
    "p_value"
   ]
  },
  {
   "cell_type": "code",
   "execution_count": 40,
   "id": "7f736aae",
   "metadata": {},
   "outputs": [],
   "source": [
    "# stats.chi2_contingency?"
   ]
  },
  {
   "cell_type": "code",
   "execution_count": 41,
   "id": "4a3c5d27",
   "metadata": {},
   "outputs": [
    {
     "data": {
      "text/plain": [
       "Chi2ContingencyResult(statistic=18.03636363636364, pvalue=0.0012140660337851554, dof=4, expected_freq=array([[5.15625, 4.125  , 1.71875],\n",
       "       [3.28125, 2.625  , 1.09375],\n",
       "       [6.5625 , 5.25   , 2.1875 ]]))"
      ]
     },
     "execution_count": 41,
     "metadata": {},
     "output_type": "execute_result"
    }
   ],
   "source": [
    "stats.chi2_contingency(pd.crosstab(df['cyl'], df['gear']))"
   ]
  },
  {
   "cell_type": "markdown",
   "id": "f92755c0",
   "metadata": {},
   "source": [
    "---"
   ]
  },
  {
   "cell_type": "markdown",
   "id": "caacbe8c",
   "metadata": {},
   "source": [
    "### §3.3 Test for homogeneity\n",
    "\n",
    "Suppose we have $r$ subsets of the population which are each catergorical, $\\text{Categorical}(\\piv_1), \\text{Categorical}(\\piv_2), \\dots \\text{Categorical}(\\piv_r)$ and we want to test if the observed frequencies of the categories are consistent with each other.\n",
    "\n",
    "\n",
    "| \\ | Category 1 | Category 2 | $\\dots$ | Category $k$ | Total |\n",
    "|:--------:|:-------------------:|:-------------------:|:-------------------:|:-------------------:|:-------------------:|\n",
    "| $X_1$ | $O_{11}$               | $O_{12}$               | $\\dots$ | $O_{1k}$ | $n_1$ |\n",
    "| $X_2$ | $O_{21}$               | $O_{22}$               | $\\dots$ | $O_{2k}$ | $n_2$ |\n",
    "| $\\vdots$ | $\\vdots$ | $\\vdots$ | $\\vdots$ | $\\dots$ | $\\vdots$ | $\\vdots$ |\n",
    "| $X_r$ | $O_{r1}$               | $O_{r2}$               | $\\dots$ | $O_{rk}$ | $n_r$ |\n",
    "| Total | $T_{1}$               | $T_{2}$               | $\\dots$ | $T_{k}$ | $n$ |\n",
    "\n",
    "Here $O_{ij}$ is the observed frequency of the $j$ th category of sub-population $i$\n",
    "\n",
    "$$\n",
    "\\begin{aligned}\n",
    "n_1 &= O_{11} + O_{12} + \\dots + O_{1k} \\\\\n",
    "n_2 &= O_{21} + O_{22} + \\dots + O_{2k}\\\\\n",
    "n_r &= O_{r1} + O_{r2} + \\dots + O_{rk}\\\\\n",
    "T_i &= O_{1i} + O_{2i} + \\dots + O_{ri} \\quad \\text{for } i = 1, 2, \\dots, k \\\\\n",
    "n &= n_1 + n_2 + \\dots + n_r\n",
    "\\end{aligned}\n",
    "$$\n",
    "\n"
   ]
  },
  {
   "cell_type": "markdown",
   "id": "9b36a85f",
   "metadata": {},
   "source": [
    "> #### Assumption\n",
    "\n",
    "The individual sub-populations:\n",
    "* $X_1 \\sim \\text{Multinomial}(n_1, p_{11}, p_{12}, \\dots, p_{1k})$\n",
    "* $X_2 \\sim \\text{Multinomial}(n_1, p_{21}, p_{22}, \\dots, p_{2k})$\n",
    "* $\\dots$\n",
    "* $X_r \\sim \\text{Multinomial}(n_1, p_{r1}, p_{r2}, \\dots, p_{rk})$\n",
    "\n",
    "The reference population:\n",
    "* $Z \\sim \\text{Multinomial}(n, p_{1}, p_{2}, \\dots, p_{k})$\n",
    "\n",
    "<br></br><br></br>\n",
    "\n",
    "> #### Population Parameters\n",
    "\n",
    "$\\theta = (p_{11}, p_{12}, \\dots, p_{1k}, \\quad \\quad p_{r1}, p_{r2}, \\dots, p_{rk}, \\quad \\quad p_1, p_2, \\dots, p_k)$\n",
    "\n",
    "<br></br><br></br>\n",
    "\n",
    "> #### Sample Statistic\n",
    "\n",
    "| \\ | Category 1 | Category 2 | $\\dots$ | Category $k$ | Total |\n",
    "|:--------:|:-------------------:|:-------------------:|:-------------------:|:-------------------:|:-------------------:|\n",
    "| $X_1$ | $\\hat{p}_{11} = {O_{11}}/{n_1}$               | $\\hat{p}_{12} = {O_{12}}/{n_1}$               | $\\dots$ | $\\hat{p}_{1k} = {O_{1k}}/{n_1}$ | $n_1$ |\n",
    "| $X_2$ | $\\hat{p}_{21} = {O_{21}}/{n_2}$               | $\\hat{p}_{22} = {O_{22}}/{n_2}$               | $\\dots$ | $\\hat{p}_{2k} = {O_{2k}}/{n_2}$ | $n_2$ |\n",
    "| $\\vdots$ | $\\vdots$ | $\\vdots$ | $\\vdots$ | $\\dots$ | $\\vdots$ | $\\vdots$ |\n",
    "| $X_r$ | $\\hat{p}_{r1} = {O_{r1}}/{n_r}$               | $\\hat{p}_{r2} = {O_{r2}}/{n_r}$               | $\\dots$ | $\\hat{p}_{rk} = {O_{rk}}/{n_r}$ | $n_r$ |\n",
    "| Total | $\\hat{p}_{1} = {T_{1}}/{n}$               | $\\hat{p}_{2} = {T_{2}}/{n}$               | $\\dots$ | $\\hat{p}_{k} = {T_{k}}/{n}$ | $n$ |\n",
    "\n",
    "<br></br><br></br>\n",
    "\n",
    "> #### Hypotheses\n",
    "\n",
    "* $H_0$: The observed frequencies are consistent with each other.\n",
    "* $H_a$: The observed frequencies are not consistent with each other.\n",
    "\n",
    "Then the hypotheses become:\n",
    "\n",
    "$$\n",
    "\\begin{aligned}\n",
    "H_0&: p_{1i} = p_{2i} = p_i&& \\quad \\text{for all } &&&i = 1, 2, \\dots, k \\\\\n",
    "H_a&: p_{1i} \\neq p_{2i}&& \\quad \\text{for some } &&&i = 1, 2, \\dots, k\n",
    "\\end{aligned}\n",
    "$$"
   ]
  },
  {
   "cell_type": "markdown",
   "id": "02168ac6",
   "metadata": {},
   "source": [
    "> #### Test Statistic\n",
    "\n",
    "$$\n",
    "\\displaystyle T = \\sum_{i=1}^r n_i \\times \\Bigg(\\sum_{j=1}^k \\frac{(\\hat p_{ij} - \\hat p_{j})^2}{\\hat p_{j}}\\Bigg) \\sim \\Chisq_{(r-1) \\times (k-1)}\n",
    "$$\n"
   ]
  },
  {
   "cell_type": "markdown",
   "id": "313d98cf",
   "metadata": {},
   "source": [
    "---\n",
    "\n",
    "<br></br><br></br>\n"
   ]
  },
  {
   "cell_type": "markdown",
   "id": "e679a1cc",
   "metadata": {},
   "source": [
    "### Example\n",
    "\n",
    "For this example, we'll have a look at the `adult` dataset from the [UCI Machine Learning Repository](https://archive.ics.uci.edu/ml/datasets/adult)."
   ]
  },
  {
   "cell_type": "code",
   "execution_count": 42,
   "id": "f186c57e",
   "metadata": {},
   "outputs": [
    {
     "data": {
      "text/html": [
       "<div>\n",
       "<style scoped>\n",
       "    .dataframe tbody tr th:only-of-type {\n",
       "        vertical-align: middle;\n",
       "    }\n",
       "\n",
       "    .dataframe tbody tr th {\n",
       "        vertical-align: top;\n",
       "    }\n",
       "\n",
       "    .dataframe thead th {\n",
       "        text-align: right;\n",
       "    }\n",
       "</style>\n",
       "<table border=\"1\" class=\"dataframe\">\n",
       "  <thead>\n",
       "    <tr style=\"text-align: right;\">\n",
       "      <th></th>\n",
       "      <th>age</th>\n",
       "      <th>workclass</th>\n",
       "      <th>fnlwgt</th>\n",
       "      <th>education</th>\n",
       "      <th>education-num</th>\n",
       "      <th>marital-status</th>\n",
       "      <th>occupation</th>\n",
       "      <th>relationship</th>\n",
       "      <th>race</th>\n",
       "      <th>sex</th>\n",
       "      <th>capital-gain</th>\n",
       "      <th>capital-loss</th>\n",
       "      <th>hours-per-week</th>\n",
       "      <th>native-country</th>\n",
       "    </tr>\n",
       "  </thead>\n",
       "  <tbody>\n",
       "    <tr>\n",
       "      <th>0</th>\n",
       "      <td>39</td>\n",
       "      <td>State-gov</td>\n",
       "      <td>77516</td>\n",
       "      <td>Bachelors</td>\n",
       "      <td>13</td>\n",
       "      <td>Never-married</td>\n",
       "      <td>Adm-clerical</td>\n",
       "      <td>Not-in-family</td>\n",
       "      <td>White</td>\n",
       "      <td>Male</td>\n",
       "      <td>2174</td>\n",
       "      <td>0</td>\n",
       "      <td>40</td>\n",
       "      <td>United-States</td>\n",
       "    </tr>\n",
       "    <tr>\n",
       "      <th>1</th>\n",
       "      <td>50</td>\n",
       "      <td>Self-emp-not-inc</td>\n",
       "      <td>83311</td>\n",
       "      <td>Bachelors</td>\n",
       "      <td>13</td>\n",
       "      <td>Married-civ-spouse</td>\n",
       "      <td>Exec-managerial</td>\n",
       "      <td>Husband</td>\n",
       "      <td>White</td>\n",
       "      <td>Male</td>\n",
       "      <td>0</td>\n",
       "      <td>0</td>\n",
       "      <td>13</td>\n",
       "      <td>United-States</td>\n",
       "    </tr>\n",
       "    <tr>\n",
       "      <th>2</th>\n",
       "      <td>38</td>\n",
       "      <td>Private</td>\n",
       "      <td>215646</td>\n",
       "      <td>HS-grad</td>\n",
       "      <td>9</td>\n",
       "      <td>Divorced</td>\n",
       "      <td>Handlers-cleaners</td>\n",
       "      <td>Not-in-family</td>\n",
       "      <td>White</td>\n",
       "      <td>Male</td>\n",
       "      <td>0</td>\n",
       "      <td>0</td>\n",
       "      <td>40</td>\n",
       "      <td>United-States</td>\n",
       "    </tr>\n",
       "    <tr>\n",
       "      <th>3</th>\n",
       "      <td>53</td>\n",
       "      <td>Private</td>\n",
       "      <td>234721</td>\n",
       "      <td>11th</td>\n",
       "      <td>7</td>\n",
       "      <td>Married-civ-spouse</td>\n",
       "      <td>Handlers-cleaners</td>\n",
       "      <td>Husband</td>\n",
       "      <td>Black</td>\n",
       "      <td>Male</td>\n",
       "      <td>0</td>\n",
       "      <td>0</td>\n",
       "      <td>40</td>\n",
       "      <td>United-States</td>\n",
       "    </tr>\n",
       "    <tr>\n",
       "      <th>4</th>\n",
       "      <td>28</td>\n",
       "      <td>Private</td>\n",
       "      <td>338409</td>\n",
       "      <td>Bachelors</td>\n",
       "      <td>13</td>\n",
       "      <td>Married-civ-spouse</td>\n",
       "      <td>Prof-specialty</td>\n",
       "      <td>Wife</td>\n",
       "      <td>Black</td>\n",
       "      <td>Female</td>\n",
       "      <td>0</td>\n",
       "      <td>0</td>\n",
       "      <td>40</td>\n",
       "      <td>Cuba</td>\n",
       "    </tr>\n",
       "  </tbody>\n",
       "</table>\n",
       "</div>"
      ],
      "text/plain": [
       "   age         workclass  fnlwgt  education  education-num  \\\n",
       "0   39         State-gov   77516  Bachelors             13   \n",
       "1   50  Self-emp-not-inc   83311  Bachelors             13   \n",
       "2   38           Private  215646    HS-grad              9   \n",
       "3   53           Private  234721       11th              7   \n",
       "4   28           Private  338409  Bachelors             13   \n",
       "\n",
       "       marital-status         occupation   relationship   race     sex  \\\n",
       "0       Never-married       Adm-clerical  Not-in-family  White    Male   \n",
       "1  Married-civ-spouse    Exec-managerial        Husband  White    Male   \n",
       "2            Divorced  Handlers-cleaners  Not-in-family  White    Male   \n",
       "3  Married-civ-spouse  Handlers-cleaners        Husband  Black    Male   \n",
       "4  Married-civ-spouse     Prof-specialty           Wife  Black  Female   \n",
       "\n",
       "   capital-gain  capital-loss  hours-per-week native-country  \n",
       "0          2174             0              40  United-States  \n",
       "1             0             0              13  United-States  \n",
       "2             0             0              40  United-States  \n",
       "3             0             0              40  United-States  \n",
       "4             0             0              40           Cuba  "
      ]
     },
     "execution_count": 42,
     "metadata": {},
     "output_type": "execute_result"
    }
   ],
   "source": [
    "import ucimlrepo\n",
    "\n",
    "adult = ucimlrepo.fetch_ucirepo(id=2)\n",
    "df = adult.data.features\n",
    "df.head(5)"
   ]
  },
  {
   "cell_type": "markdown",
   "id": "19007a18",
   "metadata": {},
   "source": [
    "Let's look at only the following education levels: `HS-grad, Bachelors, Masters` and `Doctorate`"
   ]
  },
  {
   "cell_type": "code",
   "execution_count": 43,
   "id": "b2b5570e",
   "metadata": {},
   "outputs": [
    {
     "data": {
      "text/plain": [
       "education\n",
       "HS-grad      15784\n",
       "Bachelors     8025\n",
       "Masters       2657\n",
       "Doctorate      594\n",
       "Name: count, dtype: int64"
      ]
     },
     "execution_count": 43,
     "metadata": {},
     "output_type": "execute_result"
    }
   ],
   "source": [
    "df = df.loc[\n",
    "        df['education'].isin(['HS-grad', 'Bachelors', 'Masters', 'Doctorate'])\n",
    "    ]\n",
    "\n",
    "df.value_counts('education')"
   ]
  },
  {
   "cell_type": "markdown",
   "id": "1bc5b75d",
   "metadata": {},
   "source": [
    "> #### Question\n",
    "\n",
    "Is there a difference in the distribution of education levels between Males and Females\n"
   ]
  },
  {
   "cell_type": "code",
   "execution_count": 44,
   "id": "3ef47607",
   "metadata": {},
   "outputs": [
    {
     "data": {
      "text/html": [
       "<div>\n",
       "<style scoped>\n",
       "    .dataframe tbody tr th:only-of-type {\n",
       "        vertical-align: middle;\n",
       "    }\n",
       "\n",
       "    .dataframe tbody tr th {\n",
       "        vertical-align: top;\n",
       "    }\n",
       "\n",
       "    .dataframe thead th {\n",
       "        text-align: right;\n",
       "    }\n",
       "</style>\n",
       "<table border=\"1\" class=\"dataframe\">\n",
       "  <thead>\n",
       "    <tr style=\"text-align: right;\">\n",
       "      <th>education</th>\n",
       "      <th>Bachelors</th>\n",
       "      <th>Doctorate</th>\n",
       "      <th>HS-grad</th>\n",
       "      <th>Masters</th>\n",
       "    </tr>\n",
       "    <tr>\n",
       "      <th>sex</th>\n",
       "      <th></th>\n",
       "      <th></th>\n",
       "      <th></th>\n",
       "      <th></th>\n",
       "    </tr>\n",
       "  </thead>\n",
       "  <tbody>\n",
       "    <tr>\n",
       "      <th>Female</th>\n",
       "      <td>2477</td>\n",
       "      <td>113</td>\n",
       "      <td>5097</td>\n",
       "      <td>845</td>\n",
       "    </tr>\n",
       "    <tr>\n",
       "      <th>Male</th>\n",
       "      <td>5548</td>\n",
       "      <td>481</td>\n",
       "      <td>10687</td>\n",
       "      <td>1812</td>\n",
       "    </tr>\n",
       "  </tbody>\n",
       "</table>\n",
       "</div>"
      ],
      "text/plain": [
       "education  Bachelors  Doctorate  HS-grad  Masters\n",
       "sex                                              \n",
       "Female          2477        113     5097      845\n",
       "Male            5548        481    10687     1812"
      ]
     },
     "execution_count": 44,
     "metadata": {},
     "output_type": "execute_result"
    }
   ],
   "source": [
    "contingency_table = pd.crosstab( df['sex'], df['education'])\n",
    "contingency_table"
   ]
  },
  {
   "cell_type": "markdown",
   "id": "b5c1d60d",
   "metadata": {},
   "source": [
    "> #### HW2 -> compute the test statistic and the p-value for this example"
   ]
  }
 ],
 "metadata": {
  "celltoolbar": "Slideshow",
  "kernelspec": {
   "display_name": "Python 3 (ipykernel)",
   "language": "python",
   "name": "python3"
  },
  "language_info": {
   "codemirror_mode": {
    "name": "ipython",
    "version": 3
   },
   "file_extension": ".py",
   "mimetype": "text/x-python",
   "name": "python",
   "nbconvert_exporter": "python",
   "pygments_lexer": "ipython3",
   "version": "3.12.1"
  },
  "toc": {
   "base_numbering": 2
  }
 },
 "nbformat": 4,
 "nbformat_minor": 5
}
