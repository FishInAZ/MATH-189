{
 "cells": [
  {
   "cell_type": "markdown",
   "id": "200e3bab",
   "metadata": {
    "editable": true,
    "slideshow": {
     "slide_type": "slide"
    },
    "tags": []
   },
   "source": [
    "# Week 2\n",
    "## MATH 189 • Data Analysis & Inference • Wi 2024\n",
    "### Siddharth Vishwanath"
   ]
  },
  {
   "cell_type": "markdown",
   "id": "306c677c-d173-4612-b1db-80e072fce061",
   "metadata": {},
   "source": [
    "% # %load tex-macros\n",
    "<div hidden>\n",
    "\\newcommand{\\require}[1]{}\n",
    "\n",
    "$\\require{begingroup}\\require{newcommand}$\n",
    "$\\long\\def \\forcecommand #1{\\providecommand{#1}{}\\renewcommand{#1}}$\n",
    "$\\forcecommand{\\defeq}{\\stackrel{\\small\\bullet}{=}}$\n",
    "$\\forcecommand{\\ra}{\\rangle}$\n",
    "$\\forcecommand{\\la}{\\langle}$\n",
    "$\\forcecommand{\\pr}{{\\mathbb P}}$\n",
    "$\\forcecommand{\\qr}{{\\mathbb Q}}$\n",
    "$\\forcecommand{\\xv}{{\\boldsymbol{x}}}$\n",
    "$\\forcecommand{\\av}{{\\boldsymbol{a}}}$\n",
    "$\\forcecommand{\\bv}{{\\boldsymbol{b}}}$\n",
    "$\\forcecommand{\\cv}{{\\boldsymbol{c}}}$\n",
    "$\\forcecommand{\\dv}{{\\boldsymbol{d}}}$\n",
    "$\\forcecommand{\\ev}{{\\boldsymbol{e}}}$\n",
    "$\\forcecommand{\\fv}{{\\boldsymbol{f}}}$\n",
    "$\\forcecommand{\\gv}{{\\boldsymbol{g}}}$\n",
    "$\\forcecommand{\\hv}{{\\boldsymbol{h}}}$\n",
    "$\\forcecommand{\\nv}{{\\boldsymbol{n}}}$\n",
    "$\\forcecommand{\\sv}{{\\boldsymbol{s}}}$\n",
    "$\\forcecommand{\\tv}{{\\boldsymbol{t}}}$\n",
    "$\\forcecommand{\\uv}{{\\boldsymbol{u}}}$\n",
    "$\\forcecommand{\\vv}{{\\boldsymbol{v}}}$\n",
    "$\\forcecommand{\\wv}{{\\boldsymbol{w}}}$\n",
    "$\\forcecommand{\\zerov}{{\\mathbf{0}}}$\n",
    "$\\forcecommand{\\onev}{{\\mathbf{0}}}$\n",
    "$\\forcecommand{\\phiv}{{\\boldsymbol{\\phi}}}$\n",
    "$\\forcecommand{\\cc}{{\\check{C}}}$\n",
    "$\\forcecommand{\\xv}{{\\boldsymbol{x}}}$\n",
    "$\\forcecommand{\\Xv}{{\\boldsymbol{X}\\!}}$\n",
    "$\\forcecommand{\\yv}{{\\boldsymbol{y}}}$\n",
    "$\\forcecommand{\\Yv}{{\\boldsymbol{Y}}}$\n",
    "$\\forcecommand{\\zv}{{\\boldsymbol{z}}}$\n",
    "$\\forcecommand{\\Zv}{{\\boldsymbol{Z}}}$\n",
    "$\\forcecommand{\\Iv}{{\\boldsymbol{I}}}$\n",
    "$\\forcecommand{\\Jv}{{\\boldsymbol{J}}}$\n",
    "$\\forcecommand{\\Cv}{{\\boldsymbol{C}}}$\n",
    "$\\forcecommand{\\Ev}{{\\boldsymbol{E}}}$\n",
    "$\\forcecommand{\\Fv}{{\\boldsymbol{F}}}$\n",
    "$\\forcecommand{\\Gv}{{\\boldsymbol{G}}}$\n",
    "$\\forcecommand{\\Hv}{{\\boldsymbol{H}}}$\n",
    "$\\forcecommand{\\alphav}{{\\boldsymbol{\\alpha}}}$\n",
    "$\\forcecommand{\\epsilonv}{{\\boldsymbol{\\epsilon}}}$\n",
    "$\\forcecommand{\\betav}{{\\boldsymbol{\\beta}}}$\n",
    "$\\forcecommand{\\deltav}{{\\boldsymbol{\\delta}}}$\n",
    "$\\forcecommand{\\gammav}{{\\boldsymbol{\\gamma}}}$\n",
    "$\\forcecommand{\\etav}{{\\boldsymbol{\\eta}}}$\n",
    "$\\forcecommand{\\piv}{{\\boldsymbol{\\pi}}}$\n",
    "$\\forcecommand{\\thetav}{{\\boldsymbol{\\theta}}}$\n",
    "$\\forcecommand{\\tauv}{{\\boldsymbol{\\tau}}}$\n",
    "$\\forcecommand{\\muv}{{\\boldsymbol{\\mu}}}$\n",
    "$%$\n",
    "$\\forcecommand{\\sd}{\\text{SD}}$\n",
    "$\\forcecommand{\\se}{\\text{SE}}$\n",
    "$\\forcecommand{\\med}{\\text{median}}$\n",
    "$\\forcecommand{\\median}{\\text{median}}$\n",
    "$%$\n",
    "$\\forcecommand{\\Ber}{{\\text{Ber}}}$\n",
    "$\\forcecommand{\\Bin}{{\\text{Bin}}}$\n",
    "$\\forcecommand{\\Geo}{{\\text{Geo}}}$\n",
    "$\\forcecommand{\\Unif}{{\\text{Unif}}}$\n",
    "$\\forcecommand{\\Poi}{{\\text{Poi}}}$\n",
    "$\\forcecommand{\\Exp}{{\\text{Exp}}}$\n",
    "$\\forcecommand{\\Chisq}{{\\chi^2}}$\n",
    "$\\forcecommand{\\N}{\\mathbb{N}}$\n",
    "$\\forcecommand{\\iid}{{\\stackrel{iid}{\\sim}}}$\n",
    "$\\forcecommand{\\px}{p_{X}}$\n",
    "$\\forcecommand{\\fx}{f_{X}}$\n",
    "$\\forcecommand{\\Fx}{F_{X}}$\n",
    "$\\forcecommand{\\py}{p_{Y}}$\n",
    "$\\forcecommand{\\pxy}{p_{X,Y}}$\n",
    "$\\forcecommand{\\po}{{p_0}}$\n",
    "$\\forcecommand{\\pa}{{p_a}}$\n",
    "$\\forcecommand{\\Xbar}{\\overline{X}}$\n",
    "$\\forcecommand{\\Ybar}{\\overline{Y}}$\n",
    "$\\forcecommand{\\Zbar}{\\overline{Z}}$\n",
    "$\\forcecommand{\\nXbar}{n \\cdot \\overline{X}}$\n",
    "$\\forcecommand{\\nYbar}{n \\cdot \\overline{Y}}$\n",
    "$\\forcecommand{\\nZbar}{n \\cdot \\overline{Z}}$\n",
    "$\\forcecommand{\\Xn}{X_1, X_2, \\dots, X_n}$\n",
    "$\\forcecommand{\\Xm}{{X_1, X_2, \\dots, X_m}}$\n",
    "$\\forcecommand{\\Yn}{Y_1, Y_2, \\dots, Y_n}$\n",
    "$\\forcecommand{\\Ym}{{Y_1, Y_2, \\dots, Y_m}}$\n",
    "$\\forcecommand{\\sumXn}{X_1 + X_2 + \\dots + X_n}$\n",
    "$\\forcecommand{\\sumym}{Y_1 + Y_2 + \\dots + Y_m}$\n",
    "$\\forcecommand{\\la}{\\ell_\\alpha}$\n",
    "$\\forcecommand{\\ua}{u_\\alpha}$\n",
    "$\\forcecommand{\\at}{{\\alpha/2}}$\n",
    "$\\forcecommand{\\mux}{\\mu_{X}}$\n",
    "$\\forcecommand{\\muy}{\\mu_{Y}}$\n",
    "$\\forcecommand{\\sx}{\\sigma_{X}}$\n",
    "$\\forcecommand{\\sy}{\\sigma_{Y}}$\n",
    "$\\forcecommand{\\pvalue}{$p$-value}$\n",
    "$\\forcecommand{\\Ho}{H_{0}}$\n",
    "$\\forcecommand{\\Ha}{H_{a}}$\n",
    "\n",
    "\\vskip-\\parskip\n",
    "\\vskip-\\baselineskip\n",
    "</div>"
   ]
  },
  {
   "cell_type": "markdown",
   "id": "3b96abc1",
   "metadata": {
    "editable": true,
    "slideshow": {
     "slide_type": "slide"
    },
    "tags": []
   },
   "source": [
    "## Agenda\n",
    "---\n",
    "\n",
    "1. Quick Review of Probability\n",
    "\n",
    "2. Review of Statistical Inference\n",
    "    * One sample proportion\n",
    "    * Two sample proportions\n",
    "    * One sample mean\n",
    "    * Two sample means\n",
    "\n",
    "---"
   ]
  },
  {
   "cell_type": "code",
   "execution_count": 1,
   "id": "36f314af",
   "metadata": {
    "editable": true,
    "slideshow": {
     "slide_type": ""
    },
    "tags": []
   },
   "outputs": [],
   "source": [
    "import numpy as np\n",
    "import pandas as pd\n",
    "import seaborn as sns\n",
    "import matplotlib.pyplot as plt\n",
    "import seaborn as sns\n",
    "\n",
    "# Optional \n",
    "import ipywidgets as widgets\n",
    "from ipywidgets import interact, fixed\n",
    "%matplotlib inline"
   ]
  },
  {
   "cell_type": "markdown",
   "id": "91e99521",
   "metadata": {
    "editable": true,
    "slideshow": {
     "slide_type": "slide"
    },
    "tags": []
   },
   "source": [
    "## 1. Quick Review of Probability\n",
    "\n",
    "##### 1.1 Types of Probability\n",
    "\n",
    "* **Empiricial Probability**: based on repeatedly observing the outcome of an event\n",
    "\n",
    "$$\n",
    "\\pr(A) = \\frac{\\text{\\# of times A occurs}}{\\text{\\# of trials}}\n",
    "$$\n",
    "\n",
    "* **Theoretical Probability**: based on the assumption of a model\n",
    "\n",
    "\n",
    "$$\n",
    "\\pr(A) = \\frac{\\text{\\# of ways A can occur}}{\\text{\\# of possible outcomes}}\n",
    "$$\n",
    "\n",
    "* **Subjective Probability**: based on a person's opinion\n",
    "\n",
    "\n",
    "$$\n",
    "\\pr(A) = \\text{degree of belief that A will occur}\n",
    "$$\n",
    "\n",
    "\n",
    "#### 1.2 Random Variables\n",
    "\n",
    "* A **random variable**, usually denoted $X$, is a variable whose value is a numerical outcome of a random phenomenon. \n",
    "\n",
    "The **distribution** of the random variable describes the probability of each possible outcome, and is denoted by $X \\sim D(\\theta)$ for some parameter of interest $\\theta$, e.g., \n",
    "\n",
    "\n",
    "$$\n",
    "\\begin{aligned}\n",
    "X &\\sim \\text{Bin}(n,p) \\\\\n",
    "X &\\sim \\text{Poi}(\\lambda) \\\\\n",
    "X &\\sim \\text{Exp}(\\lambda) \\\\\n",
    "X &\\sim \\text{Unif}(a,b) \\\\\n",
    "X &\\sim \\text{N}(\\mu, \\sigma^2) \\\\\n",
    "\\end{aligned}\n",
    "$$\n",
    "\n",
    "\n",
    "##### Support:\n",
    "\n",
    "The **support** of a random variables, $\\text{supp}(X)$,  is the set of all possible values it can take.\n",
    "\n",
    "* A **discrete random variable** is a random variable for which $\\text{supp}(X)$ is finite or countably infinite number of values.\n",
    "\n",
    "* A **continuous random variable** is a random variable for which $\\text{supp}(X)$ is in an interval on the real line, or the entire real line iteself."
   ]
  },
  {
   "cell_type": "markdown",
   "id": "db0c40a4",
   "metadata": {
    "editable": true,
    "slideshow": {
     "slide_type": "slide"
    },
    "tags": []
   },
   "source": [
    "## Example: Discrete Random Variable\n",
    "\n",
    "* The number of heads in 4 tosses of a fair coin.\n",
    "\n",
    "* The number of people who arrive at a bus stop in the next hour.\n",
    "\n",
    "* The number of parking spots available in the Gilman Parking structure.\n",
    "\n",
    "\n",
    "Consider the following example:\n",
    "\n",
    "You toss four coins. Let $X$ be the number of heads that appear. Then $X$ is a random variable that can take on the values $0, 1, 2, 3, 4$.\n",
    "\n",
    "Let $Y$ be the random variable given by\n",
    "$$\n",
    "Y = \\begin{cases}\n",
    "1 & \\text{if there are exactly two heads} \\\\\n",
    "0 & \\text{otherwise}\\\\\n",
    "\\end{cases}\n",
    "$$\n",
    "Both $X$ and $Y$ are discrete random variables."
   ]
  },
  {
   "cell_type": "code",
   "execution_count": 2,
   "id": "92cb5e07",
   "metadata": {
    "tags": []
   },
   "outputs": [
    {
     "name": "stdout",
     "output_type": "stream",
     "text": [
      "Outcome = 0\n",
      "\n"
     ]
    }
   ],
   "source": [
    "import scipy.stats as stats\n",
    "\n",
    "def coin_toss(size=1):\n",
    "    return np.random.choice(['H', 'T'], size=size)\n",
    "\n",
    "trial = coin_toss(4)\n",
    "# _, counts = np.unique(trial, return_counts=True)\n",
    "# num_heads = counts[0]\n",
    "\n",
    "\n",
    "X = lambda num_coins: np.unique(coin_toss(num_coins), return_counts=True)[1][0]\n",
    "Y = lambda num_coins: 1 if np.unique(coin_toss(num_coins), return_counts=True)[1][0] == 2 else 0\n",
    "\n",
    "print(f'Outcome = {Y(4)}\\n')"
   ]
  },
  {
   "cell_type": "code",
   "execution_count": 3,
   "id": "5cb76eea",
   "metadata": {
    "tags": []
   },
   "outputs": [
    {
     "data": {
      "application/vnd.jupyter.widget-view+json": {
       "model_id": "bf44552cf13f4883bc7a2780cf32c1d4",
       "version_major": 2,
       "version_minor": 0
      },
      "text/plain": [
       "interactive(children=(Dropdown(description='num_trials', options=(10, 100, 500, 1000), value=10), Output()), _…"
      ]
     },
     "metadata": {},
     "output_type": "display_data"
    }
   ],
   "source": [
    "## Law of large numbers\n",
    "\n",
    "# Number of trials and coin tosses per trial\n",
    "num_trials, num_coins = 100, 4\n",
    "\n",
    "@interact(num_trials=[10, 100, 500, 1000], num_coins=fixed(4))\n",
    "def many_trials(num_trials, num_coins):\n",
    "    # Number of heads per trial\n",
    "    Xs = [X(num_coins) for _ in range(num_trials)]\n",
    "    Ys = [Y(num_coins) for _ in range(num_trials)]\n",
    "\n",
    "    # plot num_trials vs average(num_heads)\n",
    "    average_X = np.cumsum(Xs) / np.arange(1, num_trials + 1)\n",
    "    average_Y = np.cumsum(Ys) / np.arange(1, num_trials + 1)\n",
    "\n",
    "\n",
    "    fix, axs = plt.subplots(1, 2, figsize=(12, 4))\n",
    "    axs[0].plot(range(1, num_trials + 1), average_X)\n",
    "    axs[0].set_xlabel('Number of trials')\n",
    "    axs[0].set_ylabel('Average')\n",
    "    axs[0].set_title('Average number of heads')\n",
    "\n",
    "    axs[1].plot(range(1, num_trials + 1), average_Y)\n",
    "    axs[1].set_xlabel('Number of trials')\n",
    "    axs[1].set_ylabel('Average')\n",
    "    axs[1].set_title('Average number of heads == 2?')"
   ]
  },
  {
   "cell_type": "markdown",
   "id": "23bdec86",
   "metadata": {},
   "source": [
    "\n",
    "#### 1.3 Probability Mass Function (PMF)\n",
    "\n",
    "\n",
    "* The **probability mass function** (PMF) of a discrete random variable $X$ is a function $p_X$ that gives the probability that $X$ is exactly equal to some value.\n",
    "\n",
    "\n",
    "$$\n",
    "p_X(x) = \\pr(X = x)\n",
    "$$"
   ]
  },
  {
   "cell_type": "markdown",
   "id": "cfdb7669",
   "metadata": {},
   "source": [
    "##### Example: Bernoulli Random variables\n",
    "\n",
    "$X \\sim \\text{Ber}(p)$ is a random variable that can take on only two values, 0 and 1.\n",
    "\n",
    "$$\n",
    "p_X(x) = \\begin{cases}\n",
    "p & \\text{if } x = 1 \\\\\n",
    "1-p & \\text{if } x = 0 \\\\\n",
    "\\end{cases}\n",
    "$$"
   ]
  },
  {
   "cell_type": "code",
   "execution_count": 4,
   "id": "81dd2507",
   "metadata": {
    "tags": []
   },
   "outputs": [
    {
     "data": {
      "text/plain": [
       "Text(0.5, 1.0, '$Ber(0.8)$')"
      ]
     },
     "execution_count": 4,
     "metadata": {},
     "output_type": "execute_result"
    },
    {
     "data": {
      "image/png": "[encoded data removed]",
      "text/plain": [
       "<Figure size 640x480 with 1 Axes>"
      ]
     },
     "metadata": {},
     "output_type": "display_data"
    }
   ],
   "source": [
    "X_ber = stats.bernoulli(0.8)\n",
    "\n",
    "# generate samples from the distribution\n",
    "X_ber.rvs(10)\n",
    "\n",
    "\n",
    "supp_X_ber = X_ber.support()\n",
    "prob_X_ber = X_ber.pmf(supp_X_ber)\n",
    "\n",
    "## barplot of the probability mass function\n",
    "plt.bar(supp_X_ber, prob_X_ber)\n",
    "plt.xlabel('Support')\n",
    "plt.ylabel('Probability mass function')\n",
    "plt.title(r'$Ber(0.8)$')"
   ]
  },
  {
   "cell_type": "markdown",
   "id": "4b2195ce",
   "metadata": {},
   "source": [
    "---"
   ]
  },
  {
   "cell_type": "markdown",
   "id": "ce456e81",
   "metadata": {},
   "source": [
    "#### 1.4 Probability Density Function (PDF)\n",
    "\n",
    "* The **probability density function** (PDF) of a continuous random variable $X$ is a function $f_X$ that gives the probability that $X$ is in a particular interval.\n",
    "\n",
    "$$\n",
    "\\pr(a \\leq X \\leq b) = \\int_a^b f_X(x) dx\n",
    "$$\n"
   ]
  },
  {
   "cell_type": "markdown",
   "id": "e9790f42",
   "metadata": {},
   "source": [
    "##### Example: Normal Random variables\n",
    "\n",
    "$X \\sim \\text{N}(\\mu, \\sigma^2)$ can take on any value on the real line.\n",
    "\n",
    "$$\n",
    "f_X(x) = \\frac{1}{\\sqrt{2 \\pi \\sigma^2}} \\exp \\left( - \\frac{(x - \\mu)^2}{2 \\sigma^2} \\right)\n",
    "$$"
   ]
  },
  {
   "cell_type": "code",
   "execution_count": 5,
   "id": "46462b91",
   "metadata": {
    "tags": []
   },
   "outputs": [
    {
     "data": {
      "image/png": "[encoded data removed]",
      "text/plain": [
       "<Figure size 640x480 with 1 Axes>"
      ]
     },
     "metadata": {},
     "output_type": "display_data"
    }
   ],
   "source": [
    "X_normal = stats.norm(0.0, 1.0)\n",
    "\n",
    "# generate samples from the distribution\n",
    "X_normal.rvs(10)\n",
    "\n",
    "\n",
    "supp_X_normal = X_normal.support()\n",
    "supp_X_normal\n",
    "\n",
    "range_X_normal = np.linspace(-5, 5, 100)\n",
    "pdf_X_normal = X_normal.pdf(range_X_normal)\n",
    "\n",
    "## plot the probability density function\n",
    "plt.plot(range_X_normal, pdf_X_normal)\n",
    "plt.xlabel('Support')\n",
    "plt.ylabel('Probability density function')\n",
    "plt.title(r'$N(\\mu, \\sigma^2)$');"
   ]
  },
  {
   "cell_type": "markdown",
   "id": "9203eeb2",
   "metadata": {},
   "source": [
    "#### 1.5 Cumulative Distribution Function (CDF)\n",
    "\n",
    "\n",
    "* The **cumulative distribution function** (CDF) of a random variable $X$ is a function $F_X$ that gives the probability that $X$ is less than or equal to a particular value.\n",
    "\n",
    "$$\n",
    "F_X(x) = \\pr(X \\leq x)\n",
    "$$\n",
    "\n",
    "Using the PDF/PMF the CDF is given by\n",
    "\n",
    "$$\n",
    "F_X(x) = \\begin{cases}\n",
    "\\displaystyle\\sum_{y \\leq x} p_X(y) & \\text{if } X \\text{ is discrete} \\\\ \\\\\n",
    "\\displaystyle\\int_{-\\infty}^x f_X(y) dy & \\text{if } X \\text{ is continuous} \\\\\n",
    "\\end{cases}\n",
    "$$\n",
    "\n",
    "\n"
   ]
  },
  {
   "cell_type": "code",
   "execution_count": 6,
   "id": "344e5b73",
   "metadata": {
    "tags": []
   },
   "outputs": [
    {
     "data": {
      "application/vnd.jupyter.widget-view+json": {
       "model_id": "e56036e607fc4fd7aaaa08f9ea1bd851",
       "version_major": 2,
       "version_minor": 0
      },
      "text/plain": [
       "interactive(children=(FloatSlider(value=0.5, description='p', max=1.0), FloatSlider(value=0.0, description='mu…"
      ]
     },
     "metadata": {},
     "output_type": "display_data"
    }
   ],
   "source": [
    "@interact( p=(0.0, 1.0, 0.1), mu=(-5.0, 5.0, 0.1), sigma=(0.1, 5.0, 0.1) )\n",
    "def plot_cdf(p=0.5, mu=0.0, sigma=1.0):\n",
    "    X_bernoulli = stats.bernoulli(p)\n",
    "    X_normal = stats.norm(mu, sigma)\n",
    "\n",
    "    fig, axes = plt.subplots(1, 2, figsize=(12, 4), sharey=True)\n",
    "\n",
    "    supp_X_bernoulli = np.arange(-1, 2, step=0.01)\n",
    "    cdf_X_bernoulli = X_bernoulli.cdf(supp_X_bernoulli)\n",
    "\n",
    "    axes[0].plot(supp_X_bernoulli, cdf_X_bernoulli)\n",
    "    axes[0].set_xlabel('Support')\n",
    "    axes[0].set_ylabel('Cumulative distribution function')\n",
    "\n",
    "    supp_X_normal = np.linspace(-5, 5, 100)\n",
    "    cdf_X_normal = X_normal.cdf(supp_X_normal)\n",
    "\n",
    "    axes[1].plot(supp_X_normal, cdf_X_normal)\n",
    "    axes[1].set_xlabel('Support')\n",
    "    # axes[1].set_ylabel('Cumulative distribution function')\n",
    "\n",
    "    axes[0].set_title(rf'$Ber({p})$')\n",
    "    axes[1].set_title(rf'$N({mu: .2f}, {sigma: .2f})$');"
   ]
  },
  {
   "cell_type": "markdown",
   "id": "8bff72b4",
   "metadata": {},
   "source": [
    "#### some helpful plotting functions"
   ]
  },
  {
   "cell_type": "code",
   "execution_count": 7,
   "id": "dca005b7",
   "metadata": {
    "tags": []
   },
   "outputs": [
    {
     "data": {
      "text/plain": [
       "True"
      ]
     },
     "execution_count": 7,
     "metadata": {},
     "output_type": "execute_result"
    }
   ],
   "source": [
    "isinstance(stats.poisson(1).dist, stats.rv_discrete)"
   ]
  },
  {
   "cell_type": "code",
   "execution_count": 8,
   "id": "7bcc5298",
   "metadata": {
    "tags": []
   },
   "outputs": [],
   "source": [
    "# Helper function to plot the pmf of a discrete random variable\n",
    "def plot_pmf(X, ax):\n",
    "    min_X, max_X = X.ppf((0.0, 0.999))\n",
    "    supp_X = np.arange(min_X-1, max_X + 1)\n",
    "    prob_X = X.pmf(supp_X)\n",
    "    ax.bar(supp_X, prob_X)\n",
    "    ax.set_xlabel('Support')\n",
    "    ax.set_ylabel('PMF')\n",
    "    ax.set_title(f'PMF of {X.dist.name}{X.args}')\n",
    "\n",
    "# Helper function to plot the pdf of a continuous random variable\n",
    "def plot_pdf(X, ax):\n",
    "    min_X, max_X = X.ppf((0.001, 0.999))\n",
    "    supp_X = np.linspace(min_X, max_X, 100)\n",
    "    pdf_X = X.pdf(supp_X)\n",
    "    ax.plot(supp_X, pdf_X)\n",
    "    ax.set_xlabel('Support')\n",
    "    ax.set_ylabel('PDF')\n",
    "    ax.set_title(f'PDF of {X.dist.name}{X.args}')\n",
    "\n",
    "# Helper function to plot the cdf of a random variable\n",
    "def plot_cdf(X, ax):\n",
    "    min_X, max_X = X.ppf((0.0, 0.999)) if isinstance(X.dist, stats.rv_discrete) else X.ppf((0.001, 0.999))\n",
    "    supp_X = np.linspace(min_X, max_X, 100)\n",
    "    cdf_X = X.cdf(supp_X)\n",
    "    ax.plot(supp_X, cdf_X)\n",
    "    ax.set_xlabel('Support')\n",
    "    ax.set_ylabel('CDF')\n",
    "    ax.set_title(f'CDF of {X.dist.name}{X.args}')"
   ]
  },
  {
   "cell_type": "code",
   "execution_count": 9,
   "id": "40128ae0",
   "metadata": {
    "tags": []
   },
   "outputs": [
    {
     "data": {
      "image/png": "[encoded data removed]",
      "text/plain": [
       "<Figure size 500x500 with 1 Axes>"
      ]
     },
     "metadata": {},
     "output_type": "display_data"
    }
   ],
   "source": [
    "fig, ax = plt.subplots(1, 1, figsize=(5, 5))\n",
    "X = stats.bernoulli(0.2)\n",
    "plot_cdf(X, ax)"
   ]
  },
  {
   "cell_type": "markdown",
   "id": "4486a65b",
   "metadata": {},
   "source": [
    "---"
   ]
  },
  {
   "cell_type": "markdown",
   "id": "5438feab",
   "metadata": {},
   "source": [
    "Closer look at the Normal CDF:"
   ]
  },
  {
   "cell_type": "code",
   "execution_count": 10,
   "id": "dfec6f6f",
   "metadata": {
    "tags": []
   },
   "outputs": [
    {
     "data": {
      "application/vnd.jupyter.widget-view+json": {
       "model_id": "f34722afd1f849b7ba51f40bfa0cdd13",
       "version_major": 2,
       "version_minor": 0
      },
      "text/plain": [
       "interactive(children=(FloatSlider(value=0.0, description='x', max=3.0, min=-3.0), Output()), _dom_classes=('wi…"
      ]
     },
     "metadata": {},
     "output_type": "display_data"
    }
   ],
   "source": [
    "@interact(x = (-3.0, 3.0, 0.1))\n",
    "def norm_cdf(x=0.0):\n",
    "    X_normal = stats.norm(0.0, 1.0)\n",
    "    fig, axes = plt.subplots(1, 2, figsize=(12, 4))\n",
    "\n",
    "    # shade the region under the curve\n",
    "    plot_pdf(X_normal, axes[0])\n",
    "    plot_cdf(X_normal, axes[1])\n",
    "    axes[0].axvline(x=x, color='red', linestyle='--')\n",
    "    axes[1].axvline(x=x, color='red', linestyle='--')\n",
    "    \n",
    "    # shade area between -inf and x\n",
    "    x_range = np.linspace(-3.5, x, 100)\n",
    "    axes[0].fill_between(x_range, X_normal.pdf(x_range), alpha=0.5)"
   ]
  },
  {
   "cell_type": "markdown",
   "id": "f415ca89",
   "metadata": {},
   "source": [
    "#### 1.5 Expected Value\n",
    "\n",
    "* The **expected value** of a random variable $X$ is, roughly speaking, the average value of $X$ over many repetitions of the experiment.\n",
    "\n",
    "$$\n",
    "\\begin{aligned}\n",
    "\\mathbb{E}(X) &= \\sum_{x \\in \\text{supp}(X)} x \\cdot p_X(x) &&\\text{if } X \\text{ is discrete} \\\\ \\\\\n",
    "\\mathbb{E}(X) &= \\int_{-\\infty}^\\infty x \\cdot f_X(x) dx &&\\text{if } X \\text{ is continuous} \\\\\n",
    "\\end{aligned}\n",
    "$$"
   ]
  },
  {
   "cell_type": "markdown",
   "id": "356ca62b",
   "metadata": {},
   "source": [
    "**For $X \\sim Ber(p)$:**\n",
    "\n",
    "$$\n",
    "\\mathbb{E}(X) = \\sum_{x \\in \\text{supp}(X)} x \\cdot p_X(x) = 0 \\cdot (1-p) + 1 \\cdot p = p\n",
    "$$\n",
    "\n",
    "**For $X \\sim N(\\mu, \\sigma^2)$:**\n",
    "\n",
    "$$\n",
    "\\mathbb{E}(X) = \\int_{-\\infty}^\\infty x \\cdot f_X(x) dx = \\int_{-\\infty}^\\infty x \\cdot \\frac{1}{\\sqrt{2 \\pi \\sigma^2}} \\exp \\left( - \\frac{(x - \\mu)^2}{2 \\sigma^2} \\right) dx = \\mu\n",
    "$$"
   ]
  },
  {
   "cell_type": "code",
   "execution_count": 11,
   "id": "8e4f54a2",
   "metadata": {
    "tags": []
   },
   "outputs": [
    {
     "data": {
      "application/vnd.jupyter.widget-view+json": {
       "model_id": "c8d2027f4691421190acfd729e08a0fe",
       "version_major": 2,
       "version_minor": 0
      },
      "text/plain": [
       "interactive(children=(Dropdown(description='num_trials', options=(10, 50, 100, 1000, 10000), value=10), FloatS…"
      ]
     },
     "metadata": {},
     "output_type": "display_data"
    }
   ],
   "source": [
    "## Law of large numbers for N(mu, sigma^2)\n",
    "\n",
    "@interact(mu=(-3.0, 3.0, 0.5), num_trials=[10, 50, 100, 1000, 10000], sigma=(0.1, 10.0))\n",
    "def norm_lln(num_trials=10, mu=0.0, sigma=1.0):\n",
    "    rs = np.random.RandomState(np.random.randint(1,10))\n",
    "    X = stats.norm(mu, sigma)\n",
    "    Xs = X.rvs(num_trials, rs)\n",
    "    average_X = np.cumsum(Xs) / np.arange(1, num_trials + 1)\n",
    "\n",
    "    fig, ax = plt.subplots(1, 1, figsize=(5, 5))\n",
    "    ax.set_ylim([-3, 3])\n",
    "\n",
    "    ax.plot(range(1, num_trials + 1), average_X)\n",
    "    ax.axhline(y=mu, color='red', linestyle='--')\n",
    "    ax.set_xlabel('Number of trials')\n",
    "    ax.set_ylabel('Average')"
   ]
  },
  {
   "cell_type": "markdown",
   "id": "b1004cbb",
   "metadata": {},
   "source": [
    "#### 1.6 Variance\n",
    "\n",
    "* The **variance** of a random variable $X$ is a measure of how much the values of $X$ vary as we repeat the experiment.\n",
    "\n",
    "$$\n",
    "\\begin{aligned}\n",
    "\\text{Var}(X) &= \\mathbb{E} \\left( (X - \\mathbb{E}(X))^2 \\right) \\\\ \\\\\n",
    "&= \\mathbb{E}(X^2) - \\mathbb{E}(X)^2 \\\\ \\\\\n",
    "\\end{aligned}\n",
    "$$"
   ]
  },
  {
   "cell_type": "markdown",
   "id": "9ef2ed52",
   "metadata": {},
   "source": [
    "**For $X \\sim Ber(p)$:**\n",
    "\n",
    "$$\n",
    "\\text{Var}(X) = \\mathbb{E}(X^2) - \\mathbb{E}(X)^2 = p - p^2 = p(1-p)\n",
    "$$\n",
    "\n",
    "**For $X \\sim N(\\mu, \\sigma^2)$:**\n",
    "\n",
    "$$\n",
    "\\text{Var}(X) = \\mathbb{E}(X^2) - \\mathbb{E}(X)^2 = (\\mu^2 + \\sigma^2) - \\mu^2 = \\sigma^2\n",
    "$$\n"
   ]
  },
  {
   "cell_type": "markdown",
   "id": "2dee47f7",
   "metadata": {},
   "source": [
    "---"
   ]
  },
  {
   "cell_type": "markdown",
   "id": "bbecfe6c",
   "metadata": {},
   "source": [
    "## §1.3 Examples of Random Variables"
   ]
  },
  {
   "cell_type": "markdown",
   "id": "b42035ea",
   "metadata": {},
   "source": [
    "### Binomial Random Variables\n",
    "\n",
    "$X \\sim \\text{Bin}(n,p)$ is a random variable that can take on values $0, 1, 2, \\dots, n$.\n",
    "\n",
    "$$\n",
    "p_X(x) = \\begin{cases}\n",
    "\\displaystyle{n \\choose x} p^x (1-p)^{n-x} & \\text{if } x = 0, 1, 2, \\dots, n \\\\\n",
    "0 & \\text{otherwise}\n",
    "\\end{cases}\n",
    "$$\n",
    "\n",
    "$$\n",
    "\\mathbb{E}(X) = np \\quad \\text{and} \\quad \\text{Var}(X) = np(1-p)\n",
    "$$"
   ]
  },
  {
   "cell_type": "code",
   "execution_count": 12,
   "id": "62a867e8",
   "metadata": {
    "tags": []
   },
   "outputs": [
    {
     "data": {
      "application/vnd.jupyter.widget-view+json": {
       "model_id": "5b2407f481cd4fecb02452705c0a603d",
       "version_major": 2,
       "version_minor": 0
      },
      "text/plain": [
       "interactive(children=(IntSlider(value=100, description='n', max=200, min=1), FloatSlider(value=0.5, descriptio…"
      ]
     },
     "metadata": {},
     "output_type": "display_data"
    }
   ],
   "source": [
    "@interact(n=(1, 200, 1), p=(0.1, 1.00, 0.1))\n",
    "def plot_binom(n, p):\n",
    "    fig, axes = plt.subplots(1, 2, figsize=(12, 4))\n",
    "    axes[0].set_ylim([0, 0.8 * np.max((p, 1-p))])\n",
    "    axes[1].set_ylim([-0.1, 1.1])\n",
    "    X_bin = stats.binom(n, p)\n",
    "    plot_pmf(X_bin, axes[0])\n",
    "    plot_cdf(X_bin, axes[1])"
   ]
  },
  {
   "cell_type": "markdown",
   "id": "ebb60e2e",
   "metadata": {},
   "source": [
    "---\n",
    "\n",
    "### Discrete Uniform Random Variable\n",
    "\n",
    "$X \\sim \\text{Unif}(\\{a,b\\})$ is a discrete uniform random variable that can take on values $a, a+1, a+2, \\dots, b$.\n",
    "\n",
    "$$\n",
    "p_X(x) = \\begin{cases}\n",
    "\\displaystyle\\frac{1}{b-a+1} & \\text{if } x = a, a+1, a+2, \\dots, b \\\\ \\\\\n",
    "0 & \\text{otherwise}\n",
    "\\end{cases}\n",
    "$$\n",
    "\n",
    "$$\n",
    "\\mathbb{E}(X) = \\frac{a+b}{2} \\quad \\text{and} \\quad \\text{Var}(X) = \\frac{(b-a+1)^2 - 1}{12}\n",
    "$$"
   ]
  },
  {
   "cell_type": "code",
   "execution_count": 13,
   "id": "d048023e",
   "metadata": {
    "tags": []
   },
   "outputs": [
    {
     "data": {
      "application/vnd.jupyter.widget-view+json": {
       "model_id": "d91577ca12b541ad8fcbae7b1a37d9a6",
       "version_major": 2,
       "version_minor": 0
      },
      "text/plain": [
       "interactive(children=(IntSlider(value=5, description='a', max=10), IntSlider(value=10, description='b', max=20…"
      ]
     },
     "metadata": {},
     "output_type": "display_data"
    }
   ],
   "source": [
    "@interact(a=(0, 10, 1), b=(1, 20, 1))\n",
    "def plot_discrete_uniform(a, b):\n",
    "    fig, axes = plt.subplots(1, 2, figsize=(12, 4))\n",
    "    axes[0].set_ylim([0, 2/(b-a+1)])\n",
    "    axes[1].set_ylim([-0.1, 1.1])\n",
    "    X_discrete_uniform = stats.randint(a, b+1)\n",
    "    plot_pmf(X_discrete_uniform, axes[0])\n",
    "    plot_cdf(X_discrete_uniform, axes[1])\n"
   ]
  },
  {
   "cell_type": "markdown",
   "id": "78277552",
   "metadata": {},
   "source": [
    "---\n",
    "\n",
    "### Poisson Random Variable\n",
    "\n",
    "$X \\sim \\text{Poi}(\\lambda)$ is a random variable that can take on values $0, 1, 2, \\dots$.\n",
    "\n",
    "$$\n",
    "p_X(x) = \\begin{cases}\n",
    "\\displaystyle\\frac{\\lambda^x}{x!} e^{-\\lambda} & \\text{if } x = 0, 1, 2, \\dots \\\\\n",
    "0 & \\text{otherwise}\n",
    "\\end{cases}\n",
    "$$\n",
    "\n",
    "$$\n",
    "\\begin{aligned}\n",
    "\\mathbb{E}(X) &= \\lambda \\quad \\text{and} \\quad \\text{Var}(X) &= \\lambda \\\\\n",
    "\\end{aligned}\n",
    "$$\n"
   ]
  },
  {
   "cell_type": "code",
   "execution_count": 14,
   "id": "34f70d36",
   "metadata": {
    "tags": []
   },
   "outputs": [
    {
     "data": {
      "application/vnd.jupyter.widget-view+json": {
       "model_id": "564502dd255f4a58b5bba5989754832b",
       "version_major": 2,
       "version_minor": 0
      },
      "text/plain": [
       "interactive(children=(FloatSlider(value=10.0, description='lambda_', max=20.0, min=0.1), Output()), _dom_class…"
      ]
     },
     "metadata": {},
     "output_type": "display_data"
    }
   ],
   "source": [
    "@interact(lambda_=(0.1, 20.0, 0.1))\n",
    "def plot_poisson(lambda_):\n",
    "    fig, axes = plt.subplots(1, 2, figsize=(12, 4))\n",
    "    axes[0].set_ylim([0, 1])\n",
    "    axes[1].set_ylim([-0.1, 1.1])\n",
    "    X_poisson = stats.poisson(lambda_)\n",
    "    plot_pmf(X_poisson, axes[0])\n",
    "    plot_cdf(X_poisson, axes[1])\n"
   ]
  },
  {
   "cell_type": "markdown",
   "id": "dddbddc4",
   "metadata": {},
   "source": [
    "---\n",
    "\n",
    "### Continuous Uniform Random Variable\n",
    "\n",
    "$X \\sim \\text{Unif}(a, b)$ is a random variable that can take on values $(a, b)$ for $a < b$.\n",
    "\n",
    "$$\n",
    "f_X(x) = \\begin{cases}\n",
    "\\displaystyle\\frac{1}{b-a} & \\text{if } a < x < b \\\\ \\\\\n",
    "0 & \\text{otherwise}\n",
    "\\end{cases}\n",
    "$$\n",
    "\n",
    "\n",
    "$$\n",
    "\\mathbb{E}(X) = \\frac{a+b}{2} \\quad \\text{and} \\quad \\text{Var}(X) = \\frac{(b-a)^2}{12}\n",
    "$$\n"
   ]
  },
  {
   "cell_type": "code",
   "execution_count": 15,
   "id": "bdc4e694",
   "metadata": {
    "tags": []
   },
   "outputs": [
    {
     "data": {
      "application/vnd.jupyter.widget-view+json": {
       "model_id": "a813f7d7f9304c5fbf1fdc6778a6a44b",
       "version_major": 2,
       "version_minor": 0
      },
      "text/plain": [
       "interactive(children=(FloatSlider(value=0.0, description='a', max=5.0, min=-5.0, step=0.5), FloatSlider(value=…"
      ]
     },
     "metadata": {},
     "output_type": "display_data"
    }
   ],
   "source": [
    "@interact(a=(-5.0, 5.0, 0.5), b=(0.0, 10.0, 0.5))\n",
    "def plot_uniform(a, b):\n",
    "    fig, axes = plt.subplots(1, 2, figsize=(12, 4))\n",
    "    axes[0].set_ylim([-0.1, 2.1])\n",
    "    axes[1].set_ylim([-0.1, 1.1])\n",
    "    X_uniform = stats.uniform(a, b-a)\n",
    "    plot_pdf(X_uniform, axes[0])\n",
    "    plot_cdf(X_uniform, axes[1])\n"
   ]
  },
  {
   "cell_type": "markdown",
   "id": "32ad7dbb",
   "metadata": {},
   "source": [
    "---\n",
    "\n",
    "### Exponential Random Variable\n",
    "\n",
    "$X \\sim \\text{Exp}(\\lambda)$ is a random variable that can take on values $(0, \\infty)$.\n",
    "\n",
    "$$\n",
    "f_X(x) = \\begin{cases}\n",
    "\\lambda e^{-\\lambda x} & \\text{if } x \\geq 0 \\\\\n",
    "0 & \\text{otherwise}\n",
    "\\end{cases}\n",
    "$$\n",
    "\n",
    "$$\n",
    "\\begin{aligned}\n",
    "\\mathbb{E}(X) &= \\frac{1}{\\lambda} \\quad \\text{and} \\quad \\text{Var}(X) &= \\frac{1}{\\lambda^2} \\\\\n",
    "\\end{aligned}\n",
    "$$"
   ]
  },
  {
   "cell_type": "code",
   "execution_count": 16,
   "id": "a6e06c50",
   "metadata": {
    "tags": []
   },
   "outputs": [
    {
     "data": {
      "application/vnd.jupyter.widget-view+json": {
       "model_id": "24abe889c51341b88fff51ad450efbd0",
       "version_major": 2,
       "version_minor": 0
      },
      "text/plain": [
       "interactive(children=(FloatSlider(value=2.5, description='lambda_', max=5.0, min=0.5, step=0.5), Output()), _d…"
      ]
     },
     "metadata": {},
     "output_type": "display_data"
    }
   ],
   "source": [
    "@interact(lambda_=(0.5, 5.0, 0.5))\n",
    "def plot_exponential(lambda_):\n",
    "    fig, axes = plt.subplots(1, 2, figsize=(12, 4))\n",
    "    axes[0].set_ylim([-0.1, 5.1])\n",
    "    axes[1].set_ylim([-0.1, 1.1])\n",
    "    X_exponential = stats.expon(scale=1/lambda_)\n",
    "    plot_pdf(X_exponential, axes[0])\n",
    "    plot_cdf(X_exponential, axes[1])\n"
   ]
  },
  {
   "cell_type": "markdown",
   "id": "a0db0dec",
   "metadata": {},
   "source": [
    "---\n",
    "\n",
    "### Chi-Squared Random Variable\n",
    "\n",
    "$X \\sim \\chi^2(k)$ is a random variable that can take on values $(0, \\infty)$.\n",
    "\n",
    "$$\n",
    "f_X(x) = \\begin{cases}\n",
    "\\displaystyle\\frac{1}{2^{k/2} \\Gamma(k/2)} x^{k/2 - 1} e^{-x/2} & \\text{if } x \\geq 0 \\\\\n",
    "0 & \\text{otherwise}\n",
    "\\end{cases}\n",
    "$$\n",
    "\n",
    "$$\n",
    "\\displaystyle X \\sim \\chi^2(k) \\Longleftrightarrow X = \\sum_{i=1}^k Z_i^2 \\quad \\text{where} \\quad Z_1, Z_2, \\dots, Z_n \\sim N(0,1)\n",
    "$$\n",
    "\n",
    "$$\n",
    "\\begin{aligned}\n",
    "\\mathbb{E}(X) &= k \\quad \\text{and} \\quad \\text{Var}(X) &= 2k \\\\\n",
    "\\end{aligned}\n",
    "$$\n"
   ]
  },
  {
   "cell_type": "code",
   "execution_count": 17,
   "id": "1ed4613f",
   "metadata": {
    "tags": []
   },
   "outputs": [
    {
     "data": {
      "application/vnd.jupyter.widget-view+json": {
       "model_id": "aaaf6458d1c44b74afc0d10e9d9374ee",
       "version_major": 2,
       "version_minor": 0
      },
      "text/plain": [
       "interactive(children=(IntSlider(value=15, description='df', max=30, min=1), Output()), _dom_classes=('widget-i…"
      ]
     },
     "metadata": {},
     "output_type": "display_data"
    }
   ],
   "source": [
    "@interact(df=(1, 30, 1))\n",
    "def plot_chisq(df):\n",
    "    fig, axes = plt.subplots(1, 2, figsize=(12, 4))\n",
    "    # axes[0].set_ylim([0, 1])\n",
    "    axes[1].set_ylim([-0.1, 1.1])\n",
    "    X_chisq = stats.chi2(df)\n",
    "    plot_pdf(X_chisq, axes[0])\n",
    "    plot_cdf(X_chisq, axes[1])\n"
   ]
  },
  {
   "cell_type": "markdown",
   "id": "c9242912",
   "metadata": {},
   "source": [
    "---\n",
    "\n",
    "### Student's t Random Variable\n",
    "\n",
    "$X \\sim \\text{t}(k)$ is a random variable that can take on values $(-\\infty, \\infty)$.\n",
    "\n",
    "$$\n",
    "X \\sim t(k) \\Longleftrightarrow X \\sim \\frac{Z}{\\sqrt{Y/k}} \\quad \\text{where } Z \\sim N(0,1) \\text{ and } Y \\sim \\text{Chisq}(k)\n",
    "$$"
   ]
  },
  {
   "cell_type": "code",
   "execution_count": 18,
   "id": "c21979c7",
   "metadata": {
    "tags": []
   },
   "outputs": [
    {
     "data": {
      "application/vnd.jupyter.widget-view+json": {
       "model_id": "bf879fba180641aaaf9c41592859f636",
       "version_major": 2,
       "version_minor": 0
      },
      "text/plain": [
       "interactive(children=(IntSlider(value=26, description='df', max=50, min=2), Output()), _dom_classes=('widget-i…"
      ]
     },
     "metadata": {},
     "output_type": "display_data"
    }
   ],
   "source": [
    "@interact(df=(2, 50, 1))\n",
    "def plot_t(df):\n",
    "    fig, axes = plt.subplots(1, 2, figsize=(12, 4))\n",
    "    axes[0].set_ylim([0, 0.5])\n",
    "    axes[1].set_ylim([-0.1, 1.1])\n",
    "    X_t = stats.t(df)\n",
    "    plot_pdf(X_t, axes[0])\n",
    "    plot_pdf(stats.norm(0,1), axes[0])\n",
    "    plot_cdf(X_t, axes[1])"
   ]
  },
  {
   "cell_type": "markdown",
   "id": "c9bb9a8a",
   "metadata": {},
   "source": [
    "---\n",
    "\n",
    "### F Random Variable\n",
    "\n",
    "$X \\sim \\text{F}(k_1, k_2)$ is a random variable that can take on values $(0, \\infty)$.\n",
    "\n",
    "$$\n",
    "X \\sim \\text{F}(k_1, k_2) \\Longleftrightarrow X \\sim \\frac{Y/k_1}{Z/k_2} \\quad \\text{where } Y \\sim \\text{Chisq}(k_1) \\text{ and } Z \\sim \\text{Chisq}(k_2)\n",
    "$$"
   ]
  },
  {
   "cell_type": "code",
   "execution_count": 19,
   "id": "df13d8a8",
   "metadata": {
    "tags": []
   },
   "outputs": [
    {
     "data": {
      "application/vnd.jupyter.widget-view+json": {
       "model_id": "04277db18c9941d6b29f9db99578ae48",
       "version_major": 2,
       "version_minor": 0
      },
      "text/plain": [
       "interactive(children=(IntSlider(value=50, description='df1', min=1), IntSlider(value=50, description='df2', mi…"
      ]
     },
     "metadata": {},
     "output_type": "display_data"
    }
   ],
   "source": [
    "@interact(df1=(1, 100, 1), df2=(1, 100, 1))\n",
    "def plot_f(df1, df2):\n",
    "    fig, axes = plt.subplots(1, 2, figsize=(12, 4))\n",
    "    # axes[0].set_ylim([0, 1])\n",
    "    axes[1].set_ylim([-0.1, 1.1])\n",
    "    X_f = stats.f(df1, df2)\n",
    "    plot_pdf(X_f, axes[0])\n",
    "    plot_cdf(X_f, axes[1])\n"
   ]
  },
  {
   "cell_type": "markdown",
   "id": "b3cf4c6d",
   "metadata": {},
   "source": [
    "---"
   ]
  },
  {
   "cell_type": "markdown",
   "id": "68a6023b",
   "metadata": {},
   "source": [
    "## §1.4 Law of Large Numbers\n",
    "\n",
    "* The **Law of Large Numbers** says that as the number of observations increases, the average of the observed values gets closer and closer to the expected value.\n",
    "\n",
    "$$\n",
    "\\frac{1}{n} \\sum_{i=1}^n X_i \\rightarrow \\mathbb{E}(X) \\quad \\text{as } n \\rightarrow \\infty\n",
    "$$"
   ]
  },
  {
   "cell_type": "code",
   "execution_count": 20,
   "id": "5202afb7",
   "metadata": {
    "tags": []
   },
   "outputs": [
    {
     "data": {
      "application/vnd.jupyter.widget-view+json": {
       "model_id": "56431e58b8c54f369edc535b7aee68c9",
       "version_major": 2,
       "version_minor": 0
      },
      "text/plain": [
       "interactive(children=(IntSlider(value=500, description='n', max=1000, step=100), Output()), _dom_classes=('wid…"
      ]
     },
     "metadata": {},
     "output_type": "display_data"
    }
   ],
   "source": [
    "X = stats.norm(10.0, 100.1)\n",
    "# X = stats.chi2(1010)\n",
    "# X = stats.f(1010, 3141)\n",
    "X = stats.norm(10.0, 100.1)\n",
    "\n",
    "@interact(n=(0, 1000, 100))\n",
    "def lln(n):\n",
    "    Xs = X.rvs(n)\n",
    "    average_X = np.cumsum(Xs) / np.arange(1, n + 1)\n",
    "    \n",
    "    fig, ax = plt.subplots(1, 1, figsize=(5, 5))\n",
    "    ax.plot(range(1, n + 1), average_X)\n",
    "    ax.axhline(y=X.mean(), color='red', linestyle='--')\n",
    "    \n",
    "    ax.set_ylim(np.array([-1, 1]) * X.std() + X.mean())\n",
    "    ax.set_xlim([1, 1000])\n",
    "    ax.set_xlabel('Number of trials')\n",
    "    ax.set_ylabel('Average')\n",
    "    ax.set_title(f'Average of {n} samples from {X.dist.name}{X.args}')"
   ]
  },
  {
   "cell_type": "markdown",
   "id": "53375b2e",
   "metadata": {},
   "source": [
    "## §1.5 Central Limit Theorem\n",
    "\n",
    "* The **Central Limit Theorem** says that as the number of observations increases, the **_distribution_** of the observed values gets closer and closer to the normal distribution.\n",
    "\n",
    "$$\n",
    "\\frac{\\overline{X} - \\mathbb{E}(X)}{\\sqrt{\\text{Var}(X)}} \\Longrightarrow N(0,1) \\quad \\text{as } n \\rightarrow \\infty\n",
    "$$\n"
   ]
  },
  {
   "cell_type": "code",
   "execution_count": 21,
   "id": "db73f62a",
   "metadata": {
    "tags": []
   },
   "outputs": [
    {
     "data": {
      "application/vnd.jupyter.widget-view+json": {
       "model_id": "fac53a755200493c9bb451c3083712bb",
       "version_major": 2,
       "version_minor": 0
      },
      "text/plain": [
       "interactive(children=(IntSlider(value=901, description='n', max=2000, min=1, step=100), Output()), _dom_classe…"
      ]
     },
     "metadata": {},
     "output_type": "display_data"
    }
   ],
   "source": [
    "# X = stats.norm(0, 2)\n",
    "# X = stats.chi2(20)\n",
    "X = stats.uniform(-10, 10)\n",
    "# X = stats.expon(10)\n",
    "\n",
    "@interact(n=(1, 2000, 100))\n",
    "def clt(n):\n",
    "    Xs = np.array([(X.rvs(n).mean() - X.mean()) / (X.std() / np.sqrt(n)) for _ in range(n)])\n",
    "    \n",
    "    fig, ax = plt.subplots(1, 1, figsize=(5, 5))\n",
    "    sns.histplot(Xs, bins=50, stat='density', ax=ax)\n",
    "\n",
    "    # get current x axis limits and plot standard normal pdf\n",
    "    xlim = ax.get_xlim()\n",
    "    x = np.linspace(*xlim, 100)\n",
    "    ax.plot(x, stats.norm.pdf(x), color='red', linestyle='--')\n",
    "    ax.set_title(f'{n} samples from {X.dist.name}{X.args}')\n"
   ]
  },
  {
   "cell_type": "markdown",
   "id": "1ebed9ba",
   "metadata": {},
   "source": [
    "---"
   ]
  }
 ],
 "metadata": {
  "celltoolbar": "Slideshow",
  "kernelspec": {
   "display_name": "Python 3 (ipykernel)",
   "language": "python",
   "name": "python3"
  },
  "language_info": {
   "codemirror_mode": {
    "name": "ipython",
    "version": 3
   },
   "file_extension": ".py",
   "mimetype": "text/x-python",
   "name": "python",
   "nbconvert_exporter": "python",
   "pygments_lexer": "ipython3",
   "version": "3.10.12"
  },
  "toc": {
   "base_numbering": 2
  }
 },
 "nbformat": 4,
 "nbformat_minor": 5
}
