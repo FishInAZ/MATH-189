{
 "cells": [
  {
   "cell_type": "markdown",
   "metadata": {},
   "source": [
    "## HW-2 • Math 189 • Wi 2024\n",
    "### Due Date: Sat, Feb 10th 2024\n",
    "\n",
    "> NAME: $\\color{red}{\\text{    Chenyu Li    }}$\n",
    "> \n",
    "> PID: $\\color{red}{\\text{    A16781926     }}$\n",
    ">\n",
    ">\n",
    "> "
   ]
  },
  {
   "cell_type": "markdown",
   "metadata": {},
   "source": [
    "---\n",
    "\n",
    "## Instructions\n",
    "* Submit your solutions online on Gradescope\n",
    "* Look at the detailed instructions [here](https://ucsd-math189-wi24.github.io/syllabus.html#assignments)\n",
    "\n",
    "\n",
    "I certify that the following write-up is my own work, and have abided by the UCSD Academic Integrity Guidelines.\n",
    "\n",
    "- [x] Yes\n",
    "- [ ] No\n",
    "\n",
    "---"
   ]
  },
  {
   "cell_type": "code",
   "execution_count": 1,
   "metadata": {
    "ExecuteTime": {
     "end_time": "2024-02-03T20:59:23.752164Z",
     "start_time": "2024-02-03T20:59:23.424779Z"
    }
   },
   "outputs": [],
   "source": [
    "import numpy as np\n",
    "import pandas as pd\n",
    "import matplotlib.pyplot as plt\n",
    "import seaborn as sns\n",
    "import scipy.stats as stats\n",
    "import statsmodels.api as sm\n",
    "\n",
    "## Configurations\n",
    "%matplotlib inline"
   ]
  },
  {
   "cell_type": "markdown",
   "metadata": {},
   "source": [
    "# Question 1"
   ]
  },
  {
   "cell_type": "markdown",
   "metadata": {},
   "source": [
    "For this question, we will use the following dataset from the UCI Machine Learning Repository: [Heart Disease Data Set](https://archive.ics.uci.edu/ml/datasets/Heart+Disease). To load the dataset, you can use the `ucimlrepo` package in Python. Uncomment the following cell to install the package"
   ]
  },
  {
   "cell_type": "code",
   "execution_count": 2,
   "metadata": {
    "ExecuteTime": {
     "end_time": "2024-02-03T20:59:34.979760Z",
     "start_time": "2024-02-03T20:59:33.651229Z"
    }
   },
   "outputs": [
    {
     "name": "stdout",
     "output_type": "stream",
     "text": [
      "Collecting ucimlrepo\r\n",
      "  Downloading ucimlrepo-0.0.3-py3-none-any.whl.metadata (5.2 kB)\r\n",
      "Downloading ucimlrepo-0.0.3-py3-none-any.whl (7.0 kB)\r\n",
      "Installing collected packages: ucimlrepo\r\n",
      "Successfully installed ucimlrepo-0.0.3\r\n"
     ]
    }
   ],
   "source": [
    "!pip install ucimlrepo"
   ]
  },
  {
   "cell_type": "markdown",
   "metadata": {},
   "source": [
    "You can load the dataset using the following code:"
   ]
  },
  {
   "cell_type": "code",
   "execution_count": 3,
   "metadata": {
    "ExecuteTime": {
     "end_time": "2024-02-03T20:59:47.162068Z",
     "start_time": "2024-02-03T20:59:46.593525Z"
    }
   },
   "outputs": [],
   "source": [
    "import ucimlrepo\n",
    "heart_disease = ucimlrepo.fetch_ucirepo(id=45) \n",
    "df = heart_disease.data.features"
   ]
  },
  {
   "cell_type": "markdown",
   "metadata": {},
   "source": [
    "> a. Load the dataset and display the first 5 rows of the dataset."
   ]
  },
  {
   "cell_type": "code",
   "execution_count": 4,
   "metadata": {
    "ExecuteTime": {
     "end_time": "2024-02-03T21:00:00.448391Z",
     "start_time": "2024-02-03T21:00:00.412509Z"
    }
   },
   "outputs": [
    {
     "data": {
      "text/plain": "   age  sex  cp  trestbps  chol  fbs  restecg  thalach  exang  oldpeak  slope  \\\n0   63    1   1       145   233    1        2      150      0      2.3      3   \n1   67    1   4       160   286    0        2      108      1      1.5      2   \n2   67    1   4       120   229    0        2      129      1      2.6      2   \n3   37    1   3       130   250    0        0      187      0      3.5      3   \n4   41    0   2       130   204    0        2      172      0      1.4      1   \n\n    ca  thal  \n0  0.0   6.0  \n1  3.0   3.0  \n2  2.0   7.0  \n3  0.0   3.0  \n4  0.0   3.0  ",
      "text/html": "<div>\n<style scoped>\n    .dataframe tbody tr th:only-of-type {\n        vertical-align: middle;\n    }\n\n    .dataframe tbody tr th {\n        vertical-align: top;\n    }\n\n    .dataframe thead th {\n        text-align: right;\n    }\n</style>\n<table border=\"1\" class=\"dataframe\">\n  <thead>\n    <tr style=\"text-align: right;\">\n      <th></th>\n      <th>age</th>\n      <th>sex</th>\n      <th>cp</th>\n      <th>trestbps</th>\n      <th>chol</th>\n      <th>fbs</th>\n      <th>restecg</th>\n      <th>thalach</th>\n      <th>exang</th>\n      <th>oldpeak</th>\n      <th>slope</th>\n      <th>ca</th>\n      <th>thal</th>\n    </tr>\n  </thead>\n  <tbody>\n    <tr>\n      <th>0</th>\n      <td>63</td>\n      <td>1</td>\n      <td>1</td>\n      <td>145</td>\n      <td>233</td>\n      <td>1</td>\n      <td>2</td>\n      <td>150</td>\n      <td>0</td>\n      <td>2.3</td>\n      <td>3</td>\n      <td>0.0</td>\n      <td>6.0</td>\n    </tr>\n    <tr>\n      <th>1</th>\n      <td>67</td>\n      <td>1</td>\n      <td>4</td>\n      <td>160</td>\n      <td>286</td>\n      <td>0</td>\n      <td>2</td>\n      <td>108</td>\n      <td>1</td>\n      <td>1.5</td>\n      <td>2</td>\n      <td>3.0</td>\n      <td>3.0</td>\n    </tr>\n    <tr>\n      <th>2</th>\n      <td>67</td>\n      <td>1</td>\n      <td>4</td>\n      <td>120</td>\n      <td>229</td>\n      <td>0</td>\n      <td>2</td>\n      <td>129</td>\n      <td>1</td>\n      <td>2.6</td>\n      <td>2</td>\n      <td>2.0</td>\n      <td>7.0</td>\n    </tr>\n    <tr>\n      <th>3</th>\n      <td>37</td>\n      <td>1</td>\n      <td>3</td>\n      <td>130</td>\n      <td>250</td>\n      <td>0</td>\n      <td>0</td>\n      <td>187</td>\n      <td>0</td>\n      <td>3.5</td>\n      <td>3</td>\n      <td>0.0</td>\n      <td>3.0</td>\n    </tr>\n    <tr>\n      <th>4</th>\n      <td>41</td>\n      <td>0</td>\n      <td>2</td>\n      <td>130</td>\n      <td>204</td>\n      <td>0</td>\n      <td>2</td>\n      <td>172</td>\n      <td>0</td>\n      <td>1.4</td>\n      <td>1</td>\n      <td>0.0</td>\n      <td>3.0</td>\n    </tr>\n  </tbody>\n</table>\n</div>"
     },
     "execution_count": 4,
     "metadata": {},
     "output_type": "execute_result"
    }
   ],
   "source": [
    "df.head(5)"
   ]
  },
  {
   "cell_type": "markdown",
   "metadata": {},
   "source": [
    "> b. Create a boxplot of the cholesterol level for each sex in the dataset. Color them differently for each sex. "
   ]
  },
  {
   "cell_type": "code",
   "execution_count": 7,
   "metadata": {
    "ExecuteTime": {
     "end_time": "2024-02-03T21:03:05.867202Z",
     "start_time": "2024-02-03T21:03:05.781727Z"
    }
   },
   "outputs": [
    {
     "name": "stderr",
     "output_type": "stream",
     "text": [
      "/var/folders/xd/r573b57907x3ttrdkg9137j40000gn/T/ipykernel_42782/1689507103.py:1: FutureWarning: \n",
      "\n",
      "Passing `palette` without assigning `hue` is deprecated and will be removed in v0.14.0. Assign the `x` variable to `hue` and set `legend=False` for the same effect.\n",
      "\n",
      "  sns.boxplot(data=df, x='sex', y='chol', palette='rocket')\n"
     ]
    },
    {
     "data": {
      "text/plain": "<Axes: xlabel='sex', ylabel='chol'>"
     },
     "execution_count": 7,
     "metadata": {},
     "output_type": "execute_result"
    },
    {
     "data": {
      "text/plain": "<Figure size 640x480 with 1 Axes>",
      "image/png": "[encoded data removed]"
     },
     "metadata": {},
     "output_type": "display_data"
    }
   ],
   "source": [
    "sns.boxplot(data=df, x='sex', y='chol', palette='rocket')"
   ]
  },
  {
   "cell_type": "markdown",
   "metadata": {},
   "source": [
    "> c. Read the description of the dataset and determine which of `MALE` and `FEMALE` the variable values `sex=1` vs `sex=0` correspond to."
   ]
  },
  {
   "cell_type": "markdown",
   "source": [
    "From the website, sex: sex (1 = male; 0 = female)"
   ],
   "metadata": {
    "collapsed": false
   }
  },
  {
   "cell_type": "markdown",
   "metadata": {},
   "source": [
    "> d. Using your answer from part c, which of the two sexes has a higher median cholesterol level? Is there reason to believe that there is a difference in the cholesterol levels between the two sexes? Explain your answer"
   ]
  },
  {
   "cell_type": "code",
   "execution_count": 8,
   "metadata": {
    "ExecuteTime": {
     "end_time": "2024-02-03T21:09:00.318113Z",
     "start_time": "2024-02-03T21:09:00.310007Z"
    }
   },
   "outputs": [
    {
     "name": "stdout",
     "output_type": "stream",
     "text": [
      "T-statistic: -3.06426332754255, P-value: 0.002630521121607227\n"
     ]
    }
   ],
   "source": [
    "Female = df[df['sex'] == 0]['chol']\n",
    "Male = df[df['sex'] == 1]['chol']\n",
    "\n",
    "from scipy.stats import ttest_ind\n",
    "# Perform the t-test\n",
    "t_stat, p_val = ttest_ind(Male,Female, equal_var=False)\n",
    "print(f\"T-statistic: {t_stat}, P-value: {p_val}\")"
   ]
  },
  {
   "cell_type": "markdown",
   "source": [
    "Based on the answer to part b and part c, we can see that the median cholesterol level is higher for female. From the t test performed above, at significance level of 0.05, we can see that the p value is less than this value. Thus, we can reject our null hypothesis. There's a difference in the cholesterol levels between the two genders."
   ],
   "metadata": {
    "collapsed": false
   }
  },
  {
   "cell_type": "markdown",
   "metadata": {},
   "source": [
    "> e. What is an appropriate hypothesis test to determine if there is a difference in the cholesterol levels between Males and Females?"
   ]
  },
  {
   "cell_type": "markdown",
   "source": [
    "The t test perfomed above in part d."
   ],
   "metadata": {
    "collapsed": false
   }
  },
  {
   "cell_type": "markdown",
   "metadata": {},
   "source": [
    "> f. Fill in the table below to summarize the key components of the hypothesis test you chose in part e."
   ]
  },
  {
   "cell_type": "markdown",
   "metadata": {},
   "source": [
    "| Anatomy of the hypothesis test |                                              Answer                                               |\n",
    "|:------------------------------:|:-------------------------------------------------------------------------------------------------:|\n",
    "| Assumption                     | $X_1, X_2, ..., X_n \\sim N(\\mu_1, \\sigma_1^2)$ and $Y_1, Y_2, ..., Y_m \\sim N(\\mu_2, \\sigma_2^2)$ |\n",
    "| Population parameter           |                                     $\\theta = \\mu_1 - \\mu_2$                                      |\n",
    "| Sample statistic               |                                        $\\bar{X} - \\bar{Y}$                                        |\n",
    "| Test statistic                 |              $T = \\frac{(\\bar{X} - \\bar{Y})}{S_p \\sqrt{\\frac{1}{n} + \\frac{1}{m}}}$               |\n",
    "| Null hypothesis                |                                         $H_0: \\theta = 0$                                         |\n",
    "| Alternate hypothesis           |                                       $H_1: \\theta \\neq 0$                                        |\n",
    "| Rejection region shape         |                      $(t_{\\alpha/2}, \\infty)$ and $(-\\infty, -t_{\\alpha/2})$                      |"
   ]
  },
  {
   "cell_type": "markdown",
   "metadata": {},
   "source": [
    "> g. Perform the hypothesis test you chose in part e. Report the p-value. \n",
    "\n",
    "(_You can use the `scipy.stats` package, the `statsmodels` package, or write your own function_)"
   ]
  },
  {
   "cell_type": "code",
   "execution_count": 9,
   "metadata": {
    "ExecuteTime": {
     "end_time": "2024-02-03T21:15:40.682515Z",
     "start_time": "2024-02-03T21:15:40.679917Z"
    }
   },
   "outputs": [
    {
     "data": {
      "text/plain": "0.002630521121607227"
     },
     "execution_count": 9,
     "metadata": {},
     "output_type": "execute_result"
    }
   ],
   "source": [
    "p_val"
   ]
  },
  {
   "cell_type": "markdown",
   "metadata": {},
   "source": [
    "> h. State your conclusion at the $\\alpha=$ 1% significance level."
   ]
  },
  {
   "cell_type": "markdown",
   "source": [
    " From the t test performed above, at significance level of 0.01, we can see that the p value is less than this value. Thus, we can reject our null hypothesis. There's a difference in the cholesterol levels between the two genders."
   ],
   "metadata": {
    "collapsed": false
   }
  },
  {
   "cell_type": "markdown",
   "metadata": {},
   "source": [
    "> i. Compute the 99% confidence interval for the difference in the mean cholesterol levels between the females and males. \n",
    "\n",
    "(_You can use the `scipy.stats` package, the `statsmodels` package, or write your own function_)"
   ]
  },
  {
   "cell_type": "code",
   "execution_count": 10,
   "metadata": {
    "ExecuteTime": {
     "end_time": "2024-02-03T21:29:02.830161Z",
     "start_time": "2024-02-03T21:29:02.811797Z"
    }
   },
   "outputs": [
    {
     "data": {
      "text/plain": "(-40.88931087874513, -3.411960265284428)"
     },
     "execution_count": 10,
     "metadata": {},
     "output_type": "execute_result"
    }
   ],
   "source": [
    "mean_diff = np.mean(Male) - np.mean(Female)\n",
    "std_male = np.std(Male, ddof=1)\n",
    "std_female = np.std(Female, ddof=1)\n",
    "n_male = len(Male)\n",
    "n_female = len(Female)\n",
    "\n",
    "se_diff = np.sqrt((std_male**2 / n_male) + (std_female**2 / n_female))\n",
    "df = n_male + n_female - 2\n",
    "t_critical = stats.t.ppf(0.995, df)  # 99% CI, two-tailed test\n",
    "\n",
    "margin_error = t_critical * se_diff\n",
    "ci_lower = mean_diff - margin_error\n",
    "ci_upper = mean_diff + margin_error\n",
    "\n",
    "(ci_lower, ci_upper)"
   ]
  },
  {
   "cell_type": "markdown",
   "metadata": {},
   "source": [
    "---"
   ]
  },
  {
   "cell_type": "markdown",
   "metadata": {},
   "source": [
    "# Question 2"
   ]
  },
  {
   "cell_type": "markdown",
   "metadata": {},
   "source": [
    "For this question, we are going to use the `adult` dataset from the [UCI Machine Learning Repository](https://archive.ics.uci.edu/ml/datasets/adult). You can load the dataset using the following code:"
   ]
  },
  {
   "cell_type": "code",
   "execution_count": 11,
   "metadata": {
    "ExecuteTime": {
     "end_time": "2024-02-03T21:30:47.308004Z",
     "start_time": "2024-02-03T21:30:43.609280Z"
    }
   },
   "outputs": [],
   "source": [
    "adult = ucimlrepo.fetch_ucirepo(id=2)\n",
    "df = adult.data.features"
   ]
  },
  {
   "cell_type": "markdown",
   "metadata": {},
   "source": [
    "> a. Load the dataset and display the first 5 rows of the dataset."
   ]
  },
  {
   "cell_type": "code",
   "execution_count": 12,
   "metadata": {
    "ExecuteTime": {
     "end_time": "2024-02-03T21:30:57.773281Z",
     "start_time": "2024-02-03T21:30:57.764650Z"
    }
   },
   "outputs": [
    {
     "data": {
      "text/plain": "   age         workclass  fnlwgt  education  education-num  \\\n0   39         State-gov   77516  Bachelors             13   \n1   50  Self-emp-not-inc   83311  Bachelors             13   \n2   38           Private  215646    HS-grad              9   \n3   53           Private  234721       11th              7   \n4   28           Private  338409  Bachelors             13   \n\n       marital-status         occupation   relationship   race     sex  \\\n0       Never-married       Adm-clerical  Not-in-family  White    Male   \n1  Married-civ-spouse    Exec-managerial        Husband  White    Male   \n2            Divorced  Handlers-cleaners  Not-in-family  White    Male   \n3  Married-civ-spouse  Handlers-cleaners        Husband  Black    Male   \n4  Married-civ-spouse     Prof-specialty           Wife  Black  Female   \n\n   capital-gain  capital-loss  hours-per-week native-country  \n0          2174             0              40  United-States  \n1             0             0              13  United-States  \n2             0             0              40  United-States  \n3             0             0              40  United-States  \n4             0             0              40           Cuba  ",
      "text/html": "<div>\n<style scoped>\n    .dataframe tbody tr th:only-of-type {\n        vertical-align: middle;\n    }\n\n    .dataframe tbody tr th {\n        vertical-align: top;\n    }\n\n    .dataframe thead th {\n        text-align: right;\n    }\n</style>\n<table border=\"1\" class=\"dataframe\">\n  <thead>\n    <tr style=\"text-align: right;\">\n      <th></th>\n      <th>age</th>\n      <th>workclass</th>\n      <th>fnlwgt</th>\n      <th>education</th>\n      <th>education-num</th>\n      <th>marital-status</th>\n      <th>occupation</th>\n      <th>relationship</th>\n      <th>race</th>\n      <th>sex</th>\n      <th>capital-gain</th>\n      <th>capital-loss</th>\n      <th>hours-per-week</th>\n      <th>native-country</th>\n    </tr>\n  </thead>\n  <tbody>\n    <tr>\n      <th>0</th>\n      <td>39</td>\n      <td>State-gov</td>\n      <td>77516</td>\n      <td>Bachelors</td>\n      <td>13</td>\n      <td>Never-married</td>\n      <td>Adm-clerical</td>\n      <td>Not-in-family</td>\n      <td>White</td>\n      <td>Male</td>\n      <td>2174</td>\n      <td>0</td>\n      <td>40</td>\n      <td>United-States</td>\n    </tr>\n    <tr>\n      <th>1</th>\n      <td>50</td>\n      <td>Self-emp-not-inc</td>\n      <td>83311</td>\n      <td>Bachelors</td>\n      <td>13</td>\n      <td>Married-civ-spouse</td>\n      <td>Exec-managerial</td>\n      <td>Husband</td>\n      <td>White</td>\n      <td>Male</td>\n      <td>0</td>\n      <td>0</td>\n      <td>13</td>\n      <td>United-States</td>\n    </tr>\n    <tr>\n      <th>2</th>\n      <td>38</td>\n      <td>Private</td>\n      <td>215646</td>\n      <td>HS-grad</td>\n      <td>9</td>\n      <td>Divorced</td>\n      <td>Handlers-cleaners</td>\n      <td>Not-in-family</td>\n      <td>White</td>\n      <td>Male</td>\n      <td>0</td>\n      <td>0</td>\n      <td>40</td>\n      <td>United-States</td>\n    </tr>\n    <tr>\n      <th>3</th>\n      <td>53</td>\n      <td>Private</td>\n      <td>234721</td>\n      <td>11th</td>\n      <td>7</td>\n      <td>Married-civ-spouse</td>\n      <td>Handlers-cleaners</td>\n      <td>Husband</td>\n      <td>Black</td>\n      <td>Male</td>\n      <td>0</td>\n      <td>0</td>\n      <td>40</td>\n      <td>United-States</td>\n    </tr>\n    <tr>\n      <th>4</th>\n      <td>28</td>\n      <td>Private</td>\n      <td>338409</td>\n      <td>Bachelors</td>\n      <td>13</td>\n      <td>Married-civ-spouse</td>\n      <td>Prof-specialty</td>\n      <td>Wife</td>\n      <td>Black</td>\n      <td>Female</td>\n      <td>0</td>\n      <td>0</td>\n      <td>40</td>\n      <td>Cuba</td>\n    </tr>\n  </tbody>\n</table>\n</div>"
     },
     "execution_count": 12,
     "metadata": {},
     "output_type": "execute_result"
    }
   ],
   "source": [
    "df.head(5)"
   ]
  },
  {
   "cell_type": "markdown",
   "metadata": {},
   "source": [
    "> b. Filter the `df` DataFrame to only keep the rows where the `education` is in `['Bachelors', 'Masters', 'Doctorate']` and display the first 5 rows of the filtered dataset. Rename this to be ``df_filtered`."
   ]
  },
  {
   "cell_type": "code",
   "execution_count": 13,
   "metadata": {
    "ExecuteTime": {
     "end_time": "2024-02-03T21:32:19.601367Z",
     "start_time": "2024-02-03T21:32:19.593675Z"
    }
   },
   "outputs": [],
   "source": [
    "filter = ['Bachelors', 'Masters', 'Doctorate']\n",
    "df_filtered =  df[df['education'].isin(filter)]"
   ]
  },
  {
   "cell_type": "markdown",
   "metadata": {},
   "source": [
    "> c. Create a table `O_table` of the observed counts for the `sex` (rows) vs. `education` (columns) in the `df_filtered` DataFrame."
   ]
  },
  {
   "cell_type": "code",
   "execution_count": 14,
   "metadata": {
    "ExecuteTime": {
     "end_time": "2024-02-03T21:33:40.937198Z",
     "start_time": "2024-02-03T21:33:40.921928Z"
    }
   },
   "outputs": [],
   "source": [
    "O_table = pd.crosstab(df_filtered['sex'], df_filtered['education'])"
   ]
  },
  {
   "cell_type": "markdown",
   "metadata": {},
   "source": [
    "> d. Create `p_table` as the table of observed proportions for the `education` for each `sex` using the `O_table` from part c."
   ]
  },
  {
   "cell_type": "code",
   "execution_count": 15,
   "metadata": {
    "ExecuteTime": {
     "end_time": "2024-02-03T21:35:05.723155Z",
     "start_time": "2024-02-03T21:35:05.716886Z"
    }
   },
   "outputs": [],
   "source": [
    "p_table =  O_table.div(O_table.sum(axis=1), axis=0)"
   ]
  },
  {
   "cell_type": "markdown",
   "metadata": {},
   "source": [
    "> e. Create a new row in the `p_table` that contains the cumulative proportions of the `education` for the entire dataset. "
   ]
  },
  {
   "cell_type": "code",
   "execution_count": 16,
   "metadata": {
    "ExecuteTime": {
     "end_time": "2024-02-03T21:36:27.677110Z",
     "start_time": "2024-02-03T21:36:27.669250Z"
    }
   },
   "outputs": [],
   "source": [
    "p_table[\"total\"] = p_table.sum(axis=0)"
   ]
  },
  {
   "cell_type": "markdown",
   "metadata": {},
   "source": [
    "> f. What sort of a hypothesis test would you use to determine if there is a difference between the observed proportions of `education` for each `sex`?"
   ]
  },
  {
   "cell_type": "markdown",
   "source": [
    "Chi-squared test of independence"
   ],
   "metadata": {
    "collapsed": false
   }
  },
  {
   "cell_type": "markdown",
   "metadata": {},
   "source": [
    "> g. Fill in the following table describing the anatomy of the hypothesis test.\n",
    "\n",
    "Here $X_1$ and $X_2$ denote the Multinomial random variables representing the observed counts for the `education` categories corresponding to Females and Males, respectively."
   ]
  },
  {
   "cell_type": "markdown",
   "metadata": {},
   "source": [
    "| Anatomy of the hypothesis test |                                                               Answer                                                                |\n",
    "|:------------------------------:|:-----------------------------------------------------------------------------------------------------------------------------------:|\n",
    "|           Assumption           | $$X_1 \\sim \\text{Mult}(p_{11}, p_{12}, p_{13}, p_{14}), \\quad\\text{and}\\quad X_2 \\sim \\text{Mult}(p_{21}, p_{22}, p_{23}, p_{24})$$ |\n",
    "|      Population parameter      |                                     True proportions of education levels for each sex, $p_{ij}$                                     |\n",
    "|        Sample statistic        |                                   Observed frequencies in each category of the contingency table                                    |\n",
    "|        Null hypothesis         |                                $p_{1j} = p_{2j}$ for all $j$ (education level is independent of sex)                                |\n",
    "|      Alternate hypothesis      |                           $p_{1j} \\neq p_{2j}$ for at least one $j$ (education level is dependent on sex)                           |\n",
    "|     Rejection region shape     |                       Right-tailed based on the chi-squared distribution with appropriate degrees of freedom                        |"
   ]
  },
  {
   "cell_type": "markdown",
   "metadata": {},
   "source": [
    "> h. Write down the test statistic $T$ for the hypothesis test in parts f and g. What is its distribution under the null hypothesis?"
   ]
  },
  {
   "cell_type": "markdown",
   "source": [
    "The test statistic for the chi-squared test of independence is calculated using the formula:\n",
    "\n",
    "$$\n",
    "T = \\chi^2 = \\sum \\frac{(O_{ij} - E_{ij})^2}{E_{ij}}\n",
    "$$\n",
    "\n",
    "Under the null hypothesis, the test statistic $ T $ follows a chi-squared distribution with degrees of freedom calculated as:\n",
    "\n",
    "$$\n",
    "\\text{df} = (\\text{number of rows} - 1) \\times (\\text{number of columns} - 1)\n",
    "$$\n",
    "\n",
    "For a table with 2 rows (representing the sexes) and 4 columns (representing the education levels), the degrees of freedom would be:\n",
    "\n",
    "$$\n",
    "\\text{df} = (2 - 1) \\times (4 - 1) = 3\n",
    "$$\n",
    "\n",
    "Therefore, under the null hypothesis, the distribution of $ T $ is a chi-squared distribution with 3 degrees of freedom."
   ],
   "metadata": {
    "collapsed": false
   }
  },
  {
   "cell_type": "markdown",
   "metadata": {},
   "source": [
    "> i. Compute the observed test statistic using the formula from part h and the data you created in part e."
   ]
  },
  {
   "cell_type": "code",
   "execution_count": 20,
   "metadata": {
    "ExecuteTime": {
     "end_time": "2024-02-03T21:58:58.030259Z",
     "start_time": "2024-02-03T21:58:58.027774Z"
    }
   },
   "outputs": [
    {
     "data": {
      "text/plain": "0.01441264077570666"
     },
     "execution_count": 20,
     "metadata": {},
     "output_type": "execute_result"
    }
   ],
   "source": [
    "# Assuming p_table is the table of observed proportions created previously\n",
    "\n",
    "# Calculate the total counts for rows and columns\n",
    "row_totals = p_table.iloc[:-1, :].sum(axis=1)\n",
    "column_totals = p_table.iloc[-1, :-1]\n",
    "grand_total = row_totals.sum()\n",
    "\n",
    "# Calculate the expected frequencies for each cell\n",
    "expected_frequencies = np.outer(row_totals, column_totals) / grand_total\n",
    "\n",
    "# Calculate the chi-squared statistic\n",
    "observed_frequencies = p_table.iloc[:-1, :-1].values  # Exclude the 'total' row and column\n",
    "chi_squared = ((observed_frequencies - expected_frequencies) ** 2 / expected_frequencies).sum()\n",
    "\n",
    "chi_squared"
   ]
  },
  {
   "cell_type": "markdown",
   "metadata": {},
   "source": [
    "> j. Compute the p-value of associated with the observed test statistic from part i."
   ]
  },
  {
   "cell_type": "code",
   "outputs": [
    {
     "data": {
      "text/plain": "4"
     },
     "execution_count": 24,
     "metadata": {},
     "output_type": "execute_result"
    }
   ],
   "source": [
    "p_table.shape[1]"
   ],
   "metadata": {
    "collapsed": false,
    "ExecuteTime": {
     "end_time": "2024-02-03T22:00:33.913079Z",
     "start_time": "2024-02-03T22:00:33.909812Z"
    }
   },
   "execution_count": 24
  },
  {
   "cell_type": "code",
   "execution_count": 26,
   "metadata": {
    "ExecuteTime": {
     "end_time": "2024-02-03T22:01:10.354399Z",
     "start_time": "2024-02-03T22:01:10.351339Z"
    }
   },
   "outputs": [
    {
     "data": {
      "text/plain": "0.9995417978480412"
     },
     "execution_count": 26,
     "metadata": {},
     "output_type": "execute_result"
    }
   ],
   "source": [
    "from scipy.stats import chi2\n",
    "\n",
    "dfreedom = (p_table.shape[0] - 1) * (p_table.shape[1] - 1)\n",
    "\n",
    "# Compute the p-value\n",
    "p_value = chi2.sf(chi_squared, dfreedom)\n",
    "\n",
    "p_value"
   ]
  },
  {
   "cell_type": "markdown",
   "metadata": {},
   "source": [
    "> k. State your conclusion at the $\\alpha=$ 5% significance level."
   ]
  },
  {
   "cell_type": "markdown",
   "source": [
    "At the 5% significance level, there is insufficient evidence to conclude that there is a significant association between `sex` and `education` in the population."
   ],
   "metadata": {
    "collapsed": false
   }
  }
 ],
 "metadata": {
  "kernelspec": {
   "display_name": "base",
   "language": "python",
   "name": "python3"
  },
  "language_info": {
   "codemirror_mode": {
    "name": "ipython",
    "version": 3
   },
   "file_extension": ".py",
   "mimetype": "text/x-python",
   "name": "python",
   "nbconvert_exporter": "python",
   "pygments_lexer": "ipython3",
   "version": "3.12.1"
  }
 },
 "nbformat": 4,
 "nbformat_minor": 2
}
