{
 "cells": [
  {
   "cell_type": "markdown",
   "id": "200e3bab",
   "metadata": {
    "editable": true,
    "slideshow": {
     "slide_type": "slide"
    },
    "tags": []
   },
   "source": [
    "# Week 8\n",
    "## MATH 189 • Data Analysis & Inference • Wi 2024\n",
    "### Siddharth Vishwanath"
   ]
  },
  {
   "cell_type": "markdown",
   "id": "8700143e-29e1-4307-9662-02a03e22ef20",
   "metadata": {},
   "source": [
    "% # %load tex-macros\n",
    "<div hidden>\n",
    "\\newcommand{\\require}[1]{}\n",
    "\n",
    "$\\require{begingroup}\\require{newcommand}$\n",
    "$\\long\\def \\forcecommand #1{\\providecommand{#1}{}\\renewcommand{#1}}$\n",
    "$\\forcecommand{\\defeq}{\\stackrel{\\small\\bullet}{=}}$\n",
    "$\\forcecommand{\\ra}{\\rangle}$\n",
    "$\\forcecommand{\\la}{\\langle}$\n",
    "$\\forcecommand{\\pr}{{\\mathbb P}}$\n",
    "$\\forcecommand{\\qr}{{\\mathbb Q}}$\n",
    "$\\forcecommand{\\xv}{{\\boldsymbol{x}}}$\n",
    "$\\forcecommand{\\av}{{\\boldsymbol{a}}}$\n",
    "$\\forcecommand{\\bv}{{\\boldsymbol{b}}}$\n",
    "$\\forcecommand{\\cv}{{\\boldsymbol{c}}}$\n",
    "$\\forcecommand{\\dv}{{\\boldsymbol{d}}}$\n",
    "$\\forcecommand{\\ev}{{\\boldsymbol{e}}}$\n",
    "$\\forcecommand{\\fv}{{\\boldsymbol{f}}}$\n",
    "$\\forcecommand{\\gv}{{\\boldsymbol{g}}}$\n",
    "$\\forcecommand{\\hv}{{\\boldsymbol{h}}}$\n",
    "$\\forcecommand{\\nv}{{\\boldsymbol{n}}}$\n",
    "$\\forcecommand{\\sv}{{\\boldsymbol{s}}}$\n",
    "$\\forcecommand{\\tv}{{\\boldsymbol{t}}}$\n",
    "$\\forcecommand{\\uv}{{\\boldsymbol{u}}}$\n",
    "$\\forcecommand{\\vv}{{\\boldsymbol{v}}}$\n",
    "$\\forcecommand{\\wv}{{\\boldsymbol{w}}}$\n",
    "$\\forcecommand{\\zerov}{{\\mathbf{0}}}$\n",
    "$\\forcecommand{\\onev}{{\\mathbf{0}}}$\n",
    "$\\forcecommand{\\phiv}{{\\boldsymbol{\\phi}}}$\n",
    "$\\forcecommand{\\cc}{{\\check{C}}}$\n",
    "$\\forcecommand{\\xv}{{\\boldsymbol{x}}}$\n",
    "$\\forcecommand{\\Xv}{{\\boldsymbol{X}\\!}}$\n",
    "$\\forcecommand{\\yv}{{\\boldsymbol{y}}}$\n",
    "$\\forcecommand{\\Yv}{{\\boldsymbol{Y}}}$\n",
    "$\\forcecommand{\\zv}{{\\boldsymbol{z}}}$\n",
    "$\\forcecommand{\\Zv}{{\\boldsymbol{Z}}}$\n",
    "$\\forcecommand{\\Iv}{{\\boldsymbol{I}}}$\n",
    "$\\forcecommand{\\Jv}{{\\boldsymbol{J}}}$\n",
    "$\\forcecommand{\\Cv}{{\\boldsymbol{C}}}$\n",
    "$\\forcecommand{\\Ev}{{\\boldsymbol{E}}}$\n",
    "$\\forcecommand{\\Fv}{{\\boldsymbol{F}}}$\n",
    "$\\forcecommand{\\Gv}{{\\boldsymbol{G}}}$\n",
    "$\\forcecommand{\\Hv}{{\\boldsymbol{H}}}$\n",
    "$\\forcecommand{\\alphav}{{\\boldsymbol{\\alpha}}}$\n",
    "$\\forcecommand{\\epsilonv}{{\\boldsymbol{\\epsilon}}}$\n",
    "$\\forcecommand{\\betav}{{\\boldsymbol{\\beta}}}$\n",
    "$\\forcecommand{\\deltav}{{\\boldsymbol{\\delta}}}$\n",
    "$\\forcecommand{\\gammav}{{\\boldsymbol{\\gamma}}}$\n",
    "$\\forcecommand{\\etav}{{\\boldsymbol{\\eta}}}$\n",
    "$\\forcecommand{\\piv}{{\\boldsymbol{\\pi}}}$\n",
    "$\\forcecommand{\\thetav}{{\\boldsymbol{\\theta}}}$\n",
    "$\\forcecommand{\\tauv}{{\\boldsymbol{\\tau}}}$\n",
    "$\\forcecommand{\\muv}{{\\boldsymbol{\\mu}}}$\n",
    "$\\forcecommand{\\sd}{\\text{SD}}$\n",
    "$\\forcecommand{\\se}{\\text{SE}}$\n",
    "$\\forcecommand{\\med}{\\text{median}}$\n",
    "$\\forcecommand{\\median}{\\text{median}}$\n",
    "$\\forcecommand{\\Ber}{{\\text{Ber}}}$\n",
    "$\\forcecommand{\\Bin}{{\\text{Bin}}}$\n",
    "$\\forcecommand{\\Geo}{{\\text{Geo}}}$\n",
    "$\\forcecommand{\\Unif}{{\\text{Unif}}}$\n",
    "$\\forcecommand{\\Poi}{{\\text{Poi}}}$\n",
    "$\\forcecommand{\\Exp}{{\\text{Exp}}}$\n",
    "$\\forcecommand{\\Chisq}{{\\chi^2}}$\n",
    "$\\forcecommand{\\N}{\\mathbb{N}}$\n",
    "$\\forcecommand{\\iid}{{\\stackrel{iid}{\\sim}}}$\n",
    "$\\forcecommand{\\px}{p_{X}}$\n",
    "$\\forcecommand{\\fx}{f_{X}}$\n",
    "$\\forcecommand{\\Fx}{F_{X}}$\n",
    "$\\forcecommand{\\py}{p_{Y}}$\n",
    "$\\forcecommand{\\pxy}{p_{X,Y}}$\n",
    "$\\forcecommand{\\po}{{p_0}}$\n",
    "$\\forcecommand{\\pa}{{p_a}}$\n",
    "$\\forcecommand{\\Xbar}{\\overline{X}}$\n",
    "$\\forcecommand{\\Ybar}{\\overline{Y}}$\n",
    "$\\forcecommand{\\Zbar}{\\overline{Z}}$\n",
    "$\\forcecommand{\\nXbar}{n \\cdot \\overline{X}}$\n",
    "$\\forcecommand{\\nYbar}{n \\cdot \\overline{Y}}$\n",
    "$\\forcecommand{\\nZbar}{n \\cdot \\overline{Z}}$\n",
    "$\\forcecommand{\\Xn}{X_1, X_2, \\dots, X_n}$\n",
    "$\\forcecommand{\\Xm}{{X_1, X_2, \\dots, X_m}}$\n",
    "$\\forcecommand{\\Yn}{Y_1, Y_2, \\dots, Y_n}$\n",
    "$\\forcecommand{\\Ym}{{Y_1, Y_2, \\dots, Y_m}}$\n",
    "$\\forcecommand{\\sumXn}{X_1 + X_2 + \\dots + X_n}$\n",
    "$\\forcecommand{\\sumym}{Y_1 + Y_2 + \\dots + Y_m}$\n",
    "$\\forcecommand{\\la}{\\ell_\\alpha}$\n",
    "$\\forcecommand{\\ua}{u_\\alpha}$\n",
    "$\\forcecommand{\\at}{{\\alpha/2}}$\n",
    "$\\forcecommand{\\mux}{\\mu_{X}}$\n",
    "$\\forcecommand{\\muy}{\\mu_{Y}}$\n",
    "$\\forcecommand{\\sx}{\\sigma_{X}}$\n",
    "$\\forcecommand{\\sy}{\\sigma_{Y}}$\n",
    "$\\forcecommand{\\pvalue}{$p$-value}$\n",
    "$\\forcecommand{\\Ho}{H_{0}}$\n",
    "$\\forcecommand{\\Ha}{H_{a}}$\n",
    "$\\forcecommand{\\pvalue}{p\\text{-value}}$\n",
    "$\\forcecommand{\\E}{\\mathbb{E}}$\n",
    "$\\newcommand{\\E}{\\mathbb{E}}$\n",
    "\\vskip-\\parskip\n",
    "\\vskip-\\baselineskip\n",
    "</div>"
   ]
  },
  {
   "cell_type": "markdown",
   "id": "3b96abc1",
   "metadata": {
    "editable": true,
    "slideshow": {
     "slide_type": "slide"
    },
    "tags": []
   },
   "source": [
    "## Agenda\n",
    "---\n",
    "\n",
    "#### Regression With Categorical Response Variable\n",
    "1. Odds and Odds Ratio\n",
    "\n",
    "2. Logistic Regression\n",
    "\n",
    "3. Multinomial Logistic Regression\n",
    "\n",
    "4. Model Diagnostics\n",
    "---"
   ]
  },
  {
   "cell_type": "markdown",
   "id": "d19ea4ab",
   "metadata": {},
   "source": [
    "Packages:"
   ]
  },
  {
   "cell_type": "code",
   "execution_count": 21,
   "id": "36f314af",
   "metadata": {
    "editable": true,
    "slideshow": {
     "slide_type": ""
    },
    "tags": []
   },
   "outputs": [],
   "source": [
    "import numpy as np\n",
    "import pandas as pd\n",
    "import scipy.stats as stats\n",
    "\n",
    "import seaborn as sns\n",
    "import matplotlib.pyplot as plt\n",
    "import plotly\n",
    "import plotly.express as px\n",
    "import plotly.graph_objects as go\n",
    "\n",
    "import statsmodels\n",
    "import statsmodels.api as sm\n",
    "import statsmodels.formula.api as smf\n",
    "\n",
    "# Optional \n",
    "import ipywidgets as widgets\n",
    "from ipywidgets import interact, fixed\n",
    "%matplotlib inline"
   ]
  },
  {
   "cell_type": "markdown",
   "id": "9b62d02c",
   "metadata": {},
   "source": [
    "---\n",
    "\n",
    "\n",
    "### The regression model\n",
    "\n",
    "$$\n",
    "y_i = \\beta_0 + \\beta_1 x_{i1} + \\beta_2 x_{i2} + \\dots + \\beta_p x_{ip} + \\epsilon_i \\quad \\text{where} \\quad \\epsilon_i \\iid (0, \\sigma^2)\n",
    "$$\n",
    "\n",
    "Equivalently, in matrix notation:\n",
    "\n",
    "$$\n",
    "\\underbrace{\n",
    "\\begin{pmatrix}\n",
    "y_1 \\\\\n",
    "y_2 \\\\\n",
    "\\vdots \\\\\n",
    "y_n\n",
    "\\end{pmatrix}\n",
    "}_{\\yv}\n",
    "= \n",
    "\\underbrace{\n",
    "    \\begin{pmatrix}\n",
    "    1 & x_{11} & x_{12} & \\dots & x_{1p} \\\\\n",
    "    1 & x_{21} & x_{22} & \\dots & x_{2p} \\\\\n",
    "    \\vdots & \\vdots & \\vdots & \\ddots & \\vdots\\\\\n",
    "    1 & x_{n1} & x_{n2} & \\dots & x_{np} \\\\\n",
    "    \\end{pmatrix}\n",
    "}_{\\Xv}\n",
    "\\underbrace{\n",
    "\\begin{pmatrix}\n",
    "\\beta_0 \\\\\n",
    "\\beta_1 \\\\\n",
    "\\vdots \\\\\n",
    "\\beta_p\n",
    "\\end{pmatrix}\n",
    "}_{\\betav}\n",
    "+\n",
    "\\underbrace{\n",
    "\\begin{pmatrix}\n",
    "\\epsilon_1 \\\\\n",
    "\\epsilon_2 \\\\\n",
    "\\vdots \\\\\n",
    "\\epsilon_n\n",
    "\\end{pmatrix}\n",
    "}_{\\epsilonv}\n",
    "$$\n",
    "i.e., \n",
    "$$\n",
    "\\yv = \\Xv \\betav + \\epsilonv\n",
    "$$\n",
    "\n",
    "where\n",
    "* $\\Xv$ is called the design matrix / the covariate matrix / the feature matrix\n",
    "* $\\betav$ is the vector of coefficients\n",
    "* $\\epsilonv$ is the vector of errors\n",
    "* $\\yv$ is the vector of responses\n",
    "\n",
    "The assumption that $\\epsilon_i \\iid (0, \\sigma^2)$ is equivalent to the assumption that $\\epsilonv$ follows a **multivariate Normal distribution**, i.e.,\n",
    "$\\epsilonv \\sim N\\Big(\\zerov_d, \\sigma^2 \\Iv_{d \\times d}\\Big)$"
   ]
  },
  {
   "cell_type": "markdown",
   "id": "24743798",
   "metadata": {},
   "source": [
    "<br><br><br><br>\n",
    "<br><br><br><br>"
   ]
  },
  {
   "cell_type": "markdown",
   "id": "c51774df",
   "metadata": {},
   "source": [
    "Let's consider the following dataset from a Portuguese bank marketing campaign. \n",
    "\n",
    "> The dataset contains information about the clients and whether they subscribed to a term deposit or not. The goal is to predict whether a client will subscribe to a term deposit or not based on the information provided.:"
   ]
  },
  {
   "cell_type": "code",
   "execution_count": 22,
   "id": "50d55f6f",
   "metadata": {},
   "outputs": [
    {
     "data": {
      "text/html": [
       "<div>\n",
       "<style scoped>\n",
       "    .dataframe tbody tr th:only-of-type {\n",
       "        vertical-align: middle;\n",
       "    }\n",
       "\n",
       "    .dataframe tbody tr th {\n",
       "        vertical-align: top;\n",
       "    }\n",
       "\n",
       "    .dataframe thead th {\n",
       "        text-align: right;\n",
       "    }\n",
       "</style>\n",
       "<table border=\"1\" class=\"dataframe\">\n",
       "  <thead>\n",
       "    <tr style=\"text-align: right;\">\n",
       "      <th></th>\n",
       "      <th>age</th>\n",
       "      <th>job</th>\n",
       "      <th>marital</th>\n",
       "      <th>education</th>\n",
       "      <th>default</th>\n",
       "      <th>balance</th>\n",
       "      <th>housing</th>\n",
       "      <th>loan</th>\n",
       "      <th>contact</th>\n",
       "      <th>day_of_week</th>\n",
       "      <th>month</th>\n",
       "      <th>duration</th>\n",
       "      <th>campaign</th>\n",
       "      <th>pdays</th>\n",
       "      <th>previous</th>\n",
       "      <th>poutcome</th>\n",
       "      <th>outcome</th>\n",
       "    </tr>\n",
       "  </thead>\n",
       "  <tbody>\n",
       "    <tr>\n",
       "      <th>0</th>\n",
       "      <td>58</td>\n",
       "      <td>management</td>\n",
       "      <td>married</td>\n",
       "      <td>tertiary</td>\n",
       "      <td>no</td>\n",
       "      <td>2143</td>\n",
       "      <td>yes</td>\n",
       "      <td>no</td>\n",
       "      <td>NaN</td>\n",
       "      <td>5</td>\n",
       "      <td>may</td>\n",
       "      <td>261</td>\n",
       "      <td>1</td>\n",
       "      <td>-1</td>\n",
       "      <td>0</td>\n",
       "      <td>NaN</td>\n",
       "      <td>0</td>\n",
       "    </tr>\n",
       "    <tr>\n",
       "      <th>1</th>\n",
       "      <td>44</td>\n",
       "      <td>technician</td>\n",
       "      <td>single</td>\n",
       "      <td>secondary</td>\n",
       "      <td>no</td>\n",
       "      <td>29</td>\n",
       "      <td>yes</td>\n",
       "      <td>no</td>\n",
       "      <td>NaN</td>\n",
       "      <td>5</td>\n",
       "      <td>may</td>\n",
       "      <td>151</td>\n",
       "      <td>1</td>\n",
       "      <td>-1</td>\n",
       "      <td>0</td>\n",
       "      <td>NaN</td>\n",
       "      <td>0</td>\n",
       "    </tr>\n",
       "    <tr>\n",
       "      <th>2</th>\n",
       "      <td>33</td>\n",
       "      <td>entrepreneur</td>\n",
       "      <td>married</td>\n",
       "      <td>secondary</td>\n",
       "      <td>no</td>\n",
       "      <td>2</td>\n",
       "      <td>yes</td>\n",
       "      <td>yes</td>\n",
       "      <td>NaN</td>\n",
       "      <td>5</td>\n",
       "      <td>may</td>\n",
       "      <td>76</td>\n",
       "      <td>1</td>\n",
       "      <td>-1</td>\n",
       "      <td>0</td>\n",
       "      <td>NaN</td>\n",
       "      <td>0</td>\n",
       "    </tr>\n",
       "    <tr>\n",
       "      <th>3</th>\n",
       "      <td>47</td>\n",
       "      <td>blue-collar</td>\n",
       "      <td>married</td>\n",
       "      <td>NaN</td>\n",
       "      <td>no</td>\n",
       "      <td>1506</td>\n",
       "      <td>yes</td>\n",
       "      <td>no</td>\n",
       "      <td>NaN</td>\n",
       "      <td>5</td>\n",
       "      <td>may</td>\n",
       "      <td>92</td>\n",
       "      <td>1</td>\n",
       "      <td>-1</td>\n",
       "      <td>0</td>\n",
       "      <td>NaN</td>\n",
       "      <td>0</td>\n",
       "    </tr>\n",
       "    <tr>\n",
       "      <th>4</th>\n",
       "      <td>33</td>\n",
       "      <td>NaN</td>\n",
       "      <td>single</td>\n",
       "      <td>NaN</td>\n",
       "      <td>no</td>\n",
       "      <td>1</td>\n",
       "      <td>no</td>\n",
       "      <td>no</td>\n",
       "      <td>NaN</td>\n",
       "      <td>5</td>\n",
       "      <td>may</td>\n",
       "      <td>198</td>\n",
       "      <td>1</td>\n",
       "      <td>-1</td>\n",
       "      <td>0</td>\n",
       "      <td>NaN</td>\n",
       "      <td>0</td>\n",
       "    </tr>\n",
       "    <tr>\n",
       "      <th>5</th>\n",
       "      <td>35</td>\n",
       "      <td>management</td>\n",
       "      <td>married</td>\n",
       "      <td>tertiary</td>\n",
       "      <td>no</td>\n",
       "      <td>231</td>\n",
       "      <td>yes</td>\n",
       "      <td>no</td>\n",
       "      <td>NaN</td>\n",
       "      <td>5</td>\n",
       "      <td>may</td>\n",
       "      <td>139</td>\n",
       "      <td>1</td>\n",
       "      <td>-1</td>\n",
       "      <td>0</td>\n",
       "      <td>NaN</td>\n",
       "      <td>0</td>\n",
       "    </tr>\n",
       "    <tr>\n",
       "      <th>6</th>\n",
       "      <td>28</td>\n",
       "      <td>management</td>\n",
       "      <td>single</td>\n",
       "      <td>tertiary</td>\n",
       "      <td>no</td>\n",
       "      <td>447</td>\n",
       "      <td>yes</td>\n",
       "      <td>yes</td>\n",
       "      <td>NaN</td>\n",
       "      <td>5</td>\n",
       "      <td>may</td>\n",
       "      <td>217</td>\n",
       "      <td>1</td>\n",
       "      <td>-1</td>\n",
       "      <td>0</td>\n",
       "      <td>NaN</td>\n",
       "      <td>0</td>\n",
       "    </tr>\n",
       "    <tr>\n",
       "      <th>7</th>\n",
       "      <td>42</td>\n",
       "      <td>entrepreneur</td>\n",
       "      <td>divorced</td>\n",
       "      <td>tertiary</td>\n",
       "      <td>yes</td>\n",
       "      <td>2</td>\n",
       "      <td>yes</td>\n",
       "      <td>no</td>\n",
       "      <td>NaN</td>\n",
       "      <td>5</td>\n",
       "      <td>may</td>\n",
       "      <td>380</td>\n",
       "      <td>1</td>\n",
       "      <td>-1</td>\n",
       "      <td>0</td>\n",
       "      <td>NaN</td>\n",
       "      <td>0</td>\n",
       "    </tr>\n",
       "    <tr>\n",
       "      <th>8</th>\n",
       "      <td>58</td>\n",
       "      <td>retired</td>\n",
       "      <td>married</td>\n",
       "      <td>primary</td>\n",
       "      <td>no</td>\n",
       "      <td>121</td>\n",
       "      <td>yes</td>\n",
       "      <td>no</td>\n",
       "      <td>NaN</td>\n",
       "      <td>5</td>\n",
       "      <td>may</td>\n",
       "      <td>50</td>\n",
       "      <td>1</td>\n",
       "      <td>-1</td>\n",
       "      <td>0</td>\n",
       "      <td>NaN</td>\n",
       "      <td>0</td>\n",
       "    </tr>\n",
       "    <tr>\n",
       "      <th>9</th>\n",
       "      <td>43</td>\n",
       "      <td>technician</td>\n",
       "      <td>single</td>\n",
       "      <td>secondary</td>\n",
       "      <td>no</td>\n",
       "      <td>593</td>\n",
       "      <td>yes</td>\n",
       "      <td>no</td>\n",
       "      <td>NaN</td>\n",
       "      <td>5</td>\n",
       "      <td>may</td>\n",
       "      <td>55</td>\n",
       "      <td>1</td>\n",
       "      <td>-1</td>\n",
       "      <td>0</td>\n",
       "      <td>NaN</td>\n",
       "      <td>0</td>\n",
       "    </tr>\n",
       "  </tbody>\n",
       "</table>\n",
       "</div>"
      ],
      "text/plain": [
       "   age           job   marital  education default  balance housing loan  \\\n",
       "0   58    management   married   tertiary      no     2143     yes   no   \n",
       "1   44    technician    single  secondary      no       29     yes   no   \n",
       "2   33  entrepreneur   married  secondary      no        2     yes  yes   \n",
       "3   47   blue-collar   married        NaN      no     1506     yes   no   \n",
       "4   33           NaN    single        NaN      no        1      no   no   \n",
       "5   35    management   married   tertiary      no      231     yes   no   \n",
       "6   28    management    single   tertiary      no      447     yes  yes   \n",
       "7   42  entrepreneur  divorced   tertiary     yes        2     yes   no   \n",
       "8   58       retired   married    primary      no      121     yes   no   \n",
       "9   43    technician    single  secondary      no      593     yes   no   \n",
       "\n",
       "  contact  day_of_week month  duration  campaign  pdays  previous poutcome  \\\n",
       "0     NaN            5   may       261         1     -1         0      NaN   \n",
       "1     NaN            5   may       151         1     -1         0      NaN   \n",
       "2     NaN            5   may        76         1     -1         0      NaN   \n",
       "3     NaN            5   may        92         1     -1         0      NaN   \n",
       "4     NaN            5   may       198         1     -1         0      NaN   \n",
       "5     NaN            5   may       139         1     -1         0      NaN   \n",
       "6     NaN            5   may       217         1     -1         0      NaN   \n",
       "7     NaN            5   may       380         1     -1         0      NaN   \n",
       "8     NaN            5   may        50         1     -1         0      NaN   \n",
       "9     NaN            5   may        55         1     -1         0      NaN   \n",
       "\n",
       "   outcome  \n",
       "0        0  \n",
       "1        0  \n",
       "2        0  \n",
       "3        0  \n",
       "4        0  \n",
       "5        0  \n",
       "6        0  \n",
       "7        0  \n",
       "8        0  \n",
       "9        0  "
      ]
     },
     "execution_count": 22,
     "metadata": {},
     "output_type": "execute_result"
    }
   ],
   "source": [
    "from ucimlrepo import fetch_ucirepo \n",
    "bank_marketing = fetch_ucirepo(id=222) \n",
    "df = bank_marketing.data.features\n",
    "df['outcome'] = bank_marketing.data.targets['y'].transform(lambda x: 1 if x == 'yes' else 0)\n",
    "df.head(10)"
   ]
  },
  {
   "cell_type": "markdown",
   "id": "27439d92",
   "metadata": {},
   "source": [
    "Let's clean the data a bit by dropping `NaNs` and get rid of the contact, poutcome, pdays and pdays columns."
   ]
  },
  {
   "cell_type": "code",
   "execution_count": 23,
   "id": "7916b1b2",
   "metadata": {},
   "outputs": [],
   "source": [
    "# remove columns contact, poutcome, pdays and pday\n",
    "to_drop = ['contact', 'poutcome', 'pdays', 'pdays']\n",
    "df = df.drop(columns=to_drop)\n",
    "df = df.dropna()"
   ]
  },
  {
   "cell_type": "code",
   "execution_count": 24,
   "id": "d39f3e6f",
   "metadata": {},
   "outputs": [
    {
     "data": {
      "text/plain": [
       "(43193, 14)"
      ]
     },
     "execution_count": 24,
     "metadata": {},
     "output_type": "execute_result"
    }
   ],
   "source": [
    "df.shape"
   ]
  },
  {
   "cell_type": "markdown",
   "id": "e2435692",
   "metadata": {},
   "source": [
    "Transform job, marital, education, default, housing, loan, month, day_of_week, to categorical"
   ]
  },
  {
   "cell_type": "code",
   "execution_count": 25,
   "id": "dd7a59aa",
   "metadata": {},
   "outputs": [
    {
     "data": {
      "text/html": [
       "<div>\n",
       "<style scoped>\n",
       "    .dataframe tbody tr th:only-of-type {\n",
       "        vertical-align: middle;\n",
       "    }\n",
       "\n",
       "    .dataframe tbody tr th {\n",
       "        vertical-align: top;\n",
       "    }\n",
       "\n",
       "    .dataframe thead th {\n",
       "        text-align: right;\n",
       "    }\n",
       "</style>\n",
       "<table border=\"1\" class=\"dataframe\">\n",
       "  <thead>\n",
       "    <tr style=\"text-align: right;\">\n",
       "      <th></th>\n",
       "      <th>age</th>\n",
       "      <th>job</th>\n",
       "      <th>marital</th>\n",
       "      <th>education</th>\n",
       "      <th>default</th>\n",
       "      <th>balance</th>\n",
       "      <th>housing</th>\n",
       "      <th>loan</th>\n",
       "      <th>day_of_week</th>\n",
       "      <th>month</th>\n",
       "      <th>duration</th>\n",
       "      <th>campaign</th>\n",
       "      <th>previous</th>\n",
       "      <th>outcome</th>\n",
       "    </tr>\n",
       "  </thead>\n",
       "  <tbody>\n",
       "    <tr>\n",
       "      <th>0</th>\n",
       "      <td>58</td>\n",
       "      <td>management</td>\n",
       "      <td>married</td>\n",
       "      <td>tertiary</td>\n",
       "      <td>no</td>\n",
       "      <td>2143</td>\n",
       "      <td>yes</td>\n",
       "      <td>no</td>\n",
       "      <td>5</td>\n",
       "      <td>may</td>\n",
       "      <td>261</td>\n",
       "      <td>1</td>\n",
       "      <td>0</td>\n",
       "      <td>0</td>\n",
       "    </tr>\n",
       "    <tr>\n",
       "      <th>1</th>\n",
       "      <td>44</td>\n",
       "      <td>technician</td>\n",
       "      <td>single</td>\n",
       "      <td>secondary</td>\n",
       "      <td>no</td>\n",
       "      <td>29</td>\n",
       "      <td>yes</td>\n",
       "      <td>no</td>\n",
       "      <td>5</td>\n",
       "      <td>may</td>\n",
       "      <td>151</td>\n",
       "      <td>1</td>\n",
       "      <td>0</td>\n",
       "      <td>0</td>\n",
       "    </tr>\n",
       "    <tr>\n",
       "      <th>2</th>\n",
       "      <td>33</td>\n",
       "      <td>entrepreneur</td>\n",
       "      <td>married</td>\n",
       "      <td>secondary</td>\n",
       "      <td>no</td>\n",
       "      <td>2</td>\n",
       "      <td>yes</td>\n",
       "      <td>yes</td>\n",
       "      <td>5</td>\n",
       "      <td>may</td>\n",
       "      <td>76</td>\n",
       "      <td>1</td>\n",
       "      <td>0</td>\n",
       "      <td>0</td>\n",
       "    </tr>\n",
       "    <tr>\n",
       "      <th>5</th>\n",
       "      <td>35</td>\n",
       "      <td>management</td>\n",
       "      <td>married</td>\n",
       "      <td>tertiary</td>\n",
       "      <td>no</td>\n",
       "      <td>231</td>\n",
       "      <td>yes</td>\n",
       "      <td>no</td>\n",
       "      <td>5</td>\n",
       "      <td>may</td>\n",
       "      <td>139</td>\n",
       "      <td>1</td>\n",
       "      <td>0</td>\n",
       "      <td>0</td>\n",
       "    </tr>\n",
       "    <tr>\n",
       "      <th>6</th>\n",
       "      <td>28</td>\n",
       "      <td>management</td>\n",
       "      <td>single</td>\n",
       "      <td>tertiary</td>\n",
       "      <td>no</td>\n",
       "      <td>447</td>\n",
       "      <td>yes</td>\n",
       "      <td>yes</td>\n",
       "      <td>5</td>\n",
       "      <td>may</td>\n",
       "      <td>217</td>\n",
       "      <td>1</td>\n",
       "      <td>0</td>\n",
       "      <td>0</td>\n",
       "    </tr>\n",
       "    <tr>\n",
       "      <th>7</th>\n",
       "      <td>42</td>\n",
       "      <td>entrepreneur</td>\n",
       "      <td>divorced</td>\n",
       "      <td>tertiary</td>\n",
       "      <td>yes</td>\n",
       "      <td>2</td>\n",
       "      <td>yes</td>\n",
       "      <td>no</td>\n",
       "      <td>5</td>\n",
       "      <td>may</td>\n",
       "      <td>380</td>\n",
       "      <td>1</td>\n",
       "      <td>0</td>\n",
       "      <td>0</td>\n",
       "    </tr>\n",
       "    <tr>\n",
       "      <th>8</th>\n",
       "      <td>58</td>\n",
       "      <td>retired</td>\n",
       "      <td>married</td>\n",
       "      <td>primary</td>\n",
       "      <td>no</td>\n",
       "      <td>121</td>\n",
       "      <td>yes</td>\n",
       "      <td>no</td>\n",
       "      <td>5</td>\n",
       "      <td>may</td>\n",
       "      <td>50</td>\n",
       "      <td>1</td>\n",
       "      <td>0</td>\n",
       "      <td>0</td>\n",
       "    </tr>\n",
       "    <tr>\n",
       "      <th>9</th>\n",
       "      <td>43</td>\n",
       "      <td>technician</td>\n",
       "      <td>single</td>\n",
       "      <td>secondary</td>\n",
       "      <td>no</td>\n",
       "      <td>593</td>\n",
       "      <td>yes</td>\n",
       "      <td>no</td>\n",
       "      <td>5</td>\n",
       "      <td>may</td>\n",
       "      <td>55</td>\n",
       "      <td>1</td>\n",
       "      <td>0</td>\n",
       "      <td>0</td>\n",
       "    </tr>\n",
       "    <tr>\n",
       "      <th>10</th>\n",
       "      <td>41</td>\n",
       "      <td>admin.</td>\n",
       "      <td>divorced</td>\n",
       "      <td>secondary</td>\n",
       "      <td>no</td>\n",
       "      <td>270</td>\n",
       "      <td>yes</td>\n",
       "      <td>no</td>\n",
       "      <td>5</td>\n",
       "      <td>may</td>\n",
       "      <td>222</td>\n",
       "      <td>1</td>\n",
       "      <td>0</td>\n",
       "      <td>0</td>\n",
       "    </tr>\n",
       "    <tr>\n",
       "      <th>11</th>\n",
       "      <td>29</td>\n",
       "      <td>admin.</td>\n",
       "      <td>single</td>\n",
       "      <td>secondary</td>\n",
       "      <td>no</td>\n",
       "      <td>390</td>\n",
       "      <td>yes</td>\n",
       "      <td>no</td>\n",
       "      <td>5</td>\n",
       "      <td>may</td>\n",
       "      <td>137</td>\n",
       "      <td>1</td>\n",
       "      <td>0</td>\n",
       "      <td>0</td>\n",
       "    </tr>\n",
       "  </tbody>\n",
       "</table>\n",
       "</div>"
      ],
      "text/plain": [
       "    age           job   marital  education default  balance housing loan  \\\n",
       "0    58    management   married   tertiary      no     2143     yes   no   \n",
       "1    44    technician    single  secondary      no       29     yes   no   \n",
       "2    33  entrepreneur   married  secondary      no        2     yes  yes   \n",
       "5    35    management   married   tertiary      no      231     yes   no   \n",
       "6    28    management    single   tertiary      no      447     yes  yes   \n",
       "7    42  entrepreneur  divorced   tertiary     yes        2     yes   no   \n",
       "8    58       retired   married    primary      no      121     yes   no   \n",
       "9    43    technician    single  secondary      no      593     yes   no   \n",
       "10   41        admin.  divorced  secondary      no      270     yes   no   \n",
       "11   29        admin.    single  secondary      no      390     yes   no   \n",
       "\n",
       "   day_of_week month  duration  campaign  previous  outcome  \n",
       "0            5   may       261         1         0        0  \n",
       "1            5   may       151         1         0        0  \n",
       "2            5   may        76         1         0        0  \n",
       "5            5   may       139         1         0        0  \n",
       "6            5   may       217         1         0        0  \n",
       "7            5   may       380         1         0        0  \n",
       "8            5   may        50         1         0        0  \n",
       "9            5   may        55         1         0        0  \n",
       "10           5   may       222         1         0        0  \n",
       "11           5   may       137         1         0        0  "
      ]
     },
     "execution_count": 25,
     "metadata": {},
     "output_type": "execute_result"
    }
   ],
   "source": [
    "categorical_vars = ['job', 'marital', 'education', 'default', 'housing', 'loan', 'month', 'day_of_week']\n",
    "\n",
    "for var in categorical_vars:\n",
    "    df[var] = df[var].astype('category')\n",
    "\n",
    "df.head(10)"
   ]
  },
  {
   "cell_type": "code",
   "execution_count": 26,
   "id": "c260c336",
   "metadata": {},
   "outputs": [
    {
     "data": {
      "text/plain": [
       "CategoricalDtype(categories=['admin.', 'blue-collar', 'entrepreneur', 'housemaid',\n",
       "                  'management', 'retired', 'self-employed', 'services',\n",
       "                  'student', 'technician', 'unemployed'],\n",
       ", ordered=False, categories_dtype=object)"
      ]
     },
     "execution_count": 26,
     "metadata": {},
     "output_type": "execute_result"
    }
   ],
   "source": [
    "df.job.dtypes"
   ]
  },
  {
   "cell_type": "markdown",
   "id": "1e6ead13",
   "metadata": {},
   "source": [
    "When we use linear regression with a binary response variable, we quickly run into a problem. \n",
    "\n",
    "The linear regression model will give us a predicted value for the response variable for any given value of the predictor variable, but this predicted value is not a probability. The predicted value can take on any value between 0 and 1, but it doesn't necessarily represent the probability of the response variable being a 1."
   ]
  },
  {
   "cell_type": "code",
   "execution_count": 27,
   "id": "efbc5786",
   "metadata": {},
   "outputs": [
    {
     "data": {
      "text/html": [
       "<table class=\"simpletable\">\n",
       "<caption>OLS Regression Results</caption>\n",
       "<tr>\n",
       "  <th>Dep. Variable:</th>         <td>outcome</td>     <th>  R-squared:         </th> <td>   0.167</td> \n",
       "</tr>\n",
       "<tr>\n",
       "  <th>Model:</th>                   <td>OLS</td>       <th>  Adj. R-squared:    </th> <td>   0.167</td> \n",
       "</tr>\n",
       "<tr>\n",
       "  <th>Method:</th>             <td>Least Squares</td>  <th>  F-statistic:       </th> <td>   1239.</td> \n",
       "</tr>\n",
       "<tr>\n",
       "  <th>Date:</th>             <td>Fri, 01 Mar 2024</td> <th>  Prob (F-statistic):</th>  <td>  0.00</td>  \n",
       "</tr>\n",
       "<tr>\n",
       "  <th>Time:</th>                 <td>08:30:35</td>     <th>  Log-Likelihood:    </th> <td> -8189.3</td> \n",
       "</tr>\n",
       "<tr>\n",
       "  <th>No. Observations:</th>      <td> 43193</td>      <th>  AIC:               </th> <td>1.639e+04</td>\n",
       "</tr>\n",
       "<tr>\n",
       "  <th>Df Residuals:</th>          <td> 43185</td>      <th>  BIC:               </th> <td>1.646e+04</td>\n",
       "</tr>\n",
       "<tr>\n",
       "  <th>Df Model:</th>              <td>     7</td>      <th>                     </th>     <td> </td>    \n",
       "</tr>\n",
       "<tr>\n",
       "  <th>Covariance Type:</th>      <td>nonrobust</td>    <th>                     </th>     <td> </td>    \n",
       "</tr>\n",
       "</table>\n",
       "<table class=\"simpletable\">\n",
       "<tr>\n",
       "             <td></td>               <th>coef</th>     <th>std err</th>      <th>t</th>      <th>P>|t|</th>  <th>[0.025</th>    <th>0.975]</th>  \n",
       "</tr>\n",
       "<tr>\n",
       "  <th>Intercept</th>              <td>   -0.0351</td> <td>    0.006</td> <td>   -6.363</td> <td> 0.000</td> <td>   -0.046</td> <td>   -0.024</td>\n",
       "</tr>\n",
       "<tr>\n",
       "  <th>education[T.secondary]</th> <td>    0.0122</td> <td>    0.004</td> <td>    3.003</td> <td> 0.003</td> <td>    0.004</td> <td>    0.020</td>\n",
       "</tr>\n",
       "<tr>\n",
       "  <th>education[T.tertiary]</th>  <td>    0.0518</td> <td>    0.004</td> <td>   11.664</td> <td> 0.000</td> <td>    0.043</td> <td>    0.060</td>\n",
       "</tr>\n",
       "<tr>\n",
       "  <th>marital[T.married]</th>     <td>   -0.0146</td> <td>    0.005</td> <td>   -3.228</td> <td> 0.001</td> <td>   -0.023</td> <td>   -0.006</td>\n",
       "</tr>\n",
       "<tr>\n",
       "  <th>marital[T.single]</th>      <td>    0.0218</td> <td>    0.005</td> <td>    4.428</td> <td> 0.000</td> <td>    0.012</td> <td>    0.031</td>\n",
       "</tr>\n",
       "<tr>\n",
       "  <th>default[T.yes]</th>         <td>   -0.0380</td> <td>    0.011</td> <td>   -3.594</td> <td> 0.000</td> <td>   -0.059</td> <td>   -0.017</td>\n",
       "</tr>\n",
       "<tr>\n",
       "  <th>duration</th>               <td>    0.0005</td> <td> 5.45e-06</td> <td>   89.957</td> <td> 0.000</td> <td>    0.000</td> <td>    0.001</td>\n",
       "</tr>\n",
       "<tr>\n",
       "  <th>balance</th>                <td> 4.021e-06</td> <td> 4.66e-07</td> <td>    8.632</td> <td> 0.000</td> <td> 3.11e-06</td> <td> 4.93e-06</td>\n",
       "</tr>\n",
       "</table>\n",
       "<table class=\"simpletable\">\n",
       "<tr>\n",
       "  <th>Omnibus:</th>       <td>15830.652</td> <th>  Durbin-Watson:     </th> <td>   1.503</td> \n",
       "</tr>\n",
       "<tr>\n",
       "  <th>Prob(Omnibus):</th>  <td> 0.000</td>   <th>  Jarque-Bera (JB):  </th> <td>53280.887</td>\n",
       "</tr>\n",
       "<tr>\n",
       "  <th>Skew:</th>           <td> 1.894</td>   <th>  Prob(JB):          </th> <td>    0.00</td> \n",
       "</tr>\n",
       "<tr>\n",
       "  <th>Kurtosis:</th>       <td> 6.905</td>   <th>  Cond. No.          </th> <td>2.51e+04</td> \n",
       "</tr>\n",
       "</table><br/><br/>Notes:<br/>[1] Standard Errors assume that the covariance matrix of the errors is correctly specified.<br/>[2] The condition number is large, 2.51e+04. This might indicate that there are<br/>strong multicollinearity or other numerical problems."
      ],
      "text/latex": [
       "\\begin{center}\n",
       "\\begin{tabular}{lclc}\n",
       "\\toprule\n",
       "\\textbf{Dep. Variable:}         &     outcome      & \\textbf{  R-squared:         } &     0.167   \\\\\n",
       "\\textbf{Model:}                 &       OLS        & \\textbf{  Adj. R-squared:    } &     0.167   \\\\\n",
       "\\textbf{Method:}                &  Least Squares   & \\textbf{  F-statistic:       } &     1239.   \\\\\n",
       "\\textbf{Date:}                  & Fri, 01 Mar 2024 & \\textbf{  Prob (F-statistic):} &     0.00    \\\\\n",
       "\\textbf{Time:}                  &     08:30:35     & \\textbf{  Log-Likelihood:    } &   -8189.3   \\\\\n",
       "\\textbf{No. Observations:}      &       43193      & \\textbf{  AIC:               } & 1.639e+04   \\\\\n",
       "\\textbf{Df Residuals:}          &       43185      & \\textbf{  BIC:               } & 1.646e+04   \\\\\n",
       "\\textbf{Df Model:}              &           7      & \\textbf{                     } &             \\\\\n",
       "\\textbf{Covariance Type:}       &    nonrobust     & \\textbf{                     } &             \\\\\n",
       "\\bottomrule\n",
       "\\end{tabular}\n",
       "\\begin{tabular}{lcccccc}\n",
       "                                & \\textbf{coef} & \\textbf{std err} & \\textbf{t} & \\textbf{P$> |$t$|$} & \\textbf{[0.025} & \\textbf{0.975]}  \\\\\n",
       "\\midrule\n",
       "\\textbf{Intercept}              &      -0.0351  &        0.006     &    -6.363  &         0.000        &       -0.046    &       -0.024     \\\\\n",
       "\\textbf{education[T.secondary]} &       0.0122  &        0.004     &     3.003  &         0.003        &        0.004    &        0.020     \\\\\n",
       "\\textbf{education[T.tertiary]}  &       0.0518  &        0.004     &    11.664  &         0.000        &        0.043    &        0.060     \\\\\n",
       "\\textbf{marital[T.married]}     &      -0.0146  &        0.005     &    -3.228  &         0.001        &       -0.023    &       -0.006     \\\\\n",
       "\\textbf{marital[T.single]}      &       0.0218  &        0.005     &     4.428  &         0.000        &        0.012    &        0.031     \\\\\n",
       "\\textbf{default[T.yes]}         &      -0.0380  &        0.011     &    -3.594  &         0.000        &       -0.059    &       -0.017     \\\\\n",
       "\\textbf{duration}               &       0.0005  &     5.45e-06     &    89.957  &         0.000        &        0.000    &        0.001     \\\\\n",
       "\\textbf{balance}                &    4.021e-06  &     4.66e-07     &     8.632  &         0.000        &     3.11e-06    &     4.93e-06     \\\\\n",
       "\\bottomrule\n",
       "\\end{tabular}\n",
       "\\begin{tabular}{lclc}\n",
       "\\textbf{Omnibus:}       & 15830.652 & \\textbf{  Durbin-Watson:     } &     1.503  \\\\\n",
       "\\textbf{Prob(Omnibus):} &    0.000  & \\textbf{  Jarque-Bera (JB):  } & 53280.887  \\\\\n",
       "\\textbf{Skew:}          &    1.894  & \\textbf{  Prob(JB):          } &      0.00  \\\\\n",
       "\\textbf{Kurtosis:}      &    6.905  & \\textbf{  Cond. No.          } &  2.51e+04  \\\\\n",
       "\\bottomrule\n",
       "\\end{tabular}\n",
       "%\\caption{OLS Regression Results}\n",
       "\\end{center}\n",
       "\n",
       "Notes: \\newline\n",
       " [1] Standard Errors assume that the covariance matrix of the errors is correctly specified. \\newline\n",
       " [2] The condition number is large, 2.51e+04. This might indicate that there are \\newline\n",
       " strong multicollinearity or other numerical problems."
      ],
      "text/plain": [
       "<class 'statsmodels.iolib.summary.Summary'>\n",
       "\"\"\"\n",
       "                            OLS Regression Results                            \n",
       "==============================================================================\n",
       "Dep. Variable:                outcome   R-squared:                       0.167\n",
       "Model:                            OLS   Adj. R-squared:                  0.167\n",
       "Method:                 Least Squares   F-statistic:                     1239.\n",
       "Date:                Fri, 01 Mar 2024   Prob (F-statistic):               0.00\n",
       "Time:                        08:30:35   Log-Likelihood:                -8189.3\n",
       "No. Observations:               43193   AIC:                         1.639e+04\n",
       "Df Residuals:                   43185   BIC:                         1.646e+04\n",
       "Df Model:                           7                                         \n",
       "Covariance Type:            nonrobust                                         \n",
       "==========================================================================================\n",
       "                             coef    std err          t      P>|t|      [0.025      0.975]\n",
       "------------------------------------------------------------------------------------------\n",
       "Intercept                 -0.0351      0.006     -6.363      0.000      -0.046      -0.024\n",
       "education[T.secondary]     0.0122      0.004      3.003      0.003       0.004       0.020\n",
       "education[T.tertiary]      0.0518      0.004     11.664      0.000       0.043       0.060\n",
       "marital[T.married]        -0.0146      0.005     -3.228      0.001      -0.023      -0.006\n",
       "marital[T.single]          0.0218      0.005      4.428      0.000       0.012       0.031\n",
       "default[T.yes]            -0.0380      0.011     -3.594      0.000      -0.059      -0.017\n",
       "duration                   0.0005   5.45e-06     89.957      0.000       0.000       0.001\n",
       "balance                 4.021e-06   4.66e-07      8.632      0.000    3.11e-06    4.93e-06\n",
       "==============================================================================\n",
       "Omnibus:                    15830.652   Durbin-Watson:                   1.503\n",
       "Prob(Omnibus):                  0.000   Jarque-Bera (JB):            53280.887\n",
       "Skew:                           1.894   Prob(JB):                         0.00\n",
       "Kurtosis:                       6.905   Cond. No.                     2.51e+04\n",
       "==============================================================================\n",
       "\n",
       "Notes:\n",
       "[1] Standard Errors assume that the covariance matrix of the errors is correctly specified.\n",
       "[2] The condition number is large, 2.51e+04. This might indicate that there are\n",
       "strong multicollinearity or other numerical problems.\n",
       "\"\"\""
      ]
     },
     "execution_count": 27,
     "metadata": {},
     "output_type": "execute_result"
    }
   ],
   "source": [
    "model = smf.ols('outcome ~ education + marital + default + duration + balance', data=df).fit()\n",
    "model.summary()"
   ]
  },
  {
   "cell_type": "markdown",
   "id": "ccea4fb1",
   "metadata": {},
   "source": [
    "<br><br><br><br>\n",
    "<br><br><br><br>"
   ]
  },
  {
   "cell_type": "markdown",
   "id": "0eef2187",
   "metadata": {},
   "source": [
    "The interpretation of the coefficients of the linear regression model are as follows:\n",
    "\n",
    "* $\\beta_0$ is the expected value of $y$ when all the $x$'s are 0.... ?\n",
    "* $\\beta_{job}$ is the expected change of $y$ for a one unit change in job, holding all other variables constant.... ?\n",
    "* $\\vdots$\n",
    "* $\\beta_{\\text{duration}}$ is the expected change of $y$ for a one unit change in the duration of the call, holding all other variables constant.... ?"
   ]
  },
  {
   "cell_type": "code",
   "execution_count": 28,
   "id": "185eeae9",
   "metadata": {},
   "outputs": [
    {
     "data": {
      "text/html": [
       "<table class=\"simpletable\">\n",
       "<tr>\n",
       "             <td></td>               <th>coef</th>     <th>std err</th>      <th>t</th>      <th>P>|t|</th>  <th>[0.025</th>    <th>0.975]</th>  \n",
       "</tr>\n",
       "<tr>\n",
       "  <th>Intercept</th>              <td>   -0.0351</td> <td>    0.006</td> <td>   -6.363</td> <td> 0.000</td> <td>   -0.046</td> <td>   -0.024</td>\n",
       "</tr>\n",
       "<tr>\n",
       "  <th>education[T.secondary]</th> <td>    0.0122</td> <td>    0.004</td> <td>    3.003</td> <td> 0.003</td> <td>    0.004</td> <td>    0.020</td>\n",
       "</tr>\n",
       "<tr>\n",
       "  <th>education[T.tertiary]</th>  <td>    0.0518</td> <td>    0.004</td> <td>   11.664</td> <td> 0.000</td> <td>    0.043</td> <td>    0.060</td>\n",
       "</tr>\n",
       "<tr>\n",
       "  <th>marital[T.married]</th>     <td>   -0.0146</td> <td>    0.005</td> <td>   -3.228</td> <td> 0.001</td> <td>   -0.023</td> <td>   -0.006</td>\n",
       "</tr>\n",
       "<tr>\n",
       "  <th>marital[T.single]</th>      <td>    0.0218</td> <td>    0.005</td> <td>    4.428</td> <td> 0.000</td> <td>    0.012</td> <td>    0.031</td>\n",
       "</tr>\n",
       "<tr>\n",
       "  <th>default[T.yes]</th>         <td>   -0.0380</td> <td>    0.011</td> <td>   -3.594</td> <td> 0.000</td> <td>   -0.059</td> <td>   -0.017</td>\n",
       "</tr>\n",
       "<tr>\n",
       "  <th>duration</th>               <td>    0.0005</td> <td> 5.45e-06</td> <td>   89.957</td> <td> 0.000</td> <td>    0.000</td> <td>    0.001</td>\n",
       "</tr>\n",
       "<tr>\n",
       "  <th>balance</th>                <td> 4.021e-06</td> <td> 4.66e-07</td> <td>    8.632</td> <td> 0.000</td> <td> 3.11e-06</td> <td> 4.93e-06</td>\n",
       "</tr>\n",
       "</table>"
      ],
      "text/latex": [
       "\\begin{center}\n",
       "\\begin{tabular}{lcccccc}\n",
       "\\toprule\n",
       "                                & \\textbf{coef} & \\textbf{std err} & \\textbf{t} & \\textbf{P$> |$t$|$} & \\textbf{[0.025} & \\textbf{0.975]}  \\\\\n",
       "\\midrule\n",
       "\\textbf{Intercept}              &      -0.0351  &        0.006     &    -6.363  &         0.000        &       -0.046    &       -0.024     \\\\\n",
       "\\textbf{education[T.secondary]} &       0.0122  &        0.004     &     3.003  &         0.003        &        0.004    &        0.020     \\\\\n",
       "\\textbf{education[T.tertiary]}  &       0.0518  &        0.004     &    11.664  &         0.000        &        0.043    &        0.060     \\\\\n",
       "\\textbf{marital[T.married]}     &      -0.0146  &        0.005     &    -3.228  &         0.001        &       -0.023    &       -0.006     \\\\\n",
       "\\textbf{marital[T.single]}      &       0.0218  &        0.005     &     4.428  &         0.000        &        0.012    &        0.031     \\\\\n",
       "\\textbf{default[T.yes]}         &      -0.0380  &        0.011     &    -3.594  &         0.000        &       -0.059    &       -0.017     \\\\\n",
       "\\textbf{duration}               &       0.0005  &     5.45e-06     &    89.957  &         0.000        &        0.000    &        0.001     \\\\\n",
       "\\textbf{balance}                &    4.021e-06  &     4.66e-07     &     8.632  &         0.000        &     3.11e-06    &     4.93e-06     \\\\\n",
       "\\bottomrule\n",
       "\\end{tabular}\n",
       "\\end{center}"
      ],
      "text/plain": [
       "<class 'statsmodels.iolib.table.SimpleTable'>"
      ]
     },
     "execution_count": 28,
     "metadata": {},
     "output_type": "execute_result"
    }
   ],
   "source": [
    "model.summary().tables[1]"
   ]
  },
  {
   "cell_type": "markdown",
   "id": "d0635a14",
   "metadata": {},
   "source": [
    "<br><br><br><br>\n",
    "<br><br><br><br>"
   ]
  },
  {
   "cell_type": "markdown",
   "id": "b62a2bd8",
   "metadata": {},
   "source": [
    "Okay, now suppose the bank calls a different customer who is not in the database. The bank has information about the customer's job, marital status, education... etc. The bank wants to predict whether this customer will subscribe to a term deposit or not."
   ]
  },
  {
   "cell_type": "code",
   "execution_count": 29,
   "id": "3f29cadc",
   "metadata": {},
   "outputs": [
    {
     "data": {
      "text/plain": [
       "2.4038032844035055"
      ]
     },
     "execution_count": 29,
     "metadata": {},
     "output_type": "execute_result"
    }
   ],
   "source": [
    "new_customer = pd.DataFrame({\n",
    "    'education': ['primary'],\n",
    "    'marital': ['married'],\n",
    "    'default': ['no'],\n",
    "    'duration': [5000],\n",
    "    'balance': [0]\n",
    "})\n",
    "\n",
    "model.predict(new_customer)[0]"
   ]
  },
  {
   "cell_type": "markdown",
   "id": "f9795798",
   "metadata": {},
   "source": [
    "<br><br><br><br>\n",
    "<br><br><br><br>"
   ]
  },
  {
   "cell_type": "markdown",
   "id": "79f2f082",
   "metadata": {},
   "source": [
    "---\n",
    "\n",
    "### The need for a new model\n",
    "\n",
    "We need a model that can give us the probability of the response variable being a $1$ for any given value of the predictor variables. \n",
    "\n",
    "\n",
    "That is, we want a model which, when given a set of independent variables $x_1, x_2, \\dots, x_p$, will give us, $p(x_1, x_2, \\dots, x_p)$, the probability that the dependent variable $y$ is a $1$.\n",
    "\n",
    "$$\n",
    "(x_1, x_2, \\dots, x_p) \\mapsto p(x_1, x_2, \\dots, x_p)\n",
    "$$\n",
    "\n",
    "where\n",
    "\n",
    "$$\n",
    "p(x_1, x_2, \\dots, x_p) = \\pr(y = 1 \\mid x_1, x_2, \\dots, x_p)\n",
    "$$\n"
   ]
  },
  {
   "cell_type": "markdown",
   "id": "823bdc33",
   "metadata": {},
   "source": [
    "<br><br><br><br>\n",
    "<br><br><br><br>"
   ]
  },
  {
   "cell_type": "markdown",
   "id": "065b72eb",
   "metadata": {},
   "source": [
    "### Odds\n",
    "\n",
    "Consider the stock price of a famous GPU manufacturer whose valuation recently hit $2 trillion. \n",
    "\n",
    "\n",
    "Suppose there's a $0.7$ probability that the stock price will go down tomorrow, and a $0.3$ probability that the stock price will go up tomorrow.\n",
    "\n",
    "We have the following basic table:\n",
    "\n",
    "| Outcome | Probability |\n",
    "|---------|-------------|\n",
    "| Up      | 0.3         |\n",
    "| Down    | 0.7         |\n"
   ]
  },
  {
   "cell_type": "markdown",
   "id": "b2b2567d",
   "metadata": {},
   "source": [
    "The odds of the stock price going up tomorrow is:\n",
    "\n",
    "$$\n",
    "\\frac{\\pr(\\text{Up})}{\\pr(\\text{Down})} = \\frac{0.3}{0.7} = \\frac{3}{7}\n",
    "$$\n"
   ]
  },
  {
   "cell_type": "markdown",
   "id": "3c3f8203",
   "metadata": {},
   "source": [
    "<br><br><br><br>\n",
    "<br><br><br><br>"
   ]
  },
  {
   "cell_type": "markdown",
   "id": "6b4e76f2",
   "metadata": {},
   "source": [
    "---\n",
    "\n",
    "\n",
    "In general, given an event $A$, which occurs with probability $\\pr(A)$\n",
    "\n",
    "| Outcome | Probability |\n",
    "|---------|-------------|\n",
    "| $A$     | $\\pr(A)$     |\n",
    "| $A^c$   | $1 - \\pr(A)$ |\n",
    "\n",
    "The odds of $A$ is:\n",
    "\n",
    "$$\n",
    "\\text{odds}(A) = \\frac{\\pr(A)}{\\pr(A^c)} = \\frac{\\pr(A)}{1 - \\pr(A)}\n",
    "$$"
   ]
  },
  {
   "cell_type": "markdown",
   "id": "b13266ac",
   "metadata": {},
   "source": [
    "Notably, because $\\pr(A) \\in (0, 1)$, it follows that \n",
    "\n",
    "$$\n",
    "\\text{odds}(A) \\in (0, \\infty)\\\\ \\\\\n",
    "\\implies \\boxed{\\text{log-odds}(A) \\in (-\\infty, \\infty)}\n",
    "$$\n",
    "\n"
   ]
  },
  {
   "cell_type": "markdown",
   "id": "c5a9e797",
   "metadata": {},
   "source": [
    "<br><br><br><br>\n",
    "<br><br><br><br>"
   ]
  },
  {
   "cell_type": "markdown",
   "id": "c2c6f844",
   "metadata": {},
   "source": [
    "### Logistic regression\n",
    "\n",
    "Given the independent variables $x_1, x_2, \\dots, x_p$, consider the event \n",
    "\n",
    "$$\n",
    "A = \\{y = 1 \\mid x_1, x_2, \\dots, x_p \\}.\n",
    "$$\n",
    "\n",
    "The log-odds of $A$ is:\n",
    "\n",
    "$$\n",
    "\\text{log-odds}(\\{ y=1 \\mid x_1, x_2, \\dots, x_p \\}) = \\log\\frac{\\pr(A)}{\\pr(A^c)} = \\log\\Bigg(\\frac{\\pr(y=1 \\mid x_1, x_2, \\dots, x_p)}{\\pr(y=0 \\mid x_1, x_2, \\dots, x_p)}\\Bigg)\n",
    "$$\n",
    "\n",
    "<br><br><br><br>\n",
    "<br><br><br><br>\n",
    "\n",
    "Instead of modeling the probability of the response variable directly \n",
    "\n",
    "$$\n",
    "\\pr(y=1 | x_1, x_2, \\dots, x_p) = \\beta_0 + \\beta_1 x_1 + \\beta_2 x_2 + \\dots + \\beta_p x_p \\tag{❌}\n",
    "$$\n",
    "\n",
    "logistic regression models the **log-odds** of the response variable\n",
    "\n",
    "$$\n",
    "\\boxed{\\text{log-odds}(y=1 | x_1, x_2, \\dots, x_p) = \\beta_0 + \\beta_1 x_1 + \\beta_2 x_2 + \\dots + \\beta_p x_p} \\tag{✅}\n",
    "$$\n",
    "\n"
   ]
  },
  {
   "cell_type": "markdown",
   "id": "85b26ab2",
   "metadata": {},
   "source": [
    "<br><br><br><br>\n",
    "<br><br><br><br>"
   ]
  },
  {
   "cell_type": "markdown",
   "id": "6ad06350",
   "metadata": {},
   "source": [
    "> #### Okay, so how do I get the probability? 🙄\n",
    "\n"
   ]
  },
  {
   "cell_type": "markdown",
   "id": "d4e55a09",
   "metadata": {},
   "source": [
    "$$\n",
    "\\begin{aligned}\n",
    "\\quad\\quad\\quad\\quad\\text{log-odds}(y=1 | x_1, x_2, \\dots, x_p) &= \\beta_0 + \\beta_1 x_1 + \\beta_2 x_2 + \\dots + \\beta_p x_p\\\\ \\\\\n",
    "\\quad\\quad\\quad\\implies \\text{odds}(y=1 | x_1, x_2, \\dots, x_p) &= \\exp\\Big(\\beta_0 + \\beta_1 x_1 + \\beta_2 x_2 + \\dots + \\beta_p x_p\\Big)\\\\ \\\\\n",
    "\\quad\\quad \\implies  \\frac{\\pr(y=1 | x_1, x_2, \\dots, x_p)}{\\pr(y=0 | x_1, x_2, \\dots, x_p)} &= \\exp\\Big(\\beta_0 + \\beta_1 x_1 + \\beta_2 x_2 + \\dots + \\beta_p x_p\\Big)\\\\ \\\\\n",
    "\\implies \\frac{\\pr(y=1 | x_1, x_2, \\dots, x_p)}{1-\\pr(y=1 | x_1, x_2, \\dots, x_p)} &= \\exp\\Big(\\beta_0 + \\beta_1 x_1 + \\beta_2 x_2 + \\dots + \\beta_p x_p\\Big)\\\\ \\\\\n",
    "\\end{aligned}\n",
    "$$\n",
    "\n",
    "By solving for $\\pr(y=1 | x_1, x_2, \\dots, x_p)$, we get:\n",
    "\n",
    "$$\n",
    "\\pr(y=1 | x_1, x_2, \\dots, x_p) = \\frac{\\exp\\Big(\\beta_0 + \\beta_1 x_1 + \\beta_2 x_2 + \\dots + \\beta_p x_p\\Big)}{1 + \\exp\\Big(\\beta_0 + \\beta_1 x_1 + \\beta_2 x_2 + \\dots + \\beta_p x_p\\Big)}\n",
    "$$\n",
    "\n",
    "\n",
    "By taking $\\sigma(z)$ to be the function given by:\n",
    "\n",
    "$$\n",
    "\\sigma(z) = \\frac{\\exp(z)}{1 + \\exp(z)}\n",
    "$$\n",
    "\n",
    "we get:\n",
    "\n",
    "$$\n",
    "\\boxed{\\pr(y=1 | x_1, x_2, \\dots, x_p) = \\sigma\\Big(\\beta_0 + \\beta_1 x_1 + \\beta_2 x_2 + \\dots + \\beta_p x_p\\Big)}\n",
    "$$"
   ]
  },
  {
   "cell_type": "markdown",
   "id": "be46dfac",
   "metadata": {},
   "source": [
    "The function $\\sigma(z)$ is called the **logistic function**."
   ]
  },
  {
   "cell_type": "markdown",
   "id": "d6e1f16c",
   "metadata": {},
   "source": [
    "<br><br><br><br>\n",
    "<br><br><br><br>"
   ]
  },
  {
   "cell_type": "markdown",
   "id": "4577e919",
   "metadata": {},
   "source": [
    "To summarize:\n",
    "\n",
    "* Logistic regression models the odds of the response variable being a $1$ as a linear function of the predictor variables.\n",
    "\n",
    "$$\n",
    "\\text{log-odds}(y=1 | x_1, x_2, \\dots, x_p) = \\beta_0 + \\beta_1 x_1 + \\beta_2 x_2 + \\dots + \\beta_p x_p\n",
    "$$\n",
    "\n",
    "* The probability of the response variable being a $1$ is given by the logistic function of the linear combination of the predictor variables.\n",
    "\n",
    "$$\n",
    "\\pr(y=1 | x_1, x_2, \\dots, x_p) = \\sigma\\Big(\\beta_0 + \\beta_1 x_1 + \\beta_2 x_2 + \\dots + \\beta_p x_p\\Big)\n",
    "$$\n",
    "\n",
    "* The function which bridges the gap between the log-odds and the probability is called the **logistic function**, or the **sigmoid function**."
   ]
  },
  {
   "cell_type": "code",
   "execution_count": 30,
   "id": "32014849",
   "metadata": {},
   "outputs": [
    {
     "data": {
      "text/plain": [
       "[<matplotlib.lines.Line2D at 0x16a59cfb0>]"
      ]
     },
     "execution_count": 30,
     "metadata": {},
     "output_type": "execute_result"
    },
    {
     "data": {
      "image/png": "[encoded data removed]",
      "text/plain": [
       "<Figure size 640x480 with 1 Axes>"
      ]
     },
     "metadata": {},
     "output_type": "display_data"
    }
   ],
   "source": [
    "# plot of the sigmoid function\n",
    "\n",
    "sigma = lambda x: np.exp(x) / (1 + np.exp(x))\n",
    "x = np.linspace(-10, 10, 100)\n",
    "plt.plot(x, sigma(x))"
   ]
  },
  {
   "cell_type": "markdown",
   "id": "78b689fc",
   "metadata": {},
   "source": [
    "<br><br><br><br>\n",
    "<br><br><br><br>"
   ]
  },
  {
   "cell_type": "markdown",
   "id": "86282af5",
   "metadata": {},
   "source": [
    "\n",
    "### Fitting the logistic regression model\n",
    "\n",
    "\n",
    "> #### 1. Baby steps: continuous covariates"
   ]
  },
  {
   "cell_type": "markdown",
   "id": "aa7826ed",
   "metadata": {},
   "source": [
    "Consider the usual `OLS` model used to fit the linear regression model."
   ]
  },
  {
   "cell_type": "code",
   "execution_count": 31,
   "id": "7b58387b",
   "metadata": {},
   "outputs": [
    {
     "data": {
      "text/html": [
       "<table class=\"simpletable\">\n",
       "<tr>\n",
       "      <td></td>         <th>coef</th>     <th>std err</th>      <th>t</th>      <th>P>|t|</th>  <th>[0.025</th>    <th>0.975]</th>  \n",
       "</tr>\n",
       "<tr>\n",
       "  <th>Intercept</th> <td>   -0.0171</td> <td>    0.002</td> <td>   -8.201</td> <td> 0.000</td> <td>   -0.021</td> <td>   -0.013</td>\n",
       "</tr>\n",
       "<tr>\n",
       "  <th>duration</th>  <td>    0.0005</td> <td> 5.48e-06</td> <td>   89.884</td> <td> 0.000</td> <td>    0.000</td> <td>    0.001</td>\n",
       "</tr>\n",
       "<tr>\n",
       "  <th>balance</th>   <td> 4.576e-06</td> <td> 4.65e-07</td> <td>    9.846</td> <td> 0.000</td> <td> 3.67e-06</td> <td> 5.49e-06</td>\n",
       "</tr>\n",
       "</table>"
      ],
      "text/latex": [
       "\\begin{center}\n",
       "\\begin{tabular}{lcccccc}\n",
       "\\toprule\n",
       "                   & \\textbf{coef} & \\textbf{std err} & \\textbf{t} & \\textbf{P$> |$t$|$} & \\textbf{[0.025} & \\textbf{0.975]}  \\\\\n",
       "\\midrule\n",
       "\\textbf{Intercept} &      -0.0171  &        0.002     &    -8.201  &         0.000        &       -0.021    &       -0.013     \\\\\n",
       "\\textbf{duration}  &       0.0005  &     5.48e-06     &    89.884  &         0.000        &        0.000    &        0.001     \\\\\n",
       "\\textbf{balance}   &    4.576e-06  &     4.65e-07     &     9.846  &         0.000        &     3.67e-06    &     5.49e-06     \\\\\n",
       "\\bottomrule\n",
       "\\end{tabular}\n",
       "\\end{center}"
      ],
      "text/plain": [
       "<class 'statsmodels.iolib.table.SimpleTable'>"
      ]
     },
     "execution_count": 31,
     "metadata": {},
     "output_type": "execute_result"
    }
   ],
   "source": [
    "ols_model = smf.ols('outcome ~ duration + balance', data=df).fit()\n",
    "ols_model.summary().tables[1]"
   ]
  },
  {
   "cell_type": "markdown",
   "id": "2db6985c",
   "metadata": {},
   "source": [
    "In `statsmodels` you can fit the logistic regression model using the `Logit` class."
   ]
  },
  {
   "cell_type": "code",
   "execution_count": 32,
   "id": "9c7c68f2",
   "metadata": {},
   "outputs": [
    {
     "name": "stdout",
     "output_type": "stream",
     "text": [
      "Optimization terminated successfully.\n",
      "         Current function value: 0.298246\n",
      "         Iterations 7\n",
      "                           Logit Regression Results                           \n",
      "==============================================================================\n",
      "Dep. Variable:                outcome   No. Observations:                43193\n",
      "Model:                          Logit   Df Residuals:                    43188\n",
      "Method:                           MLE   Df Model:                            4\n",
      "Date:                Fri, 01 Mar 2024   Pseudo R-squ.:                  0.1701\n",
      "Time:                        08:30:42   Log-Likelihood:                -12882.\n",
      "converged:                       True   LL-Null:                       -15523.\n",
      "Covariance Type:            nonrobust   LLR p-value:                     0.000\n",
      "==========================================================================================\n",
      "                             coef    std err          z      P>|z|      [0.025      0.975]\n",
      "------------------------------------------------------------------------------------------\n",
      "Intercept                 -3.6686      0.054    -68.237      0.000      -3.774      -3.563\n",
      "education[T.secondary]     0.2752      0.053      5.170      0.000       0.171       0.380\n",
      "education[T.tertiary]      0.7267      0.055     13.225      0.000       0.619       0.834\n",
      "duration                   0.0036   5.69e-05     63.102      0.000       0.003       0.004\n",
      "balance                 3.405e-05   4.27e-06      7.983      0.000    2.57e-05    4.24e-05\n",
      "==========================================================================================\n"
     ]
    }
   ],
   "source": [
    "# sm.Logit?\n",
    "\n",
    "logistic_model = smf.logit('outcome ~ duration + balance + education', data=df).fit()\n",
    "print(logistic_model.summary())"
   ]
  },
  {
   "cell_type": "code",
   "execution_count": 33,
   "id": "3dd3fe73-6924-482b-abb1-a3d1c3a152fe",
   "metadata": {},
   "outputs": [
    {
     "data": {
      "text/plain": [
       "1.0036064877830035"
      ]
     },
     "execution_count": 33,
     "metadata": {},
     "output_type": "execute_result"
    }
   ],
   "source": [
    "np.exp(0.0036)"
   ]
  },
  {
   "cell_type": "markdown",
   "id": "0abd5891",
   "metadata": {},
   "source": [
    "<br><br><br><br>\n",
    "<br><br><br><br>"
   ]
  },
  {
   "cell_type": "markdown",
   "id": "0ad87c00",
   "metadata": {},
   "source": [
    "> The first table reveals some interesting information which we'll get back to on Wednesay. "
   ]
  },
  {
   "cell_type": "code",
   "execution_count": 34,
   "id": "27b700fd",
   "metadata": {},
   "outputs": [
    {
     "data": {
      "text/html": [
       "<table class=\"simpletable\">\n",
       "<caption>Logit Regression Results</caption>\n",
       "<tr>\n",
       "  <th>Dep. Variable:</th>        <td>outcome</td>     <th>  No. Observations:  </th>  <td> 43193</td> \n",
       "</tr>\n",
       "<tr>\n",
       "  <th>Model:</th>                 <td>Logit</td>      <th>  Df Residuals:      </th>  <td> 43188</td> \n",
       "</tr>\n",
       "<tr>\n",
       "  <th>Method:</th>                 <td>MLE</td>       <th>  Df Model:          </th>  <td>     4</td> \n",
       "</tr>\n",
       "<tr>\n",
       "  <th>Date:</th>            <td>Fri, 01 Mar 2024</td> <th>  Pseudo R-squ.:     </th>  <td>0.1701</td> \n",
       "</tr>\n",
       "<tr>\n",
       "  <th>Time:</th>                <td>08:30:43</td>     <th>  Log-Likelihood:    </th> <td> -12882.</td>\n",
       "</tr>\n",
       "<tr>\n",
       "  <th>converged:</th>             <td>True</td>       <th>  LL-Null:           </th> <td> -15523.</td>\n",
       "</tr>\n",
       "<tr>\n",
       "  <th>Covariance Type:</th>     <td>nonrobust</td>    <th>  LLR p-value:       </th>  <td> 0.000</td> \n",
       "</tr>\n",
       "</table>"
      ],
      "text/latex": [
       "\\begin{center}\n",
       "\\begin{tabular}{lclc}\n",
       "\\toprule\n",
       "\\textbf{Dep. Variable:}   &     outcome      & \\textbf{  No. Observations:  } &   43193   \\\\\n",
       "\\textbf{Model:}           &      Logit       & \\textbf{  Df Residuals:      } &   43188   \\\\\n",
       "\\textbf{Method:}          &       MLE        & \\textbf{  Df Model:          } &       4   \\\\\n",
       "\\textbf{Date:}            & Fri, 01 Mar 2024 & \\textbf{  Pseudo R-squ.:     } &  0.1701   \\\\\n",
       "\\textbf{Time:}            &     08:30:43     & \\textbf{  Log-Likelihood:    } &  -12882.  \\\\\n",
       "\\textbf{converged:}       &       True       & \\textbf{  LL-Null:           } &  -15523.  \\\\\n",
       "\\textbf{Covariance Type:} &    nonrobust     & \\textbf{  LLR p-value:       } &   0.000   \\\\\n",
       "\\bottomrule\n",
       "\\end{tabular}\n",
       "%\\caption{Logit Regression Results}\n",
       "\\end{center}"
      ],
      "text/plain": [
       "<class 'statsmodels.iolib.table.SimpleTable'>"
      ]
     },
     "execution_count": 34,
     "metadata": {},
     "output_type": "execute_result"
    }
   ],
   "source": [
    "logistic_model.summary().tables[0]"
   ]
  },
  {
   "cell_type": "markdown",
   "id": "21ddd433",
   "metadata": {},
   "source": [
    "<br><br><br><br>\n",
    "<br><br><br><br>"
   ]
  },
  {
   "cell_type": "markdown",
   "id": "13b307cd",
   "metadata": {},
   "source": [
    "> As guaranteed by construction, the logistic regression model will never give you a value which isn't a probability"
   ]
  },
  {
   "cell_type": "code",
   "execution_count": 38,
   "id": "799bc9f9",
   "metadata": {},
   "outputs": [
    {
     "data": {
      "text/plain": [
       "(1.4597897455587392, 0.9991734680843279)"
      ]
     },
     "execution_count": 38,
     "metadata": {},
     "output_type": "execute_result"
    }
   ],
   "source": [
    "new_data = pd.DataFrame({\n",
    "    'duration': [3000],\n",
    "    'balance': [0],\n",
    "    'education': ['primary']\n",
    "})\n",
    "\n",
    "ols_model.predict(new_data)[0], logistic_model.predict(new_data)[0]"
   ]
  },
  {
   "cell_type": "markdown",
   "id": "a86d7c73",
   "metadata": {},
   "source": [
    "<br><br><br><br>\n",
    "<br><br><br><br>"
   ]
  },
  {
   "cell_type": "markdown",
   "id": "0d94e749",
   "metadata": {},
   "source": [
    "### Interpretation of the coefficients\n",
    "\n",
    "Given the logistic regression model\n",
    "\n",
    "$$\n",
    "\\text{log-odds}(y=1 | x_1, x_2, \\dots, x_p) = \\beta_0 + \\beta_1 x_1 + \\beta_2 x_2 + \\dots + \\beta_p x_p\n",
    "$$\n",
    "\n",
    "the partial derivative of the log-odds with respect to $x_i$ is:\n",
    "\n",
    "$$\n",
    "\\frac{\\partial}{\\partial x_i}\\text{log-odds}(y=1 | x_1, x_2, \\dots, x_p) = \\beta_i\n",
    "$$\n",
    "\n",
    "This means that the coefficient $\\beta_i$ is the expected change in the log-odds of the response variable for an infinitesimal change in $x_i$, holding all other variables constant.\n",
    "\n",
    "<br><br><br><br>\n",
    "\n",
    "This is **not the same** as $\\exp(\\beta_i)$ being the expected change in the odds of the response variable!!!"
   ]
  },
  {
   "cell_type": "markdown",
   "id": "db3f42e9",
   "metadata": {},
   "source": [
    "<br><br><br><br>\n",
    "<br><br><br><br>"
   ]
  },
  {
   "cell_type": "markdown",
   "id": "81914ae0",
   "metadata": {},
   "source": [
    "#### Odds-Ratio\n",
    "\n",
    "If we want an interpretation on the odds-scale (which is more intuitive), we need to do a little more math.\n",
    "\n",
    "<br><br>\n",
    "\n",
    "Given two events $A$ and $B$, the odds-ratio of $A$ to $B$ is:\n",
    "\n",
    "$$\n",
    "\\text{odds-ratio}(A:B) = \\frac{\\text{odds}(A)}{\\text{odds}(B)} = \\frac{\\pr(A)/\\pr(A^c)}{\\pr(B)/\\pr(B^c)} = \\frac{\\pr(A)\\pr(B^c)}{\\pr(A^c)\\pr(B)}\n",
    "$$\n",
    "\n",
    "<br><br>\n",
    "\n"
   ]
  },
  {
   "cell_type": "markdown",
   "id": "31ac53b2",
   "metadata": {},
   "source": [
    "Now, consider the following events:\n",
    "\n",
    "* $A = \\{y=1 \\mid x_1, x_2, \\dots, x_p  \\text{ and } x_i = x_i\\}$\n",
    "* $B = \\{y=1 \\mid x_1, x_2, \\dots, x_p \\text{ and } x_i = x_i + 1\\}$"
   ]
  },
  {
   "cell_type": "markdown",
   "id": "23a912f2",
   "metadata": {},
   "source": [
    "<br><br><br><br>"
   ]
  },
  {
   "cell_type": "markdown",
   "id": "e15f1756",
   "metadata": {},
   "source": [
    "$$\n",
    "\\begin{aligned}\n",
    "\\text{odds}(A) &= \\text{odds}(y=1 | x_1, x_2, \\dots, x_p  \\text{ and } x_i = x_i)\\\\ \\\\ \n",
    "&= \\exp(\\beta_0 + \\beta_1 x_1 + \\beta_2 x_2 + \\dots + \\beta_p x_p + \\beta_i x_i)\\\\ \\\\ \\\\ \\\\\n",
    "\\text{odds}(B) &= \\text{odds}(y=1 | x_1, x_2, \\dots, x_p  \\text{ and } x_i = x_i + 1)\\\\ \\\\ \n",
    "&= \\exp(\\beta_0 + \\beta_1 x_1 + \\beta_2 x_2 + \\dots + \\beta_p x_p + \\beta_i x_i + \\beta_i)\\\\ \\\\\n",
    "\\end{aligned}\n",
    "$$"
   ]
  },
  {
   "cell_type": "markdown",
   "id": "73b7daa1",
   "metadata": {},
   "source": [
    "<br><br><br><br>"
   ]
  },
  {
   "cell_type": "markdown",
   "id": "f84ae4db",
   "metadata": {},
   "source": [
    "$$\n",
    "\\begin{aligned}\n",
    "\\text{odds-ratio}(B:A) &= \\frac{\\exp(\\beta_0 + \\beta_1 x_1 + \\beta_2 x_2 + \\dots + \\beta_p x_p + \\beta_i x_i + \\beta_i)}{\\exp(\\beta_0 + \\beta_1 x_1 + \\beta_2 x_2 + \\dots + \\beta_p x_p + \\beta_i x_i)}\\\\ \\\\\n",
    "&= \\exp(\\beta_i)\n",
    "\\end{aligned}\n",
    "$$"
   ]
  },
  {
   "cell_type": "markdown",
   "id": "5d0b5eac",
   "metadata": {},
   "source": [
    "<br><br><br><br>"
   ]
  },
  {
   "cell_type": "markdown",
   "id": "b55657ea",
   "metadata": {},
   "source": [
    "This leads to the following interpretation of the coefficient $\\beta_i$:\n",
    "\n",
    "$$\n",
    "\\exp(\\beta_i) = \\frac{\\text{odds}(y=1 \\mid x_i = x_i + 1)}{\\text{odds}(y=1 \\mid x_i = x_i)}\n",
    "$$\n",
    "\n",
    "i.e., $\\exp(\\beta_i)$ is the **relative change** in odds for a one unit change in $x_i$ holding all other variables constant.\n",
    "\n",
    "* $\\beta_i < 0$ implies that a one unit increase in $x_i$ decreases the odds of the response variable $y=1$.\n",
    "* $\\beta_i > 0$ implies that a one unit increase in $x_i$ increases the odds of the response variable $y=1$."
   ]
  },
  {
   "cell_type": "markdown",
   "id": "921c19e4",
   "metadata": {},
   "source": [
    "<br><br><br><br>\n",
    "<br><br><br><br>\n"
   ]
  },
  {
   "cell_type": "markdown",
   "id": "5947d415",
   "metadata": {},
   "source": [
    "> #### 2. Big steps: continuous and categorical covariates"
   ]
  },
  {
   "cell_type": "code",
   "execution_count": 39,
   "id": "8c6c85c0",
   "metadata": {},
   "outputs": [
    {
     "name": "stdout",
     "output_type": "stream",
     "text": [
      "Optimization terminated successfully.\n",
      "         Current function value: 0.290711\n",
      "         Iterations 7\n"
     ]
    },
    {
     "data": {
      "text/html": [
       "<table class=\"simpletable\">\n",
       "<tr>\n",
       "            <td></td>              <th>coef</th>     <th>std err</th>      <th>z</th>      <th>P>|z|</th>  <th>[0.025</th>    <th>0.975]</th>  \n",
       "</tr>\n",
       "<tr>\n",
       "  <th>Intercept</th>            <td>   -3.1884</td> <td>    0.068</td> <td>  -46.610</td> <td> 0.000</td> <td>   -3.322</td> <td>   -3.054</td>\n",
       "</tr>\n",
       "<tr>\n",
       "  <th>job[T.blue-collar]</th>   <td>   -0.7510</td> <td>    0.065</td> <td>  -11.497</td> <td> 0.000</td> <td>   -0.879</td> <td>   -0.623</td>\n",
       "</tr>\n",
       "<tr>\n",
       "  <th>job[T.entrepreneur]</th>  <td>   -0.5337</td> <td>    0.117</td> <td>   -4.562</td> <td> 0.000</td> <td>   -0.763</td> <td>   -0.304</td>\n",
       "</tr>\n",
       "<tr>\n",
       "  <th>job[T.housemaid]</th>     <td>   -0.4497</td> <td>    0.125</td> <td>   -3.604</td> <td> 0.000</td> <td>   -0.694</td> <td>   -0.205</td>\n",
       "</tr>\n",
       "<tr>\n",
       "  <th>job[T.management]</th>    <td>    0.0655</td> <td>    0.058</td> <td>    1.131</td> <td> 0.258</td> <td>   -0.048</td> <td>    0.179</td>\n",
       "</tr>\n",
       "<tr>\n",
       "  <th>job[T.retired]</th>       <td>    0.7761</td> <td>    0.075</td> <td>   10.362</td> <td> 0.000</td> <td>    0.629</td> <td>    0.923</td>\n",
       "</tr>\n",
       "<tr>\n",
       "  <th>job[T.self-employed]</th> <td>   -0.1936</td> <td>    0.101</td> <td>   -1.919</td> <td> 0.055</td> <td>   -0.391</td> <td>    0.004</td>\n",
       "</tr>\n",
       "<tr>\n",
       "  <th>job[T.services]</th>      <td>   -0.5137</td> <td>    0.078</td> <td>   -6.573</td> <td> 0.000</td> <td>   -0.667</td> <td>   -0.361</td>\n",
       "</tr>\n",
       "<tr>\n",
       "  <th>job[T.student]</th>       <td>    1.0169</td> <td>    0.099</td> <td>   10.270</td> <td> 0.000</td> <td>    0.823</td> <td>    1.211</td>\n",
       "</tr>\n",
       "<tr>\n",
       "  <th>job[T.technician]</th>    <td>   -0.1902</td> <td>    0.062</td> <td>   -3.049</td> <td> 0.002</td> <td>   -0.313</td> <td>   -0.068</td>\n",
       "</tr>\n",
       "<tr>\n",
       "  <th>job[T.unemployed]</th>    <td>    0.1146</td> <td>    0.099</td> <td>    1.158</td> <td> 0.247</td> <td>   -0.079</td> <td>    0.309</td>\n",
       "</tr>\n",
       "<tr>\n",
       "  <th>marital[T.married]</th>   <td>   -0.1049</td> <td>    0.054</td> <td>   -1.935</td> <td> 0.053</td> <td>   -0.211</td> <td>    0.001</td>\n",
       "</tr>\n",
       "<tr>\n",
       "  <th>marital[T.single]</th>    <td>    0.2924</td> <td>    0.058</td> <td>    5.052</td> <td> 0.000</td> <td>    0.179</td> <td>    0.406</td>\n",
       "</tr>\n",
       "<tr>\n",
       "  <th>default[T.yes]</th>       <td>   -0.5434</td> <td>    0.160</td> <td>   -3.389</td> <td> 0.001</td> <td>   -0.858</td> <td>   -0.229</td>\n",
       "</tr>\n",
       "<tr>\n",
       "  <th>duration</th>             <td>    0.0037</td> <td>  5.8e-05</td> <td>   63.158</td> <td> 0.000</td> <td>    0.004</td> <td>    0.004</td>\n",
       "</tr>\n",
       "<tr>\n",
       "  <th>balance</th>              <td> 3.181e-05</td> <td>  4.4e-06</td> <td>    7.231</td> <td> 0.000</td> <td> 2.32e-05</td> <td> 4.04e-05</td>\n",
       "</tr>\n",
       "</table>"
      ],
      "text/latex": [
       "\\begin{center}\n",
       "\\begin{tabular}{lcccccc}\n",
       "\\toprule\n",
       "                              & \\textbf{coef} & \\textbf{std err} & \\textbf{z} & \\textbf{P$> |$z$|$} & \\textbf{[0.025} & \\textbf{0.975]}  \\\\\n",
       "\\midrule\n",
       "\\textbf{Intercept}            &      -3.1884  &        0.068     &   -46.610  &         0.000        &       -3.322    &       -3.054     \\\\\n",
       "\\textbf{job[T.blue-collar]}   &      -0.7510  &        0.065     &   -11.497  &         0.000        &       -0.879    &       -0.623     \\\\\n",
       "\\textbf{job[T.entrepreneur]}  &      -0.5337  &        0.117     &    -4.562  &         0.000        &       -0.763    &       -0.304     \\\\\n",
       "\\textbf{job[T.housemaid]}     &      -0.4497  &        0.125     &    -3.604  &         0.000        &       -0.694    &       -0.205     \\\\\n",
       "\\textbf{job[T.management]}    &       0.0655  &        0.058     &     1.131  &         0.258        &       -0.048    &        0.179     \\\\\n",
       "\\textbf{job[T.retired]}       &       0.7761  &        0.075     &    10.362  &         0.000        &        0.629    &        0.923     \\\\\n",
       "\\textbf{job[T.self-employed]} &      -0.1936  &        0.101     &    -1.919  &         0.055        &       -0.391    &        0.004     \\\\\n",
       "\\textbf{job[T.services]}      &      -0.5137  &        0.078     &    -6.573  &         0.000        &       -0.667    &       -0.361     \\\\\n",
       "\\textbf{job[T.student]}       &       1.0169  &        0.099     &    10.270  &         0.000        &        0.823    &        1.211     \\\\\n",
       "\\textbf{job[T.technician]}    &      -0.1902  &        0.062     &    -3.049  &         0.002        &       -0.313    &       -0.068     \\\\\n",
       "\\textbf{job[T.unemployed]}    &       0.1146  &        0.099     &     1.158  &         0.247        &       -0.079    &        0.309     \\\\\n",
       "\\textbf{marital[T.married]}   &      -0.1049  &        0.054     &    -1.935  &         0.053        &       -0.211    &        0.001     \\\\\n",
       "\\textbf{marital[T.single]}    &       0.2924  &        0.058     &     5.052  &         0.000        &        0.179    &        0.406     \\\\\n",
       "\\textbf{default[T.yes]}       &      -0.5434  &        0.160     &    -3.389  &         0.001        &       -0.858    &       -0.229     \\\\\n",
       "\\textbf{duration}             &       0.0037  &      5.8e-05     &    63.158  &         0.000        &        0.004    &        0.004     \\\\\n",
       "\\textbf{balance}              &    3.181e-05  &      4.4e-06     &     7.231  &         0.000        &     2.32e-05    &     4.04e-05     \\\\\n",
       "\\bottomrule\n",
       "\\end{tabular}\n",
       "\\end{center}"
      ],
      "text/plain": [
       "<class 'statsmodels.iolib.table.SimpleTable'>"
      ]
     },
     "execution_count": 39,
     "metadata": {},
     "output_type": "execute_result"
    }
   ],
   "source": [
    "logistic_model = smf.logit('outcome ~ duration + balance + job + marital + default', data=df).fit()\n",
    "\n",
    "logistic_model.summary().tables[1]"
   ]
  },
  {
   "cell_type": "markdown",
   "id": "800ed97b",
   "metadata": {},
   "source": [
    "Let's interpret the coefficient\n",
    "$$\n",
    "\\beta_{\\text{job: blue-collar}}\n",
    "$$"
   ]
  },
  {
   "cell_type": "markdown",
   "id": "7c2cca65",
   "metadata": {},
   "source": [
    "remember, the reference category for x=job  is `admin.`\n",
    "\n",
    "The coefficient $\\beta_{\\text{job: blue-collar}} = -0.75$ \n",
    "\n",
    "$$\n",
    "\\frac{\\text{odds}(y=1 \\mid \\text{job = blue collar})}{\\text{odds}(\\mid \\text{job = admin})} = \\exp(-0.75) = 0.47\n",
    "$$ \n",
    "\n",
    "This means that the odds of subscribing to a term deposit for a blue-collar worker is $0.47$ times the odds times the odds of subscribing to a term deposit for an admin worker, holding all other variables constant."
   ]
  },
  {
   "cell_type": "markdown",
   "id": "d51e6f68",
   "metadata": {},
   "source": [
    "<br><br><br><br>\n",
    "<br><br><br><br>"
   ]
  },
  {
   "cell_type": "markdown",
   "id": "0479efd8",
   "metadata": {},
   "source": [
    "Your turn: \n",
    "\n",
    "* Interpret the coefficient $\\beta_{\\text{duration}}$."
   ]
  },
  {
   "cell_type": "markdown",
   "id": "655952c8",
   "metadata": {},
   "source": [
    "<br><br><br><br>\n",
    "<br><br><br><br>"
   ]
  },
  {
   "cell_type": "markdown",
   "id": "4af0ae8b",
   "metadata": {},
   "source": [
    "## §2 Under the hood and model diagnostics\n",
    "\n",
    "\n",
    "In order to \"diagnose\" the model, we need to know what the assumptions are and how to check them. \n",
    "\n",
    "\n",
    "#### Logistic regression assumptions\n",
    "\n",
    "Given data $(x_1, y_1), (x_2, y_2), \\dots, (x_n, y_n)$, the logistic regression model assumes that: \n",
    "\n",
    "* the response variable $y_i$ is a Bernoulli random variable with parameter $p(x_i)$, i.e.,\n",
    "$$y | x_1, x_2, \\dots, x_p \\sim \\Ber(p(x_i))$$\n",
    "* the function $p^{-1}(x)$ is a linear function of the predictor variables, i.e., $\\sigma^{-1}(p(x)) = \\beta_0 + \\beta_1 x_1 + \\beta_2 x_2 + \\dots + \\beta_p x_p$"
   ]
  },
  {
   "cell_type": "code",
   "execution_count": 44,
   "id": "42308beb",
   "metadata": {},
   "outputs": [
    {
     "data": {
      "text/html": [
       "<div>\n",
       "<style scoped>\n",
       "    .dataframe tbody tr th:only-of-type {\n",
       "        vertical-align: middle;\n",
       "    }\n",
       "\n",
       "    .dataframe tbody tr th {\n",
       "        vertical-align: top;\n",
       "    }\n",
       "\n",
       "    .dataframe thead th {\n",
       "        text-align: right;\n",
       "    }\n",
       "</style>\n",
       "<table border=\"1\" class=\"dataframe\">\n",
       "  <thead>\n",
       "    <tr style=\"text-align: right;\">\n",
       "      <th></th>\n",
       "      <th>x1</th>\n",
       "      <th>x2</th>\n",
       "      <th>y</th>\n",
       "    </tr>\n",
       "  </thead>\n",
       "  <tbody>\n",
       "    <tr>\n",
       "      <th>0</th>\n",
       "      <td>0.085897</td>\n",
       "      <td>-1.390303</td>\n",
       "      <td>1</td>\n",
       "    </tr>\n",
       "    <tr>\n",
       "      <th>1</th>\n",
       "      <td>-0.786841</td>\n",
       "      <td>-1.751849</td>\n",
       "      <td>1</td>\n",
       "    </tr>\n",
       "    <tr>\n",
       "      <th>2</th>\n",
       "      <td>-0.559569</td>\n",
       "      <td>-0.280338</td>\n",
       "      <td>1</td>\n",
       "    </tr>\n",
       "    <tr>\n",
       "      <th>3</th>\n",
       "      <td>-0.505366</td>\n",
       "      <td>-0.271588</td>\n",
       "      <td>1</td>\n",
       "    </tr>\n",
       "    <tr>\n",
       "      <th>4</th>\n",
       "      <td>1.216608</td>\n",
       "      <td>1.490209</td>\n",
       "      <td>1</td>\n",
       "    </tr>\n",
       "    <tr>\n",
       "      <th>5</th>\n",
       "      <td>-1.173756</td>\n",
       "      <td>1.500031</td>\n",
       "      <td>0</td>\n",
       "    </tr>\n",
       "    <tr>\n",
       "      <th>6</th>\n",
       "      <td>1.068995</td>\n",
       "      <td>0.125490</td>\n",
       "      <td>1</td>\n",
       "    </tr>\n",
       "    <tr>\n",
       "      <th>7</th>\n",
       "      <td>-0.938223</td>\n",
       "      <td>0.318254</td>\n",
       "      <td>0</td>\n",
       "    </tr>\n",
       "    <tr>\n",
       "      <th>8</th>\n",
       "      <td>2.156730</td>\n",
       "      <td>1.033522</td>\n",
       "      <td>1</td>\n",
       "    </tr>\n",
       "    <tr>\n",
       "      <th>9</th>\n",
       "      <td>-0.215486</td>\n",
       "      <td>0.026805</td>\n",
       "      <td>1</td>\n",
       "    </tr>\n",
       "  </tbody>\n",
       "</table>\n",
       "</div>"
      ],
      "text/plain": [
       "         x1        x2  y\n",
       "0  0.085897 -1.390303  1\n",
       "1 -0.786841 -1.751849  1\n",
       "2 -0.559569 -0.280338  1\n",
       "3 -0.505366 -0.271588  1\n",
       "4  1.216608  1.490209  1\n",
       "5 -1.173756  1.500031  0\n",
       "6  1.068995  0.125490  1\n",
       "7 -0.938223  0.318254  0\n",
       "8  2.156730  1.033522  1\n",
       "9 -0.215486  0.026805  1"
      ]
     },
     "execution_count": 44,
     "metadata": {},
     "output_type": "execute_result"
    }
   ],
   "source": [
    "# generate y | x from bernoulli\n",
    "\n",
    "sigma = lambda x: np.exp(x) / (1 + np.exp(x))\n",
    "p_inv = lambda x1, x2: 3 + 4 * x1 - 2 * x2\n",
    "\n",
    "x1 = np.random.normal(0, 1, 1000)\n",
    "x2 = np.random.normal(0, 1, 1000)\n",
    "\n",
    "p = sigma(p_inv(x1, x2))\n",
    "y = stats.bernoulli(p).rvs(1000)\n",
    "df = pd.DataFrame({'x1': x1, 'x2': x2, 'y': y})\n",
    "df.head(10)"
   ]
  },
  {
   "cell_type": "markdown",
   "id": "568e992c",
   "metadata": {},
   "source": [
    "<br><br><br><br>\n",
    "<br><br><br><br>"
   ]
  },
  {
   "cell_type": "markdown",
   "id": "ac972291",
   "metadata": {},
   "source": [
    "#### The likelihood function\n",
    "\n",
    "Given the data $(x_1, y_1), (x_2, y_2), \\dots, (x_n, y_n)$, the likelihood function is:\n",
    "\n",
    "$$\n",
    "L(\\betav) = \\prod_{i=1}^n p(x_i)^{y_i}(1 - p(x_i))^{1 - y_i}\n",
    "$$\n",
    "\n",
    "The log-likelihood function is:\n",
    "\n",
    "$$\n",
    "\\begin{aligned}\n",
    "\\ell(\\betav) &= \\sum_{i=1}^n y_i \\log(p(x_i)) + (1 - y_i) \\log(1 - p(x_i))\\\\ \\\\\n",
    "&= \\sum_{i=1}^n y_i \\log\\Big(\\frac{p(x_i)}{1 - p(x_i)}\\Big) + \\log(1 - p(x_i))\n",
    "\\end{aligned}\n",
    "$$\n",
    "\n",
    "---\n",
    "\n",
    "Here\n",
    "$$\n",
    "\\begin{aligned}\n",
    "p(x_i) &= \\pr(y_i = 1 | x_i) = \\sigma(\\beta_0 + \\beta_1 x_{i1} + \\beta_2 x_{i2})\\\\ \\\\\n",
    "\\frac{p(x_i)}{1 - p(x_i)} &= \\text{odds}(y_i=1 | x_i) = \\exp(\\beta_0 + \\beta_1 x_{i1} + \\beta_2 x_{i2})\\\\ \\\\\n",
    "\\implies \\log\\Big(\\frac{p(x_i)}{1 - p(x_i)}\\Big) &= \\beta_0 + \\beta_1 x_{i1} + \\beta_2 x_{i2}\n",
    "\\end{aligned}\n",
    "$$\n",
    "\n",
    "---\n",
    "\n",
    "So\n",
    "$$\n",
    "\\ell(\\beta_0, \\beta_1, \\beta_2) = \\sum_{i=1}^n y_i \\Big(\\beta_0 + \\beta_1 x_{i1} + \\beta_2 x_{i2}\\Big) + \\log(1 - \\sigma(\\beta_0 + \\beta_1 x_{1,i} + \\beta_2 x_{2,i}))\n",
    "$$"
   ]
  },
  {
   "cell_type": "code",
   "execution_count": 45,
   "id": "7a8b2297",
   "metadata": {},
   "outputs": [],
   "source": [
    "def log_lik(b, df):\n",
    "    Bx = [b[0] + b[1] * x1 + b[2] * x2 for x1, x2 in zip(df.x1, df.x2)]\n",
    "    p = sigma(Bx)\n",
    "    ll = np.sum((Bx * y) + np.log(1 - sigma(Bx)))\n",
    "    return ll"
   ]
  },
  {
   "cell_type": "code",
   "execution_count": 46,
   "id": "c1232d79",
   "metadata": {},
   "outputs": [
    {
     "data": {
      "application/vnd.jupyter.widget-view+json": {
       "model_id": "a9d81a45b87142c3a7fd5c18df1f40ff",
       "version_major": 2,
       "version_minor": 0
      },
      "text/plain": [
       "interactive(children=(FloatSlider(value=0.0, description='b0', max=4.0, min=-4.0, step=0.5), FloatSlider(value…"
      ]
     },
     "metadata": {},
     "output_type": "display_data"
    }
   ],
   "source": [
    "@interact(b0 = (-4, 4, 0.5), b1=(-4, 4, 0.5), b2=(-4, 4, 0.5))\n",
    "def ll(b0, b1, b2):\n",
    "    return log_lik([b0, b1, b2], df)"
   ]
  },
  {
   "cell_type": "code",
   "execution_count": 47,
   "id": "d5340b84",
   "metadata": {},
   "outputs": [
    {
     "name": "stdout",
     "output_type": "stream",
     "text": [
      " b0: 3.2898144008250414\n",
      " b1: 4.236369116618963\n",
      " b2: -2.1217106944353303\n"
     ]
    }
   ],
   "source": [
    "from scipy.optimize import minimize\n",
    "\n",
    "b0, b1, b2 = minimize(lambda b: -log_lik(b, df), [0, 0, 0]).x\n",
    "print(f' b0: {b0}\\n b1: {b1}\\n b2: {b2}')"
   ]
  },
  {
   "cell_type": "code",
   "execution_count": 48,
   "id": "5e0081ef",
   "metadata": {},
   "outputs": [
    {
     "name": "stdout",
     "output_type": "stream",
     "text": [
      "Optimization terminated successfully.\n",
      "         Current function value: 0.213733\n",
      "         Iterations 9\n"
     ]
    },
    {
     "data": {
      "text/plain": [
       "Intercept    3.288203\n",
       "x1           4.234527\n",
       "x2          -2.120734\n",
       "dtype: float64"
      ]
     },
     "execution_count": 48,
     "metadata": {},
     "output_type": "execute_result"
    }
   ],
   "source": [
    "model = smf.logit('y ~ x1 + x2', data=df).fit()\n",
    "model.params"
   ]
  },
  {
   "cell_type": "markdown",
   "id": "8faf922f",
   "metadata": {},
   "source": [
    "---"
   ]
  },
  {
   "cell_type": "markdown",
   "id": "ab93edc4",
   "metadata": {},
   "source": [
    "<br><br><br><br>\n",
    "<br><br><br><br>"
   ]
  },
  {
   "cell_type": "markdown",
   "id": "ae0b64bf",
   "metadata": {},
   "source": [
    "#### Model diagnostics\n",
    "\n",
    "\n",
    "> ##### Fitted values and residuals\n",
    "\n",
    "The logistic regression model assumes that:\n",
    "\n",
    "$$\n",
    "y \\mid x \\sim Ber(p(x))\n",
    "$$\n",
    "\n",
    "therefore,\n",
    "\n",
    "\n",
    "In `statsmodels` the fitted values are given by:\n",
    "\n",
    "$$\n",
    "\\hat\\beta(x) = \\hat\\beta_0 + \\hat\\beta_1 x_1 + \\hat\\beta_2 x_2 + \\dots + \\hat\\beta_p x_p\n",
    "$$\n",
    "\n",
    "and the **predicted probabilities** are:\n",
    "\n",
    "$$\n",
    "\\hat y = \\hat p(x) = \\sigma(\\hat\\beta(x)) \\quad\\quad \n",
    "$$"
   ]
  },
  {
   "cell_type": "code",
   "execution_count": 49,
   "id": "a8792e85",
   "metadata": {},
   "outputs": [],
   "source": [
    "fitted = model.fittedvalues\n",
    "\n",
    "b = model.params\n",
    "Bx = b['Intercept'] + b['x1'] * df.x1 + b['x2'] * df.x2\n",
    "\n",
    "np.testing.assert_allclose(fitted, Bx)"
   ]
  },
  {
   "cell_type": "code",
   "execution_count": 50,
   "id": "b723704a-0ef3-4531-aa38-359fd65b0883",
   "metadata": {},
   "outputs": [
    {
     "data": {
      "text/plain": [
       "(0      0.998642\n",
       " 1      0.975193\n",
       " 2      0.819537\n",
       " 3      0.848667\n",
       " 4      0.994931\n",
       "          ...   \n",
       " 995    0.645499\n",
       " 996    0.019263\n",
       " 997    0.844559\n",
       " 998    0.999560\n",
       " 999    0.399847\n",
       " Length: 1000, dtype: float64,\n",
       " 0      0.998642\n",
       " 1      0.975193\n",
       " 2      0.819537\n",
       " 3      0.848667\n",
       " 4      0.994931\n",
       "          ...   \n",
       " 995    0.645499\n",
       " 996    0.019263\n",
       " 997    0.844559\n",
       " 998    0.999560\n",
       " 999    0.399847\n",
       " Length: 1000, dtype: float64)"
      ]
     },
     "execution_count": 50,
     "metadata": {},
     "output_type": "execute_result"
    }
   ],
   "source": [
    "sigma(model.fittedvalues), model.predict(df)"
   ]
  },
  {
   "cell_type": "code",
   "execution_count": 51,
   "id": "8a2873e8",
   "metadata": {},
   "outputs": [],
   "source": [
    "px = model.predict(df)\n",
    "\n",
    "np.testing.assert_allclose(sigma(Bx), px)"
   ]
  },
  {
   "cell_type": "markdown",
   "id": "5010e654",
   "metadata": {},
   "source": [
    "\n",
    "$$\n",
    "E(y|x) = p(x) \\quad\\quad \\text{and}\\quad\\quad Var(y|x) = p(x)(1 - p(x))\n",
    "$$\n",
    "\n",
    "and, the **standardized pearson residuals** are defined as:\n",
    "\n",
    "$$\n",
    "\\hat\\epsilon_i = \\frac{y_i - p(x_i)}{\\sqrt{p(x_i) \\times (1-p(x_i))}}\n",
    "$$"
   ]
  },
  {
   "cell_type": "code",
   "execution_count": 52,
   "id": "198696c7",
   "metadata": {},
   "outputs": [
    {
     "data": {
      "text/plain": [
       "0      0.036876\n",
       "1      0.159493\n",
       "2      0.469256\n",
       "3      0.422278\n",
       "4      0.071375\n",
       "         ...   \n",
       "995    0.741073\n",
       "996   -0.140148\n",
       "997    0.429011\n",
       "998    0.020986\n",
       "999   -0.816236\n",
       "Length: 1000, dtype: float64"
      ]
     },
     "execution_count": 52,
     "metadata": {},
     "output_type": "execute_result"
    }
   ],
   "source": [
    "residuals = model.resid_pearson\n",
    "residuals"
   ]
  },
  {
   "cell_type": "code",
   "execution_count": 53,
   "id": "6a0d5685",
   "metadata": {},
   "outputs": [
    {
     "data": {
      "text/plain": [
       "<matplotlib.collections.PathCollection at 0x16a58fb60>"
      ]
     },
     "execution_count": 53,
     "metadata": {},
     "output_type": "execute_result"
    },
    {
     "data": {
      "image/png": "[encoded data removed]",
      "text/plain": [
       "<Figure size 640x480 with 1 Axes>"
      ]
     },
     "metadata": {},
     "output_type": "display_data"
    }
   ],
   "source": [
    "plt.scatter(range(len(residuals)), residuals)"
   ]
  },
  {
   "cell_type": "code",
   "execution_count": 54,
   "id": "33c4f021",
   "metadata": {},
   "outputs": [
    {
     "data": {
      "text/plain": [
       "<matplotlib.collections.PathCollection at 0x16b586a20>"
      ]
     },
     "execution_count": 54,
     "metadata": {},
     "output_type": "execute_result"
    },
    {
     "data": {
      "image/png": "[encoded data removed]",
      "text/plain": [
       "<Figure size 640x480 with 1 Axes>"
      ]
     },
     "metadata": {},
     "output_type": "display_data"
    }
   ],
   "source": [
    "# plt.scatter(df.x1, residuals)\n",
    "plt.scatter(fitted, residuals)"
   ]
  },
  {
   "cell_type": "markdown",
   "id": "69a9e084",
   "metadata": {},
   "source": [
    "<br><br><br><br>\n",
    "<br><br><br><br>"
   ]
  },
  {
   "cell_type": "markdown",
   "id": "2fe30f76",
   "metadata": {},
   "source": [
    "> ##### Visualizing model fit"
   ]
  },
  {
   "cell_type": "code",
   "execution_count": 55,
   "id": "57816f97",
   "metadata": {},
   "outputs": [
    {
     "data": {
      "text/plain": [
       "<matplotlib.colorbar.Colorbar at 0x16b5bd700>"
      ]
     },
     "execution_count": 55,
     "metadata": {},
     "output_type": "execute_result"
    },
    {
     "data": {
      "image/png": "[encoded data removed]",
      "text/plain": [
       "<Figure size 640x480 with 2 Axes>"
      ]
     },
     "metadata": {},
     "output_type": "display_data"
    }
   ],
   "source": [
    "# df contains x1, x2, and y\n",
    "# make a filled contour plot of x1, x2 with colors for the predicted probabilities\n",
    "x1_grid = np.linspace(-3, 3, 100)\n",
    "x2_grid = np.linspace(-3, 3, 100)\n",
    "\n",
    "X1, X2 = np.meshgrid(x1_grid, x2_grid)\n",
    "\n",
    "probs = model.predict(pd.DataFrame({'x1': X1.ravel(), 'x2': X2.ravel()}))\n",
    "P = probs.values.reshape(X1.shape)\n",
    "\n",
    "# plot using matplotlib with colorbar\n",
    "plt.contourf(X1, X2, P, cmap='viridis', levels=np.linspace(0, 1, 5), alpha=0.9)\n",
    "plt.colorbar()"
   ]
  },
  {
   "cell_type": "markdown",
   "id": "665f95a8",
   "metadata": {},
   "source": [
    "<br><br><br><br>\n"
   ]
  },
  {
   "cell_type": "markdown",
   "id": "1daf9608",
   "metadata": {},
   "source": [
    "> ##### Confusion matrix\n",
    "\n",
    "The confusion matrix is a table which shows the number of true positives, true negatives, false positives and false negatives.\n",
    "\n",
    "| $\\phantom{1}$ | Predicted 0 | Predicted 1 |\n",
    "|---|---|---|\n",
    "| Actual 0 | True Negative | False Positive |\n",
    "| Actual 1 | False Negative | True Positive |\n"
   ]
  },
  {
   "cell_type": "code",
   "execution_count": 56,
   "id": "eb102d35",
   "metadata": {},
   "outputs": [
    {
     "data": {
      "text/plain": [
       "array([[213.,  55.],\n",
       "       [ 42., 690.]])"
      ]
     },
     "execution_count": 56,
     "metadata": {},
     "output_type": "execute_result"
    }
   ],
   "source": [
    "c_matrix = model.pred_table(threshold=0.5)\n",
    "c_matrix"
   ]
  },
  {
   "cell_type": "code",
   "execution_count": 57,
   "id": "88824323",
   "metadata": {},
   "outputs": [
    {
     "name": "stdout",
     "output_type": "stream",
     "text": [
      " True Positive:  0.943\n",
      " True Negative:  0.795\n",
      " False Positive:  0.205\n",
      " False Negative:  0.057\n"
     ]
    }
   ],
   "source": [
    "true_pos = c_matrix[1, 1] / c_matrix[1].sum()\n",
    "true_neg = c_matrix[0, 0] / c_matrix[0].sum()\n",
    "false_pos = c_matrix[0, 1] / c_matrix[0].sum()\n",
    "false_neg = c_matrix[1, 0] / c_matrix[1].sum()\n",
    "print(f' True Positive: {true_pos: .3f}\\n True Negative: {true_neg: .3f}\\n False Positive: {false_pos: .3f}\\n False Negative: {false_neg: .3f}')"
   ]
  },
  {
   "cell_type": "markdown",
   "id": "250214a2",
   "metadata": {},
   "source": [
    "<br><br><br><br>\n"
   ]
  },
  {
   "cell_type": "markdown",
   "id": "72ce88ea",
   "metadata": {},
   "source": [
    "> #### ROC"
   ]
  },
  {
   "cell_type": "code",
   "execution_count": 58,
   "id": "1be1e8a3",
   "metadata": {},
   "outputs": [],
   "source": [
    "# !pip install scikit-learn\n",
    "import sklearn.metrics as metrics"
   ]
  },
  {
   "cell_type": "markdown",
   "id": "ae5075ff",
   "metadata": {},
   "source": [
    "The Receiver Operating Characteristic (ROC) curve is a graphical representation of the trade-off between the true positive rate and the false positive rate for every possible cut-off value.\n",
    "\n",
    "The Area Under the Curve (AUC) is a single scalar value that summarizes the performance of the model."
   ]
  },
  {
   "cell_type": "code",
   "execution_count": 59,
   "id": "be4d17f3",
   "metadata": {},
   "outputs": [],
   "source": [
    "# roc curve\n",
    "fpr, tpr, thresholds = metrics.roc_curve(df.y, model.predict(df))"
   ]
  },
  {
   "cell_type": "code",
   "execution_count": 60,
   "id": "53e8356d",
   "metadata": {},
   "outputs": [
    {
     "data": {
      "text/plain": [
       "(array([], dtype=float64), array([], dtype=float64), array([], dtype=float64))"
      ]
     },
     "execution_count": 60,
     "metadata": {},
     "output_type": "execute_result"
    }
   ],
   "source": [
    "indx = (0.1 - 5e-3 <= thresholds) * (thresholds <= 0.1 + 5e-3)\n",
    "tpr[indx], fpr[indx],  thresholds[indx]"
   ]
  },
  {
   "cell_type": "code",
   "execution_count": 61,
   "id": "8e85111f",
   "metadata": {},
   "outputs": [
    {
     "name": "stderr",
     "output_type": "stream",
     "text": [
      "No artists with labels found to put in legend.  Note that artists whose label start with an underscore are ignored when legend() is called with no argument.\n"
     ]
    },
    {
     "data": {
      "text/plain": [
       "<sklearn.metrics._plot.roc_curve.RocCurveDisplay at 0x16b81df10>"
      ]
     },
     "execution_count": 61,
     "metadata": {},
     "output_type": "execute_result"
    },
    {
     "data": {
      "image/png": "[encoded data removed]",
      "text/plain": [
       "<Figure size 640x480 with 1 Axes>"
      ]
     },
     "metadata": {},
     "output_type": "display_data"
    }
   ],
   "source": [
    "metrics.RocCurveDisplay(fpr=fpr, tpr=tpr).plot()"
   ]
  },
  {
   "cell_type": "code",
   "execution_count": 62,
   "id": "a14abee6",
   "metadata": {},
   "outputs": [
    {
     "data": {
      "text/plain": [
       "0.9632829703939321"
      ]
     },
     "execution_count": 62,
     "metadata": {},
     "output_type": "execute_result"
    }
   ],
   "source": [
    "metrics.roc_auc_score(df.y, model.predict(df))"
   ]
  },
  {
   "cell_type": "markdown",
   "id": "692501cc",
   "metadata": {},
   "source": [
    "---\n",
    "\n",
    "\n",
    "<br><br><br><br>\n",
    "<br><br><br><br>\n",
    "<br><br><br><br>\n",
    "<br><br><br><br>"
   ]
  },
  {
   "cell_type": "markdown",
   "id": "ffbd904f",
   "metadata": {},
   "source": [
    "## §3. Multinomial Logistic Regression\n",
    "\n",
    "Suppose, instead of a binary response variable $y \\in \\{0, 1\\}$ we have a response variable $y \\in \\{1, 2, \\dots, k\\}$ which can take values in $k$ different categories.\n"
   ]
  },
  {
   "cell_type": "code",
   "execution_count": 77,
   "id": "36f21474",
   "metadata": {},
   "outputs": [
    {
     "data": {
      "text/html": [
       "<div>\n",
       "<style scoped>\n",
       "    .dataframe tbody tr th:only-of-type {\n",
       "        vertical-align: middle;\n",
       "    }\n",
       "\n",
       "    .dataframe tbody tr th {\n",
       "        vertical-align: top;\n",
       "    }\n",
       "\n",
       "    .dataframe thead th {\n",
       "        text-align: right;\n",
       "    }\n",
       "</style>\n",
       "<table border=\"1\" class=\"dataframe\">\n",
       "  <thead>\n",
       "    <tr style=\"text-align: right;\">\n",
       "      <th></th>\n",
       "      <th>sepal length</th>\n",
       "      <th>sepal width</th>\n",
       "      <th>petal length</th>\n",
       "      <th>petal width</th>\n",
       "      <th>y</th>\n",
       "    </tr>\n",
       "  </thead>\n",
       "  <tbody>\n",
       "    <tr>\n",
       "      <th>0</th>\n",
       "      <td>5.1</td>\n",
       "      <td>3.5</td>\n",
       "      <td>1.4</td>\n",
       "      <td>0.2</td>\n",
       "      <td>Iris-setosa</td>\n",
       "    </tr>\n",
       "    <tr>\n",
       "      <th>1</th>\n",
       "      <td>4.9</td>\n",
       "      <td>3.0</td>\n",
       "      <td>1.4</td>\n",
       "      <td>0.2</td>\n",
       "      <td>Iris-setosa</td>\n",
       "    </tr>\n",
       "    <tr>\n",
       "      <th>2</th>\n",
       "      <td>4.7</td>\n",
       "      <td>3.2</td>\n",
       "      <td>1.3</td>\n",
       "      <td>0.2</td>\n",
       "      <td>Iris-setosa</td>\n",
       "    </tr>\n",
       "    <tr>\n",
       "      <th>3</th>\n",
       "      <td>4.6</td>\n",
       "      <td>3.1</td>\n",
       "      <td>1.5</td>\n",
       "      <td>0.2</td>\n",
       "      <td>Iris-setosa</td>\n",
       "    </tr>\n",
       "    <tr>\n",
       "      <th>4</th>\n",
       "      <td>5.0</td>\n",
       "      <td>3.6</td>\n",
       "      <td>1.4</td>\n",
       "      <td>0.2</td>\n",
       "      <td>Iris-setosa</td>\n",
       "    </tr>\n",
       "    <tr>\n",
       "      <th>5</th>\n",
       "      <td>5.4</td>\n",
       "      <td>3.9</td>\n",
       "      <td>1.7</td>\n",
       "      <td>0.4</td>\n",
       "      <td>Iris-setosa</td>\n",
       "    </tr>\n",
       "    <tr>\n",
       "      <th>6</th>\n",
       "      <td>4.6</td>\n",
       "      <td>3.4</td>\n",
       "      <td>1.4</td>\n",
       "      <td>0.3</td>\n",
       "      <td>Iris-setosa</td>\n",
       "    </tr>\n",
       "    <tr>\n",
       "      <th>7</th>\n",
       "      <td>5.0</td>\n",
       "      <td>3.4</td>\n",
       "      <td>1.5</td>\n",
       "      <td>0.2</td>\n",
       "      <td>Iris-setosa</td>\n",
       "    </tr>\n",
       "    <tr>\n",
       "      <th>8</th>\n",
       "      <td>4.4</td>\n",
       "      <td>2.9</td>\n",
       "      <td>1.4</td>\n",
       "      <td>0.2</td>\n",
       "      <td>Iris-setosa</td>\n",
       "    </tr>\n",
       "    <tr>\n",
       "      <th>9</th>\n",
       "      <td>4.9</td>\n",
       "      <td>3.1</td>\n",
       "      <td>1.5</td>\n",
       "      <td>0.1</td>\n",
       "      <td>Iris-setosa</td>\n",
       "    </tr>\n",
       "  </tbody>\n",
       "</table>\n",
       "</div>"
      ],
      "text/plain": [
       "   sepal length  sepal width  petal length  petal width            y\n",
       "0           5.1          3.5           1.4          0.2  Iris-setosa\n",
       "1           4.9          3.0           1.4          0.2  Iris-setosa\n",
       "2           4.7          3.2           1.3          0.2  Iris-setosa\n",
       "3           4.6          3.1           1.5          0.2  Iris-setosa\n",
       "4           5.0          3.6           1.4          0.2  Iris-setosa\n",
       "5           5.4          3.9           1.7          0.4  Iris-setosa\n",
       "6           4.6          3.4           1.4          0.3  Iris-setosa\n",
       "7           5.0          3.4           1.5          0.2  Iris-setosa\n",
       "8           4.4          2.9           1.4          0.2  Iris-setosa\n",
       "9           4.9          3.1           1.5          0.1  Iris-setosa"
      ]
     },
     "execution_count": 77,
     "metadata": {},
     "output_type": "execute_result"
    }
   ],
   "source": [
    "from ucimlrepo import fetch_ucirepo \n",
    "\n",
    "iris = fetch_ucirepo(id=53) \n",
    "df = iris.data.features\n",
    "df['y'] = iris.data.targets.astype('category')\n",
    "df.head(10)"
   ]
  },
  {
   "cell_type": "code",
   "execution_count": 78,
   "id": "7c9ba61e",
   "metadata": {},
   "outputs": [],
   "source": [
    "df.columns = [col.replace(' ', '_') for col in df.columns]"
   ]
  },
  {
   "cell_type": "code",
   "execution_count": 80,
   "id": "726777c8",
   "metadata": {},
   "outputs": [
    {
     "data": {
      "text/plain": [
       "CategoricalDtype(categories=['Iris-setosa', 'Iris-versicolor', 'Iris-virginica'], ordered=False, categories_dtype=object)"
      ]
     },
     "execution_count": 80,
     "metadata": {},
     "output_type": "execute_result"
    }
   ],
   "source": [
    "df.y.dtypes"
   ]
  },
  {
   "cell_type": "code",
   "execution_count": 81,
   "id": "d9723e87",
   "metadata": {},
   "outputs": [
    {
     "ename": "ValueError",
     "evalue": "endog has evaluated to an array with multiple columns that has shape (150, 3). This occurs when the variable converted to endog is non-numeric (e.g., bool or str).",
     "output_type": "error",
     "traceback": [
      "\u001b[0;31m---------------------------------------------------------------------------\u001b[0m",
      "\u001b[0;31mValueError\u001b[0m                                Traceback (most recent call last)",
      "Cell \u001b[0;32mIn[81], line 1\u001b[0m\n\u001b[0;32m----> 1\u001b[0m \u001b[43msmf\u001b[49m\u001b[38;5;241;43m.\u001b[39;49m\u001b[43mols\u001b[49m\u001b[43m(\u001b[49m\u001b[38;5;124;43m'\u001b[39;49m\u001b[38;5;124;43my ~ sepal_length + sepal_width + petal_length + petal_width\u001b[39;49m\u001b[38;5;124;43m'\u001b[39;49m\u001b[43m,\u001b[49m\u001b[43m \u001b[49m\u001b[43mdata\u001b[49m\u001b[38;5;241;43m=\u001b[39;49m\u001b[43mdf\u001b[49m\u001b[43m)\u001b[49m\u001b[38;5;241m.\u001b[39mfit()\u001b[38;5;241m.\u001b[39msummary()\n",
      "File \u001b[0;32m~/mambaforge/lib/python3.11/site-packages/statsmodels/base/model.py:209\u001b[0m, in \u001b[0;36mModel.from_formula\u001b[0;34m(cls, formula, data, subset, drop_cols, *args, **kwargs)\u001b[0m\n\u001b[1;32m    206\u001b[0m max_endog \u001b[38;5;241m=\u001b[39m \u001b[38;5;28mcls\u001b[39m\u001b[38;5;241m.\u001b[39m_formula_max_endog\n\u001b[1;32m    207\u001b[0m \u001b[38;5;28;01mif\u001b[39;00m (max_endog \u001b[38;5;129;01mis\u001b[39;00m \u001b[38;5;129;01mnot\u001b[39;00m \u001b[38;5;28;01mNone\u001b[39;00m \u001b[38;5;129;01mand\u001b[39;00m\n\u001b[1;32m    208\u001b[0m         endog\u001b[38;5;241m.\u001b[39mndim \u001b[38;5;241m>\u001b[39m \u001b[38;5;241m1\u001b[39m \u001b[38;5;129;01mand\u001b[39;00m endog\u001b[38;5;241m.\u001b[39mshape[\u001b[38;5;241m1\u001b[39m] \u001b[38;5;241m>\u001b[39m max_endog):\n\u001b[0;32m--> 209\u001b[0m     \u001b[38;5;28;01mraise\u001b[39;00m \u001b[38;5;167;01mValueError\u001b[39;00m(\u001b[38;5;124m'\u001b[39m\u001b[38;5;124mendog has evaluated to an array with multiple \u001b[39m\u001b[38;5;124m'\u001b[39m\n\u001b[1;32m    210\u001b[0m                      \u001b[38;5;124m'\u001b[39m\u001b[38;5;124mcolumns that has shape \u001b[39m\u001b[38;5;132;01m{0}\u001b[39;00m\u001b[38;5;124m. This occurs when \u001b[39m\u001b[38;5;124m'\u001b[39m\n\u001b[1;32m    211\u001b[0m                      \u001b[38;5;124m'\u001b[39m\u001b[38;5;124mthe variable converted to endog is non-numeric\u001b[39m\u001b[38;5;124m'\u001b[39m\n\u001b[1;32m    212\u001b[0m                      \u001b[38;5;124m'\u001b[39m\u001b[38;5;124m (e.g., bool or str).\u001b[39m\u001b[38;5;124m'\u001b[39m\u001b[38;5;241m.\u001b[39mformat(endog\u001b[38;5;241m.\u001b[39mshape))\n\u001b[1;32m    213\u001b[0m \u001b[38;5;28;01mif\u001b[39;00m drop_cols \u001b[38;5;129;01mis\u001b[39;00m \u001b[38;5;129;01mnot\u001b[39;00m \u001b[38;5;28;01mNone\u001b[39;00m \u001b[38;5;129;01mand\u001b[39;00m \u001b[38;5;28mlen\u001b[39m(drop_cols) \u001b[38;5;241m>\u001b[39m \u001b[38;5;241m0\u001b[39m:\n\u001b[1;32m    214\u001b[0m     cols \u001b[38;5;241m=\u001b[39m [x \u001b[38;5;28;01mfor\u001b[39;00m x \u001b[38;5;129;01min\u001b[39;00m exog\u001b[38;5;241m.\u001b[39mcolumns \u001b[38;5;28;01mif\u001b[39;00m x \u001b[38;5;129;01mnot\u001b[39;00m \u001b[38;5;129;01min\u001b[39;00m drop_cols]\n",
      "\u001b[0;31mValueError\u001b[0m: endog has evaluated to an array with multiple columns that has shape (150, 3). This occurs when the variable converted to endog is non-numeric (e.g., bool or str)."
     ]
    }
   ],
   "source": [
    "smf.ols('y ~ sepal_length + sepal_width + petal_length + petal_width', data=df).fit().summary()"
   ]
  },
  {
   "cell_type": "code",
   "execution_count": 90,
   "id": "5c5d48c5",
   "metadata": {},
   "outputs": [
    {
     "data": {
      "text/html": [
       "<div>\n",
       "<style scoped>\n",
       "    .dataframe tbody tr th:only-of-type {\n",
       "        vertical-align: middle;\n",
       "    }\n",
       "\n",
       "    .dataframe tbody tr th {\n",
       "        vertical-align: top;\n",
       "    }\n",
       "\n",
       "    .dataframe thead th {\n",
       "        text-align: right;\n",
       "    }\n",
       "</style>\n",
       "<table border=\"1\" class=\"dataframe\">\n",
       "  <thead>\n",
       "    <tr style=\"text-align: right;\">\n",
       "      <th></th>\n",
       "      <th>sepal_length</th>\n",
       "      <th>sepal_width</th>\n",
       "      <th>petal_length</th>\n",
       "      <th>petal_width</th>\n",
       "      <th>y</th>\n",
       "      <th>y_numeric</th>\n",
       "    </tr>\n",
       "  </thead>\n",
       "  <tbody>\n",
       "    <tr>\n",
       "      <th>140</th>\n",
       "      <td>6.7</td>\n",
       "      <td>3.1</td>\n",
       "      <td>5.6</td>\n",
       "      <td>2.4</td>\n",
       "      <td>Iris-virginica</td>\n",
       "      <td>2</td>\n",
       "    </tr>\n",
       "    <tr>\n",
       "      <th>141</th>\n",
       "      <td>6.9</td>\n",
       "      <td>3.1</td>\n",
       "      <td>5.1</td>\n",
       "      <td>2.3</td>\n",
       "      <td>Iris-virginica</td>\n",
       "      <td>2</td>\n",
       "    </tr>\n",
       "    <tr>\n",
       "      <th>142</th>\n",
       "      <td>5.8</td>\n",
       "      <td>2.7</td>\n",
       "      <td>5.1</td>\n",
       "      <td>1.9</td>\n",
       "      <td>Iris-virginica</td>\n",
       "      <td>2</td>\n",
       "    </tr>\n",
       "    <tr>\n",
       "      <th>143</th>\n",
       "      <td>6.8</td>\n",
       "      <td>3.2</td>\n",
       "      <td>5.9</td>\n",
       "      <td>2.3</td>\n",
       "      <td>Iris-virginica</td>\n",
       "      <td>2</td>\n",
       "    </tr>\n",
       "    <tr>\n",
       "      <th>144</th>\n",
       "      <td>6.7</td>\n",
       "      <td>3.3</td>\n",
       "      <td>5.7</td>\n",
       "      <td>2.5</td>\n",
       "      <td>Iris-virginica</td>\n",
       "      <td>2</td>\n",
       "    </tr>\n",
       "    <tr>\n",
       "      <th>145</th>\n",
       "      <td>6.7</td>\n",
       "      <td>3.0</td>\n",
       "      <td>5.2</td>\n",
       "      <td>2.3</td>\n",
       "      <td>Iris-virginica</td>\n",
       "      <td>2</td>\n",
       "    </tr>\n",
       "    <tr>\n",
       "      <th>146</th>\n",
       "      <td>6.3</td>\n",
       "      <td>2.5</td>\n",
       "      <td>5.0</td>\n",
       "      <td>1.9</td>\n",
       "      <td>Iris-virginica</td>\n",
       "      <td>2</td>\n",
       "    </tr>\n",
       "    <tr>\n",
       "      <th>147</th>\n",
       "      <td>6.5</td>\n",
       "      <td>3.0</td>\n",
       "      <td>5.2</td>\n",
       "      <td>2.0</td>\n",
       "      <td>Iris-virginica</td>\n",
       "      <td>2</td>\n",
       "    </tr>\n",
       "    <tr>\n",
       "      <th>148</th>\n",
       "      <td>6.2</td>\n",
       "      <td>3.4</td>\n",
       "      <td>5.4</td>\n",
       "      <td>2.3</td>\n",
       "      <td>Iris-virginica</td>\n",
       "      <td>2</td>\n",
       "    </tr>\n",
       "    <tr>\n",
       "      <th>149</th>\n",
       "      <td>5.9</td>\n",
       "      <td>3.0</td>\n",
       "      <td>5.1</td>\n",
       "      <td>1.8</td>\n",
       "      <td>Iris-virginica</td>\n",
       "      <td>2</td>\n",
       "    </tr>\n",
       "  </tbody>\n",
       "</table>\n",
       "</div>"
      ],
      "text/plain": [
       "     sepal_length  sepal_width  petal_length  petal_width               y  \\\n",
       "140           6.7          3.1           5.6          2.4  Iris-virginica   \n",
       "141           6.9          3.1           5.1          2.3  Iris-virginica   \n",
       "142           5.8          2.7           5.1          1.9  Iris-virginica   \n",
       "143           6.8          3.2           5.9          2.3  Iris-virginica   \n",
       "144           6.7          3.3           5.7          2.5  Iris-virginica   \n",
       "145           6.7          3.0           5.2          2.3  Iris-virginica   \n",
       "146           6.3          2.5           5.0          1.9  Iris-virginica   \n",
       "147           6.5          3.0           5.2          2.0  Iris-virginica   \n",
       "148           6.2          3.4           5.4          2.3  Iris-virginica   \n",
       "149           5.9          3.0           5.1          1.8  Iris-virginica   \n",
       "\n",
       "     y_numeric  \n",
       "140          2  \n",
       "141          2  \n",
       "142          2  \n",
       "143          2  \n",
       "144          2  \n",
       "145          2  \n",
       "146          2  \n",
       "147          2  \n",
       "148          2  \n",
       "149          2  "
      ]
     },
     "execution_count": 90,
     "metadata": {},
     "output_type": "execute_result"
    }
   ],
   "source": [
    "# transform categorical to numeric\n",
    "df['y_numeric'] = df['y'].cat.codes\n",
    "df.tail(10)"
   ]
  },
  {
   "cell_type": "code",
   "execution_count": 84,
   "id": "8415baac",
   "metadata": {},
   "outputs": [
    {
     "data": {
      "text/html": [
       "<table class=\"simpletable\">\n",
       "<caption>OLS Regression Results</caption>\n",
       "<tr>\n",
       "  <th>Dep. Variable:</th>        <td>y_numeric</td>    <th>  R-squared:         </th> <td>   0.930</td>\n",
       "</tr>\n",
       "<tr>\n",
       "  <th>Model:</th>                   <td>OLS</td>       <th>  Adj. R-squared:    </th> <td>   0.929</td>\n",
       "</tr>\n",
       "<tr>\n",
       "  <th>Method:</th>             <td>Least Squares</td>  <th>  F-statistic:       </th> <td>   484.8</td>\n",
       "</tr>\n",
       "<tr>\n",
       "  <th>Date:</th>             <td>Fri, 01 Mar 2024</td> <th>  Prob (F-statistic):</th> <td>8.21e-83</td>\n",
       "</tr>\n",
       "<tr>\n",
       "  <th>Time:</th>                 <td>12:10:17</td>     <th>  Log-Likelihood:    </th> <td>  17.468</td>\n",
       "</tr>\n",
       "<tr>\n",
       "  <th>No. Observations:</th>      <td>   150</td>      <th>  AIC:               </th> <td>  -24.94</td>\n",
       "</tr>\n",
       "<tr>\n",
       "  <th>Df Residuals:</th>          <td>   145</td>      <th>  BIC:               </th> <td>  -9.882</td>\n",
       "</tr>\n",
       "<tr>\n",
       "  <th>Df Model:</th>              <td>     4</td>      <th>                     </th>     <td> </td>   \n",
       "</tr>\n",
       "<tr>\n",
       "  <th>Covariance Type:</th>      <td>nonrobust</td>    <th>                     </th>     <td> </td>   \n",
       "</tr>\n",
       "</table>\n",
       "<table class=\"simpletable\">\n",
       "<tr>\n",
       "        <td></td>          <th>coef</th>     <th>std err</th>      <th>t</th>      <th>P>|t|</th>  <th>[0.025</th>    <th>0.975]</th>  \n",
       "</tr>\n",
       "<tr>\n",
       "  <th>Intercept</th>    <td>    0.1921</td> <td>    0.205</td> <td>    0.938</td> <td> 0.350</td> <td>   -0.212</td> <td>    0.597</td>\n",
       "</tr>\n",
       "<tr>\n",
       "  <th>sepal_length</th> <td>   -0.1097</td> <td>    0.058</td> <td>   -1.900</td> <td> 0.059</td> <td>   -0.224</td> <td>    0.004</td>\n",
       "</tr>\n",
       "<tr>\n",
       "  <th>sepal_width</th>  <td>   -0.0442</td> <td>    0.060</td> <td>   -0.738</td> <td> 0.462</td> <td>   -0.163</td> <td>    0.074</td>\n",
       "</tr>\n",
       "<tr>\n",
       "  <th>petal_length</th> <td>    0.2270</td> <td>    0.057</td> <td>    3.983</td> <td> 0.000</td> <td>    0.114</td> <td>    0.340</td>\n",
       "</tr>\n",
       "<tr>\n",
       "  <th>petal_width</th>  <td>    0.6099</td> <td>    0.094</td> <td>    6.456</td> <td> 0.000</td> <td>    0.423</td> <td>    0.797</td>\n",
       "</tr>\n",
       "</table>\n",
       "<table class=\"simpletable\">\n",
       "<tr>\n",
       "  <th>Omnibus:</th>       <td> 0.366</td> <th>  Durbin-Watson:     </th> <td>   1.068</td>\n",
       "</tr>\n",
       "<tr>\n",
       "  <th>Prob(Omnibus):</th> <td> 0.833</td> <th>  Jarque-Bera (JB):  </th> <td>   0.138</td>\n",
       "</tr>\n",
       "<tr>\n",
       "  <th>Skew:</th>          <td>-0.052</td> <th>  Prob(JB):          </th> <td>   0.933</td>\n",
       "</tr>\n",
       "<tr>\n",
       "  <th>Kurtosis:</th>      <td> 3.106</td> <th>  Cond. No.          </th> <td>    91.8</td>\n",
       "</tr>\n",
       "</table><br/><br/>Notes:<br/>[1] Standard Errors assume that the covariance matrix of the errors is correctly specified."
      ],
      "text/latex": [
       "\\begin{center}\n",
       "\\begin{tabular}{lclc}\n",
       "\\toprule\n",
       "\\textbf{Dep. Variable:}    &    y\\_numeric    & \\textbf{  R-squared:         } &     0.930   \\\\\n",
       "\\textbf{Model:}            &       OLS        & \\textbf{  Adj. R-squared:    } &     0.929   \\\\\n",
       "\\textbf{Method:}           &  Least Squares   & \\textbf{  F-statistic:       } &     484.8   \\\\\n",
       "\\textbf{Date:}             & Fri, 01 Mar 2024 & \\textbf{  Prob (F-statistic):} &  8.21e-83   \\\\\n",
       "\\textbf{Time:}             &     12:10:17     & \\textbf{  Log-Likelihood:    } &    17.468   \\\\\n",
       "\\textbf{No. Observations:} &         150      & \\textbf{  AIC:               } &    -24.94   \\\\\n",
       "\\textbf{Df Residuals:}     &         145      & \\textbf{  BIC:               } &    -9.882   \\\\\n",
       "\\textbf{Df Model:}         &           4      & \\textbf{                     } &             \\\\\n",
       "\\textbf{Covariance Type:}  &    nonrobust     & \\textbf{                     } &             \\\\\n",
       "\\bottomrule\n",
       "\\end{tabular}\n",
       "\\begin{tabular}{lcccccc}\n",
       "                       & \\textbf{coef} & \\textbf{std err} & \\textbf{t} & \\textbf{P$> |$t$|$} & \\textbf{[0.025} & \\textbf{0.975]}  \\\\\n",
       "\\midrule\n",
       "\\textbf{Intercept}     &       0.1921  &        0.205     &     0.938  &         0.350        &       -0.212    &        0.597     \\\\\n",
       "\\textbf{sepal\\_length} &      -0.1097  &        0.058     &    -1.900  &         0.059        &       -0.224    &        0.004     \\\\\n",
       "\\textbf{sepal\\_width}  &      -0.0442  &        0.060     &    -0.738  &         0.462        &       -0.163    &        0.074     \\\\\n",
       "\\textbf{petal\\_length} &       0.2270  &        0.057     &     3.983  &         0.000        &        0.114    &        0.340     \\\\\n",
       "\\textbf{petal\\_width}  &       0.6099  &        0.094     &     6.456  &         0.000        &        0.423    &        0.797     \\\\\n",
       "\\bottomrule\n",
       "\\end{tabular}\n",
       "\\begin{tabular}{lclc}\n",
       "\\textbf{Omnibus:}       &  0.366 & \\textbf{  Durbin-Watson:     } &    1.068  \\\\\n",
       "\\textbf{Prob(Omnibus):} &  0.833 & \\textbf{  Jarque-Bera (JB):  } &    0.138  \\\\\n",
       "\\textbf{Skew:}          & -0.052 & \\textbf{  Prob(JB):          } &    0.933  \\\\\n",
       "\\textbf{Kurtosis:}      &  3.106 & \\textbf{  Cond. No.          } &     91.8  \\\\\n",
       "\\bottomrule\n",
       "\\end{tabular}\n",
       "%\\caption{OLS Regression Results}\n",
       "\\end{center}\n",
       "\n",
       "Notes: \\newline\n",
       " [1] Standard Errors assume that the covariance matrix of the errors is correctly specified."
      ],
      "text/plain": [
       "<class 'statsmodels.iolib.summary.Summary'>\n",
       "\"\"\"\n",
       "                            OLS Regression Results                            \n",
       "==============================================================================\n",
       "Dep. Variable:              y_numeric   R-squared:                       0.930\n",
       "Model:                            OLS   Adj. R-squared:                  0.929\n",
       "Method:                 Least Squares   F-statistic:                     484.8\n",
       "Date:                Fri, 01 Mar 2024   Prob (F-statistic):           8.21e-83\n",
       "Time:                        12:10:17   Log-Likelihood:                 17.468\n",
       "No. Observations:                 150   AIC:                            -24.94\n",
       "Df Residuals:                     145   BIC:                            -9.882\n",
       "Df Model:                           4                                         \n",
       "Covariance Type:            nonrobust                                         \n",
       "================================================================================\n",
       "                   coef    std err          t      P>|t|      [0.025      0.975]\n",
       "--------------------------------------------------------------------------------\n",
       "Intercept        0.1921      0.205      0.938      0.350      -0.212       0.597\n",
       "sepal_length    -0.1097      0.058     -1.900      0.059      -0.224       0.004\n",
       "sepal_width     -0.0442      0.060     -0.738      0.462      -0.163       0.074\n",
       "petal_length     0.2270      0.057      3.983      0.000       0.114       0.340\n",
       "petal_width      0.6099      0.094      6.456      0.000       0.423       0.797\n",
       "==============================================================================\n",
       "Omnibus:                        0.366   Durbin-Watson:                   1.068\n",
       "Prob(Omnibus):                  0.833   Jarque-Bera (JB):                0.138\n",
       "Skew:                          -0.052   Prob(JB):                        0.933\n",
       "Kurtosis:                       3.106   Cond. No.                         91.8\n",
       "==============================================================================\n",
       "\n",
       "Notes:\n",
       "[1] Standard Errors assume that the covariance matrix of the errors is correctly specified.\n",
       "\"\"\""
      ]
     },
     "execution_count": 84,
     "metadata": {},
     "output_type": "execute_result"
    }
   ],
   "source": [
    "ols_model = smf.ols('y_numeric ~ sepal_length + sepal_width + petal_length + petal_width', data=df).fit()\n",
    "ols_model.summary()"
   ]
  },
  {
   "cell_type": "code",
   "execution_count": 85,
   "id": "c77ebd5a",
   "metadata": {},
   "outputs": [
    {
     "data": {
      "text/plain": [
       "12.845418843444953"
      ]
     },
     "execution_count": 85,
     "metadata": {},
     "output_type": "execute_result"
    }
   ],
   "source": [
    "new_data = pd.DataFrame({\n",
    "    'sepal_length': [15.1],\n",
    "    'sepal_width': [13.5],\n",
    "    'petal_length': [11.4],\n",
    "    'petal_width': [20.2]\n",
    "})\n",
    "\n",
    "ols_model.predict(new_data)[0]"
   ]
  },
  {
   "cell_type": "markdown",
   "id": "42de1a1d",
   "metadata": {},
   "source": [
    "Fitting an OLS model to categorical data, as with the binary data, leads to inconsistent predictions. "
   ]
  },
  {
   "cell_type": "markdown",
   "id": "da12acdb",
   "metadata": {},
   "source": [
    "<br><br><br><br>\n",
    "<br><br><br><br>"
   ]
  },
  {
   "cell_type": "markdown",
   "id": "1763a703",
   "metadata": {},
   "source": [
    "> #### Where do we go from here?\n",
    "\n",
    "\n",
    "The multinomial logistic regression model is a generalization of the logistic regression model to the case where the response variable can take on more than two values.\n",
    "\n",
    "\n",
    "The multinomial logistic regression model assumes that:\n",
    "\n",
    "$$\n",
    "y \\mid x \\sim \\text{Categorical}(\\pi(x))\n",
    "$$\n",
    "\n",
    "i.e., the response variable $y$ follows a categorical distribution with parameters $\\pi(x)$."
   ]
  },
  {
   "cell_type": "markdown",
   "id": "8014850d",
   "metadata": {},
   "source": [
    "<br></br><br></br>\n",
    "\n",
    "$\\renewcommand{\\piv}{\\mathbf{\\pi}}$\n",
    "Recall from week-2 that:\n",
    "> Categorical distribution\n",
    "\n",
    "A random variable $X \\sim \\text{Categorical}(\\piv)$ has a categorical distribution with parameters $\\piv = (p_1, p_2, \\dots, p_k)$ if\n",
    "\n",
    "$$\n",
    "\\begin{aligned}\n",
    "\\pr(X = i) &= p_i \\quad \\quad \\text{for } i = 0, 1, 2, \\dots, k-1 \\\\\n",
    "\\end{aligned}\n",
    "$$\n",
    "\n",
    "and the parameters satisfy the following conditions:\n",
    "\n",
    "$$\n",
    "\\begin{aligned}\n",
    "0 \\le p_i &\\le 1 \\quad \\quad \\text{for } i = 0, 1, 2, \\dots, k-1 \\\\\n",
    "\\sum_{i=1}^k p_i &= 1\n",
    "\\end{aligned}\n",
    "$$\n"
   ]
  },
  {
   "cell_type": "markdown",
   "id": "0bd01470",
   "metadata": {},
   "source": [
    "<br></br><br></br>"
   ]
  },
  {
   "cell_type": "markdown",
   "id": "e5f586e1",
   "metadata": {},
   "source": [
    "Here we're going to assume that the parameters $\\pi(x)$ are given by:\n",
    "\n",
    "$$\n",
    "\\begin{aligned}\n",
    "\\pi(x) &= (\\pi_1(x), \\pi_2(x), \\dots, \\pi_k(x))\\\\ \\\\\n",
    "\\pi_i(x) &= \\pr(y = i | x) \\quad \\quad \\text{for } i = 2, 3, 4 \\dots, k\n",
    "\\end{aligned}\n",
    "$$\n",
    "\n",
    "and the first parameter is given by:\n",
    "\n",
    "$$\n",
    "\\pi_1(x) = 1 - \\sum_{i=2}^{k} \\pi_i(x)\n",
    "$$"
   ]
  },
  {
   "cell_type": "markdown",
   "id": "a6b40205-cfc2-4656-9b36-1cefe502d11d",
   "metadata": {},
   "source": [
    "$$\n",
    "Ber(p) = \\text{Categorical}(1-p, p)\n",
    "$$"
   ]
  },
  {
   "cell_type": "markdown",
   "id": "0222ed9d",
   "metadata": {},
   "source": [
    "<br><br><br><br>\n",
    "<br><br><br><br>\n",
    "<br><br><br><br>"
   ]
  },
  {
   "cell_type": "markdown",
   "id": "1313a4df",
   "metadata": {},
   "source": [
    "Since all of the $\\pi_i(x)$ are probabilities, we can use the logistic regression trick. But, there's one **key difference**\n",
    "\n",
    "\n",
    "> Logistic regression\n",
    "\n",
    "The odds for logistic regression is\n",
    "$$\n",
    "\\text{odds}(\\{y=1|x\\}) = \\frac{\\pr(y=1\\mid x)}{\\pr(y=0\\mid x)}\n",
    "$$\n",
    "\n",
    "> Multinomial logistic regression\n",
    "\n",
    "The odds for multinomial logistic regression is\n",
    "$$\n",
    "\\text{odds}(\\{y=i|x\\}) = \\frac{\\pr(y=i\\mid x)}{\\pr(y=1\\mid x)}\n",
    "$$\n",
    "\n",
    "i.e., the odds are always in reference to the **baseline** category."
   ]
  },
  {
   "cell_type": "markdown",
   "id": "429198af",
   "metadata": {},
   "source": [
    "<br></br><br></br>\n",
    "<br></br><br></br>\n",
    "<br></br><br></br>"
   ]
  },
  {
   "cell_type": "markdown",
   "id": "ddb00c89",
   "metadata": {},
   "source": [
    "With this background:\n",
    "\n",
    "$$\n",
    "\\begin{aligned}\n",
    "\\log\\Bigg(\\frac{\\pi_i(x)}{\\pi_1(x)}\\Bigg) &= \\beta_{i0} + \\beta_{i1} x_1 + \\beta_{i2} x_2 + \\dots + \\beta_{ip} x_p \\quad \\quad \\text{for } i = 2, 3, 4 \\dots, k\n",
    "\\end{aligned}\n",
    "$$\n",
    "\n",
    "Note the $\\beta_{ip}$ term. This is the key difference between the multinomial logistic regression model and the logistic regression model.\n",
    "\n",
    "\n",
    "> Essentially, the multinomial logistic regression model fits $(k-1)$ different logistic regression models, one for each category, with the first category as the reference category."
   ]
  },
  {
   "cell_type": "markdown",
   "id": "b75e65ab",
   "metadata": {},
   "source": [
    "<br></br><br></br>\n",
    "<br></br><br></br>\n",
    "<br></br><br></br>"
   ]
  },
  {
   "cell_type": "markdown",
   "id": "fa4a1450",
   "metadata": {},
   "source": [
    "In `statsmodels` you can fit a multinomial logistic regression model using the `MNLogit` class."
   ]
  },
  {
   "cell_type": "code",
   "execution_count": 87,
   "id": "8a0f5b68",
   "metadata": {},
   "outputs": [
    {
     "name": "stdout",
     "output_type": "stream",
     "text": [
      "Warning: Maximum number of iterations has been exceeded.\n",
      "         Current function value: 0.039662\n",
      "         Iterations: 35\n",
      "                          MNLogit Regression Results                          \n",
      "==============================================================================\n",
      "Dep. Variable:              y_numeric   No. Observations:                  150\n",
      "Model:                        MNLogit   Df Residuals:                      140\n",
      "Method:                           MLE   Df Model:                            8\n",
      "Date:                Fri, 01 Mar 2024   Pseudo R-squ.:                  0.9639\n",
      "Time:                        12:26:06   Log-Likelihood:                -5.9493\n",
      "converged:                      False   LL-Null:                       -164.79\n",
      "Covariance Type:            nonrobust   LLR p-value:                 7.055e-64\n",
      "================================================================================\n",
      " y_numeric=1       coef    std err          z      P>|z|      [0.025      0.975]\n",
      "--------------------------------------------------------------------------------\n",
      "Intercept       -5.6068   1.05e+06  -5.35e-06      1.000   -2.05e+06    2.05e+06\n",
      "sepal_length    -2.2815   3.04e+05   -7.5e-06      1.000   -5.96e+05    5.96e+05\n",
      "sepal_width    -15.5739   3.03e+05  -5.15e-05      1.000   -5.93e+05    5.93e+05\n",
      "petal_length    23.3600    5.4e+05   4.33e-05      1.000   -1.06e+06    1.06e+06\n",
      "petal_width     15.5385   3.73e+05   4.17e-05      1.000   -7.31e+05    7.31e+05\n",
      "--------------------------------------------------------------------------------\n",
      " y_numeric=2       coef    std err          z      P>|z|      [0.025      0.975]\n",
      "--------------------------------------------------------------------------------\n",
      "Intercept      -48.2446   1.05e+06   -4.6e-05      1.000   -2.05e+06    2.05e+06\n",
      "sepal_length    -4.7467   3.04e+05  -1.56e-05      1.000   -5.96e+05    5.96e+05\n",
      "sepal_width    -22.2548   3.03e+05  -7.35e-05      1.000   -5.93e+05    5.93e+05\n",
      "petal_length    32.7894    5.4e+05   6.08e-05      1.000   -1.06e+06    1.06e+06\n",
      "petal_width     33.8246   3.73e+05   9.07e-05      1.000   -7.31e+05    7.31e+05\n",
      "================================================================================\n"
     ]
    },
    {
     "name": "stderr",
     "output_type": "stream",
     "text": [
      "/Users/svishwanath/mambaforge/lib/python3.11/site-packages/statsmodels/base/model.py:607: ConvergenceWarning: Maximum Likelihood optimization failed to converge. Check mle_retvals\n",
      "  warnings.warn(\"Maximum Likelihood optimization failed to \"\n"
     ]
    }
   ],
   "source": [
    "mnl_model = smf.mnlogit('y_numeric ~ sepal_length + sepal_width + petal_length + petal_width', data=df).fit()\n",
    "print(mnl_model.summary())"
   ]
  },
  {
   "cell_type": "markdown",
   "id": "168228cb",
   "metadata": {},
   "source": [
    "<br><br><br><br>\n",
    "<br><br><br><br>"
   ]
  },
  {
   "cell_type": "markdown",
   "id": "7dd0aa49",
   "metadata": {},
   "source": [
    "> #### Coefficient Interpretation"
   ]
  },
  {
   "cell_type": "markdown",
   "id": "3c30b668",
   "metadata": {},
   "source": [
    "Consider the following events $A$ and $B$:\n",
    "\n",
    "* $A = \\{y=i \\mid x_1, x_2, \\dots, x_p\\quad \\text{and} \\quad x_j = x_j\\}$\n",
    "* $B = \\{y=i \\mid x_1, x_2, \\dots, x_p \\quad \\text{and} \\quad x_j = x_j + 1\\}$"
   ]
  },
  {
   "cell_type": "markdown",
   "id": "c89a81ab",
   "metadata": {},
   "source": [
    "<br></br><br></br>\n",
    "<br></br><br></br>\n",
    "<br></br><br></br>"
   ]
  },
  {
   "cell_type": "markdown",
   "id": "774333d4",
   "metadata": {},
   "source": [
    "> #### Marginal Effects\n"
   ]
  },
  {
   "cell_type": "code",
   "execution_count": 76,
   "id": "6fcc613a",
   "metadata": {},
   "outputs": [
    {
     "data": {
      "text/html": [
       "<table class=\"simpletable\">\n",
       "<tr>\n",
       "   <th>y_numeric=1</th>    <th>coef</th>     <th>std err</th>      <th>z</th>      <th>P>|z|</th>  <th>[0.025</th>    <th>0.975]</th>  \n",
       "</tr>\n",
       "<tr>\n",
       "  <th>Intercept</th>    <td>   -4.8138</td> <td> 4.34e+05</td> <td>-1.11e-05</td> <td> 1.000</td> <td> -8.5e+05</td> <td>  8.5e+05</td>\n",
       "</tr>\n",
       "<tr>\n",
       "  <th>sepal_length</th> <td>   -0.9300</td> <td> 1.33e+05</td> <td>-7.02e-06</td> <td> 1.000</td> <td> -2.6e+05</td> <td>  2.6e+05</td>\n",
       "</tr>\n",
       "<tr>\n",
       "  <th>sepal_width</th>  <td>  -14.4769</td> <td>  6.7e+04</td> <td>   -0.000</td> <td> 1.000</td> <td>-1.31e+05</td> <td> 1.31e+05</td>\n",
       "</tr>\n",
       "<tr>\n",
       "  <th>petal_length</th> <td>   18.0761</td> <td> 6.86e+04</td> <td>    0.000</td> <td> 1.000</td> <td>-1.34e+05</td> <td> 1.35e+05</td>\n",
       "</tr>\n",
       "<tr>\n",
       "  <th>petal_width</th>  <td>   12.7966</td> <td> 1.38e+05</td> <td> 9.28e-05</td> <td> 1.000</td> <td> -2.7e+05</td> <td>  2.7e+05</td>\n",
       "</tr>\n",
       "<tr>\n",
       "   <th>y_numeric=2</th>    <th>coef</th>     <th>std err</th>      <th>z</th>      <th>P>|z|</th>  <th>[0.025</th>    <th>0.975]</th>  \n",
       "</tr>\n",
       "<tr>\n",
       "  <th>Intercept</th>    <td>  -47.4517</td> <td> 4.34e+05</td> <td>   -0.000</td> <td> 1.000</td> <td> -8.5e+05</td> <td>  8.5e+05</td>\n",
       "</tr>\n",
       "<tr>\n",
       "  <th>sepal_length</th> <td>   -3.3952</td> <td> 1.33e+05</td> <td>-2.56e-05</td> <td> 1.000</td> <td> -2.6e+05</td> <td>  2.6e+05</td>\n",
       "</tr>\n",
       "<tr>\n",
       "  <th>sepal_width</th>  <td>  -21.1578</td> <td>  6.7e+04</td> <td>   -0.000</td> <td> 1.000</td> <td>-1.31e+05</td> <td> 1.31e+05</td>\n",
       "</tr>\n",
       "<tr>\n",
       "  <th>petal_length</th> <td>   27.5055</td> <td> 6.86e+04</td> <td>    0.000</td> <td> 1.000</td> <td>-1.34e+05</td> <td> 1.35e+05</td>\n",
       "</tr>\n",
       "<tr>\n",
       "  <th>petal_width</th>  <td>   31.0827</td> <td> 1.38e+05</td> <td>    0.000</td> <td> 1.000</td> <td> -2.7e+05</td> <td>  2.7e+05</td>\n",
       "</tr>\n",
       "</table>"
      ],
      "text/latex": [
       "\\begin{center}\n",
       "\\begin{tabular}{ccccccc}\n",
       "\\toprule\n",
       "\\textbf{y\\_numeric=1}  & \\textbf{coef} & \\textbf{std err} & \\textbf{z} & \\textbf{P$> |$z$|$} & \\textbf{[0.025} & \\textbf{0.975]}  \\\\\n",
       "\\midrule\n",
       "\\bottomrule\n",
       "\\end{tabular}\n",
       "\\begin{tabular}{lcccccc}\n",
       "\\textbf{Intercept}     &      -4.8138  &     4.34e+05     & -1.11e-05  &         1.000        &     -8.5e+05    &      8.5e+05     \\\\\n",
       "\\textbf{sepal\\_length} &      -0.9300  &     1.33e+05     & -7.02e-06  &         1.000        &     -2.6e+05    &      2.6e+05     \\\\\n",
       "\\textbf{sepal\\_width}  &     -14.4769  &      6.7e+04     &    -0.000  &         1.000        &    -1.31e+05    &     1.31e+05     \\\\\n",
       "\\textbf{petal\\_length} &      18.0761  &     6.86e+04     &     0.000  &         1.000        &    -1.34e+05    &     1.35e+05     \\\\\n",
       "\\textbf{petal\\_width}  &      12.7966  &     1.38e+05     &  9.28e-05  &         1.000        &     -2.7e+05    &      2.7e+05     \\\\\n",
       "\\bottomrule\n",
       "\\end{tabular}\n",
       "\\begin{tabular}{ccccccc}\n",
       "\\textbf{y\\_numeric=2}  & \\textbf{coef} & \\textbf{std err} & \\textbf{z} & \\textbf{P$> |$z$|$} & \\textbf{[0.025} & \\textbf{0.975]}  \\\\\n",
       "\\midrule\n",
       "\\bottomrule\n",
       "\\end{tabular}\n",
       "\\begin{tabular}{lcccccc}\n",
       "\\textbf{Intercept}     &     -47.4517  &     4.34e+05     &    -0.000  &         1.000        &     -8.5e+05    &      8.5e+05     \\\\\n",
       "\\textbf{sepal\\_length} &      -3.3952  &     1.33e+05     & -2.56e-05  &         1.000        &     -2.6e+05    &      2.6e+05     \\\\\n",
       "\\textbf{sepal\\_width}  &     -21.1578  &      6.7e+04     &    -0.000  &         1.000        &    -1.31e+05    &     1.31e+05     \\\\\n",
       "\\textbf{petal\\_length} &      27.5055  &     6.86e+04     &     0.000  &         1.000        &    -1.34e+05    &     1.35e+05     \\\\\n",
       "\\textbf{petal\\_width}  &      31.0827  &     1.38e+05     &     0.000  &         1.000        &     -2.7e+05    &      2.7e+05     \\\\\n",
       "\\bottomrule\n",
       "\\end{tabular}\n",
       "\\end{center}"
      ],
      "text/plain": [
       "<class 'statsmodels.iolib.table.SimpleTable'>"
      ]
     },
     "execution_count": 76,
     "metadata": {},
     "output_type": "execute_result"
    }
   ],
   "source": [
    "mnl_model.summary().tables[1]"
   ]
  },
  {
   "cell_type": "code",
   "execution_count": 77,
   "id": "08959e36",
   "metadata": {},
   "outputs": [
    {
     "data": {
      "text/html": [
       "<table class=\"simpletable\">\n",
       "<caption>MNLogit Marginal Effects</caption>\n",
       "<tr>\n",
       "  <th>Dep. Variable:</th> <td>y_numeric</td>\n",
       "</tr>\n",
       "<tr>\n",
       "  <th>Method:</th>          <td>dydx</td>   \n",
       "</tr>\n",
       "<tr>\n",
       "  <th>At:</th>             <td>overall</td> \n",
       "</tr>\n",
       "</table>\n",
       "<table class=\"simpletable\">\n",
       "<tr>\n",
       "   <th>y_numeric=0</th>    <th>dy/dx</th>    <th>std err</th>      <th>z</th>      <th>P>|z|</th>  <th>[0.025</th>    <th>0.975]</th>  \n",
       "</tr>\n",
       "<tr>\n",
       "  <th>sepal_length</th> <td> 1.999e-09</td> <td>    0.000</td> <td> 7.01e-06</td> <td> 1.000</td> <td>   -0.001</td> <td>    0.001</td>\n",
       "</tr>\n",
       "<tr>\n",
       "  <th>sepal_width</th>  <td> 3.112e-08</td> <td>    0.000</td> <td>    0.000</td> <td> 1.000</td> <td>   -0.000</td> <td>    0.000</td>\n",
       "</tr>\n",
       "<tr>\n",
       "  <th>petal_length</th> <td>-3.885e-08</td> <td>    0.000</td> <td>   -0.000</td> <td> 1.000</td> <td>   -0.000</td> <td>    0.000</td>\n",
       "</tr>\n",
       "<tr>\n",
       "  <th>petal_width</th>  <td> -2.75e-08</td> <td>    0.000</td> <td>-9.16e-05</td> <td> 1.000</td> <td>   -0.001</td> <td>    0.001</td>\n",
       "</tr>\n",
       "<tr>\n",
       "   <th>y_numeric=1</th>    <th>dy/dx</th>    <th>std err</th>      <th>z</th>      <th>P>|z|</th>  <th>[0.025</th>    <th>0.975]</th>  \n",
       "</tr>\n",
       "<tr>\n",
       "  <th>sepal_length</th> <td>    0.0297</td> <td>    0.026</td> <td>    1.163</td> <td> 0.245</td> <td>   -0.020</td> <td>    0.080</td>\n",
       "</tr>\n",
       "<tr>\n",
       "  <th>sepal_width</th>  <td>    0.0805</td> <td>    0.043</td> <td>    1.891</td> <td> 0.059</td> <td>   -0.003</td> <td>    0.164</td>\n",
       "</tr>\n",
       "<tr>\n",
       "  <th>petal_length</th> <td>   -0.1135</td> <td>    0.038</td> <td>   -2.965</td> <td> 0.003</td> <td>   -0.189</td> <td>   -0.038</td>\n",
       "</tr>\n",
       "<tr>\n",
       "  <th>petal_width</th>  <td>   -0.2202</td> <td>    0.073</td> <td>   -2.998</td> <td> 0.003</td> <td>   -0.364</td> <td>   -0.076</td>\n",
       "</tr>\n",
       "<tr>\n",
       "   <th>y_numeric=2</th>    <th>dy/dx</th>    <th>std err</th>      <th>z</th>      <th>P>|z|</th>  <th>[0.025</th>    <th>0.975]</th>  \n",
       "</tr>\n",
       "<tr>\n",
       "  <th>sepal_length</th> <td>   -0.0297</td> <td>    0.026</td> <td>   -1.163</td> <td> 0.245</td> <td>   -0.080</td> <td>    0.020</td>\n",
       "</tr>\n",
       "<tr>\n",
       "  <th>sepal_width</th>  <td>   -0.0805</td> <td>    0.043</td> <td>   -1.891</td> <td> 0.059</td> <td>   -0.164</td> <td>    0.003</td>\n",
       "</tr>\n",
       "<tr>\n",
       "  <th>petal_length</th> <td>    0.1135</td> <td>    0.038</td> <td>    2.965</td> <td> 0.003</td> <td>    0.038</td> <td>    0.189</td>\n",
       "</tr>\n",
       "<tr>\n",
       "  <th>petal_width</th>  <td>    0.2202</td> <td>    0.073</td> <td>    2.998</td> <td> 0.003</td> <td>    0.076</td> <td>    0.364</td>\n",
       "</tr>\n",
       "</table>"
      ],
      "text/latex": [
       "\\begin{center}\n",
       "\\begin{tabular}{lc}\n",
       "\\toprule\n",
       "\\textbf{Dep. Variable:} &   y\\_numeric    \\\\\n",
       "\\textbf{Method:}        &      dydx       \\\\\n",
       "\\textbf{At:}            &    overall      \\\\\n",
       "\\bottomrule\n",
       "\\end{tabular}\n",
       "\\begin{tabular}{ccccccc}\n",
       "\\textbf{y\\_numeric=0}  & \\textbf{dy/dx} & \\textbf{std err} & \\textbf{z} & \\textbf{P$> |$z$|$} & \\textbf{[0.025} & \\textbf{0.975]}  \\\\\n",
       "\\midrule\n",
       "\\bottomrule\n",
       "\\end{tabular}\n",
       "\\begin{tabular}{lcccccc}\n",
       "\\textbf{sepal\\_length} &    1.999e-09   &        0.000     &  7.01e-06  &         1.000        &       -0.001    &        0.001     \\\\\n",
       "\\textbf{sepal\\_width}  &    3.112e-08   &        0.000     &     0.000  &         1.000        &       -0.000    &        0.000     \\\\\n",
       "\\textbf{petal\\_length} &   -3.885e-08   &        0.000     &    -0.000  &         1.000        &       -0.000    &        0.000     \\\\\n",
       "\\textbf{petal\\_width}  &    -2.75e-08   &        0.000     & -9.16e-05  &         1.000        &       -0.001    &        0.001     \\\\\n",
       "\\bottomrule\n",
       "\\end{tabular}\n",
       "\\begin{tabular}{ccccccc}\n",
       "\\textbf{y\\_numeric=1}  & \\textbf{dy/dx} & \\textbf{std err} & \\textbf{z} & \\textbf{P$> |$z$|$} & \\textbf{[0.025} & \\textbf{0.975]}  \\\\\n",
       "\\midrule\n",
       "\\bottomrule\n",
       "\\end{tabular}\n",
       "\\begin{tabular}{lcccccc}\n",
       "\\textbf{sepal\\_length} &       0.0297   &        0.026     &     1.163  &         0.245        &       -0.020    &        0.080     \\\\\n",
       "\\textbf{sepal\\_width}  &       0.0805   &        0.043     &     1.891  &         0.059        &       -0.003    &        0.164     \\\\\n",
       "\\textbf{petal\\_length} &      -0.1135   &        0.038     &    -2.965  &         0.003        &       -0.189    &       -0.038     \\\\\n",
       "\\textbf{petal\\_width}  &      -0.2202   &        0.073     &    -2.998  &         0.003        &       -0.364    &       -0.076     \\\\\n",
       "\\bottomrule\n",
       "\\end{tabular}\n",
       "\\begin{tabular}{ccccccc}\n",
       "\\textbf{y\\_numeric=2}  & \\textbf{dy/dx} & \\textbf{std err} & \\textbf{z} & \\textbf{P$> |$z$|$} & \\textbf{[0.025} & \\textbf{0.975]}  \\\\\n",
       "\\midrule\n",
       "\\bottomrule\n",
       "\\end{tabular}\n",
       "\\begin{tabular}{lcccccc}\n",
       "\\textbf{sepal\\_length} &      -0.0297   &        0.026     &    -1.163  &         0.245        &       -0.080    &        0.020     \\\\\n",
       "\\textbf{sepal\\_width}  &      -0.0805   &        0.043     &    -1.891  &         0.059        &       -0.164    &        0.003     \\\\\n",
       "\\textbf{petal\\_length} &       0.1135   &        0.038     &     2.965  &         0.003        &        0.038    &        0.189     \\\\\n",
       "\\textbf{petal\\_width}  &       0.2202   &        0.073     &     2.998  &         0.003        &        0.076    &        0.364     \\\\\n",
       "\\bottomrule\n",
       "\\end{tabular}\n",
       "%\\caption{MNLogit Marginal Effects}\n",
       "\\end{center}"
      ],
      "text/plain": [
       "<class 'statsmodels.iolib.summary.Summary'>\n",
       "\"\"\"\n",
       "       MNLogit Marginal Effects      \n",
       "=====================================\n",
       "Dep. Variable:              y_numeric\n",
       "Method:                          dydx\n",
       "At:                           overall\n",
       "================================================================================\n",
       " y_numeric=0      dy/dx    std err          z      P>|z|      [0.025      0.975]\n",
       "--------------------------------------------------------------------------------\n",
       "sepal_length  1.999e-09      0.000   7.01e-06      1.000      -0.001       0.001\n",
       "sepal_width   3.112e-08      0.000      0.000      1.000      -0.000       0.000\n",
       "petal_length -3.885e-08      0.000     -0.000      1.000      -0.000       0.000\n",
       "petal_width   -2.75e-08      0.000  -9.16e-05      1.000      -0.001       0.001\n",
       "--------------------------------------------------------------------------------\n",
       " y_numeric=1      dy/dx    std err          z      P>|z|      [0.025      0.975]\n",
       "--------------------------------------------------------------------------------\n",
       "sepal_length     0.0297      0.026      1.163      0.245      -0.020       0.080\n",
       "sepal_width      0.0805      0.043      1.891      0.059      -0.003       0.164\n",
       "petal_length    -0.1135      0.038     -2.965      0.003      -0.189      -0.038\n",
       "petal_width     -0.2202      0.073     -2.998      0.003      -0.364      -0.076\n",
       "--------------------------------------------------------------------------------\n",
       " y_numeric=2      dy/dx    std err          z      P>|z|      [0.025      0.975]\n",
       "--------------------------------------------------------------------------------\n",
       "sepal_length    -0.0297      0.026     -1.163      0.245      -0.080       0.020\n",
       "sepal_width     -0.0805      0.043     -1.891      0.059      -0.164       0.003\n",
       "petal_length     0.1135      0.038      2.965      0.003       0.038       0.189\n",
       "petal_width      0.2202      0.073      2.998      0.003       0.076       0.364\n",
       "================================================================================\n",
       "\"\"\""
      ]
     },
     "execution_count": 77,
     "metadata": {},
     "output_type": "execute_result"
    }
   ],
   "source": [
    "mnl_model.get_margeff().summary()"
   ]
  },
  {
   "cell_type": "markdown",
   "id": "0b2051de",
   "metadata": {},
   "source": [
    "> ##### Predicted values\n",
    "\n"
   ]
  },
  {
   "cell_type": "code",
   "execution_count": 95,
   "id": "be556069",
   "metadata": {},
   "outputs": [
    {
     "data": {
      "text/html": [
       "<div>\n",
       "<style scoped>\n",
       "    .dataframe tbody tr th:only-of-type {\n",
       "        vertical-align: middle;\n",
       "    }\n",
       "\n",
       "    .dataframe tbody tr th {\n",
       "        vertical-align: top;\n",
       "    }\n",
       "\n",
       "    .dataframe thead th {\n",
       "        text-align: right;\n",
       "    }\n",
       "</style>\n",
       "<table border=\"1\" class=\"dataframe\">\n",
       "  <thead>\n",
       "    <tr style=\"text-align: right;\">\n",
       "      <th></th>\n",
       "      <th>0</th>\n",
       "      <th>1</th>\n",
       "      <th>2</th>\n",
       "    </tr>\n",
       "  </thead>\n",
       "  <tbody>\n",
       "    <tr>\n",
       "      <th>0</th>\n",
       "      <td>1.000000e+00</td>\n",
       "      <td>2.464609e-16</td>\n",
       "      <td>3.806183e-43</td>\n",
       "    </tr>\n",
       "    <tr>\n",
       "      <th>1</th>\n",
       "      <td>1.000000e+00</td>\n",
       "      <td>9.370204e-13</td>\n",
       "      <td>6.688891e-38</td>\n",
       "    </tr>\n",
       "    <tr>\n",
       "      <th>2</th>\n",
       "      <td>1.000000e+00</td>\n",
       "      <td>6.348459e-15</td>\n",
       "      <td>7.596118e-41</td>\n",
       "    </tr>\n",
       "    <tr>\n",
       "      <th>3</th>\n",
       "      <td>1.000000e+00</td>\n",
       "      <td>4.047118e-12</td>\n",
       "      <td>7.967210e-37</td>\n",
       "    </tr>\n",
       "    <tr>\n",
       "      <th>4</th>\n",
       "      <td>1.000000e+00</td>\n",
       "      <td>6.523257e-17</td>\n",
       "      <td>6.608789e-44</td>\n",
       "    </tr>\n",
       "    <tr>\n",
       "      <th>...</th>\n",
       "      <td>...</td>\n",
       "      <td>...</td>\n",
       "      <td>...</td>\n",
       "    </tr>\n",
       "    <tr>\n",
       "      <th>145</th>\n",
       "      <td>8.386877e-45</td>\n",
       "      <td>6.834740e-06</td>\n",
       "      <td>9.999932e-01</td>\n",
       "    </tr>\n",
       "    <tr>\n",
       "      <th>146</th>\n",
       "      <td>9.773412e-42</td>\n",
       "      <td>8.933115e-04</td>\n",
       "      <td>9.991067e-01</td>\n",
       "    </tr>\n",
       "    <tr>\n",
       "      <th>147</th>\n",
       "      <td>8.276070e-41</td>\n",
       "      <td>1.006082e-03</td>\n",
       "      <td>9.989939e-01</td>\n",
       "    </tr>\n",
       "    <tr>\n",
       "      <th>148</th>\n",
       "      <td>8.144645e-45</td>\n",
       "      <td>4.374923e-06</td>\n",
       "      <td>9.999956e-01</td>\n",
       "    </tr>\n",
       "    <tr>\n",
       "      <th>149</th>\n",
       "      <td>1.080371e-37</td>\n",
       "      <td>2.232111e-02</td>\n",
       "      <td>9.776789e-01</td>\n",
       "    </tr>\n",
       "  </tbody>\n",
       "</table>\n",
       "<p>150 rows × 3 columns</p>\n",
       "</div>"
      ],
      "text/plain": [
       "                0             1             2\n",
       "0    1.000000e+00  2.464609e-16  3.806183e-43\n",
       "1    1.000000e+00  9.370204e-13  6.688891e-38\n",
       "2    1.000000e+00  6.348459e-15  7.596118e-41\n",
       "3    1.000000e+00  4.047118e-12  7.967210e-37\n",
       "4    1.000000e+00  6.523257e-17  6.608789e-44\n",
       "..            ...           ...           ...\n",
       "145  8.386877e-45  6.834740e-06  9.999932e-01\n",
       "146  9.773412e-42  8.933115e-04  9.991067e-01\n",
       "147  8.276070e-41  1.006082e-03  9.989939e-01\n",
       "148  8.144645e-45  4.374923e-06  9.999956e-01\n",
       "149  1.080371e-37  2.232111e-02  9.776789e-01\n",
       "\n",
       "[150 rows x 3 columns]"
      ]
     },
     "execution_count": 95,
     "metadata": {},
     "output_type": "execute_result"
    }
   ],
   "source": [
    "mnl_model.predict(df)"
   ]
  },
  {
   "cell_type": "code",
   "execution_count": 100,
   "id": "cac3543d",
   "metadata": {},
   "outputs": [
    {
     "data": {
      "text/plain": [
       "0      0\n",
       "1      0\n",
       "2      0\n",
       "3      0\n",
       "4      0\n",
       "      ..\n",
       "145    2\n",
       "146    2\n",
       "147    2\n",
       "148    2\n",
       "149    2\n",
       "Length: 150, dtype: int64"
      ]
     },
     "execution_count": 100,
     "metadata": {},
     "output_type": "execute_result"
    }
   ],
   "source": [
    "# find predicted class\n",
    "predicted_class = mnl_model.predict(df).idxmax(axis=1)\n",
    "predicted_class"
   ]
  },
  {
   "cell_type": "markdown",
   "id": "b88daa37",
   "metadata": {},
   "source": [
    "> ##### Confusion Matrix\n",
    "\n"
   ]
  },
  {
   "cell_type": "code",
   "execution_count": 101,
   "id": "ce5a7695",
   "metadata": {},
   "outputs": [
    {
     "data": {
      "text/plain": [
       "array([[50.,  0.,  0.],\n",
       "       [ 0., 49.,  1.],\n",
       "       [ 0.,  1., 49.]])"
      ]
     },
     "execution_count": 101,
     "metadata": {},
     "output_type": "execute_result"
    }
   ],
   "source": [
    "mnl_model.pred_table()"
   ]
  },
  {
   "cell_type": "markdown",
   "id": "6ce8f9f2",
   "metadata": {},
   "source": [
    "> ##### TPR, FNR, ROC\n",
    "\n"
   ]
  },
  {
   "cell_type": "code",
   "execution_count": 102,
   "id": "2d19d01d",
   "metadata": {},
   "outputs": [
    {
     "data": {
      "text/plain": [
       "array([[1, 0, 0],\n",
       "       [1, 0, 0],\n",
       "       [1, 0, 0],\n",
       "       [1, 0, 0],\n",
       "       [1, 0, 0],\n",
       "       [1, 0, 0],\n",
       "       [1, 0, 0],\n",
       "       [1, 0, 0],\n",
       "       [1, 0, 0],\n",
       "       [1, 0, 0],\n",
       "       [1, 0, 0],\n",
       "       [1, 0, 0],\n",
       "       [1, 0, 0],\n",
       "       [1, 0, 0],\n",
       "       [1, 0, 0],\n",
       "       [1, 0, 0],\n",
       "       [1, 0, 0],\n",
       "       [1, 0, 0],\n",
       "       [1, 0, 0],\n",
       "       [1, 0, 0],\n",
       "       [1, 0, 0],\n",
       "       [1, 0, 0],\n",
       "       [1, 0, 0],\n",
       "       [1, 0, 0],\n",
       "       [1, 0, 0],\n",
       "       [1, 0, 0],\n",
       "       [1, 0, 0],\n",
       "       [1, 0, 0],\n",
       "       [1, 0, 0],\n",
       "       [1, 0, 0],\n",
       "       [1, 0, 0],\n",
       "       [1, 0, 0],\n",
       "       [1, 0, 0],\n",
       "       [1, 0, 0],\n",
       "       [1, 0, 0],\n",
       "       [1, 0, 0],\n",
       "       [1, 0, 0],\n",
       "       [1, 0, 0],\n",
       "       [1, 0, 0],\n",
       "       [1, 0, 0],\n",
       "       [1, 0, 0],\n",
       "       [1, 0, 0],\n",
       "       [1, 0, 0],\n",
       "       [1, 0, 0],\n",
       "       [1, 0, 0],\n",
       "       [1, 0, 0],\n",
       "       [1, 0, 0],\n",
       "       [1, 0, 0],\n",
       "       [1, 0, 0],\n",
       "       [1, 0, 0],\n",
       "       [0, 1, 0],\n",
       "       [0, 1, 0],\n",
       "       [0, 1, 0],\n",
       "       [0, 1, 0],\n",
       "       [0, 1, 0],\n",
       "       [0, 1, 0],\n",
       "       [0, 1, 0],\n",
       "       [0, 1, 0],\n",
       "       [0, 1, 0],\n",
       "       [0, 1, 0],\n",
       "       [0, 1, 0],\n",
       "       [0, 1, 0],\n",
       "       [0, 1, 0],\n",
       "       [0, 1, 0],\n",
       "       [0, 1, 0],\n",
       "       [0, 1, 0],\n",
       "       [0, 1, 0],\n",
       "       [0, 1, 0],\n",
       "       [0, 1, 0],\n",
       "       [0, 1, 0],\n",
       "       [0, 1, 0],\n",
       "       [0, 1, 0],\n",
       "       [0, 1, 0],\n",
       "       [0, 1, 0],\n",
       "       [0, 1, 0],\n",
       "       [0, 1, 0],\n",
       "       [0, 1, 0],\n",
       "       [0, 1, 0],\n",
       "       [0, 1, 0],\n",
       "       [0, 1, 0],\n",
       "       [0, 1, 0],\n",
       "       [0, 1, 0],\n",
       "       [0, 1, 0],\n",
       "       [0, 1, 0],\n",
       "       [0, 1, 0],\n",
       "       [0, 1, 0],\n",
       "       [0, 1, 0],\n",
       "       [0, 1, 0],\n",
       "       [0, 1, 0],\n",
       "       [0, 1, 0],\n",
       "       [0, 1, 0],\n",
       "       [0, 1, 0],\n",
       "       [0, 1, 0],\n",
       "       [0, 1, 0],\n",
       "       [0, 1, 0],\n",
       "       [0, 1, 0],\n",
       "       [0, 1, 0],\n",
       "       [0, 1, 0],\n",
       "       [0, 1, 0],\n",
       "       [0, 1, 0],\n",
       "       [0, 0, 1],\n",
       "       [0, 0, 1],\n",
       "       [0, 0, 1],\n",
       "       [0, 0, 1],\n",
       "       [0, 0, 1],\n",
       "       [0, 0, 1],\n",
       "       [0, 0, 1],\n",
       "       [0, 0, 1],\n",
       "       [0, 0, 1],\n",
       "       [0, 0, 1],\n",
       "       [0, 0, 1],\n",
       "       [0, 0, 1],\n",
       "       [0, 0, 1],\n",
       "       [0, 0, 1],\n",
       "       [0, 0, 1],\n",
       "       [0, 0, 1],\n",
       "       [0, 0, 1],\n",
       "       [0, 0, 1],\n",
       "       [0, 0, 1],\n",
       "       [0, 0, 1],\n",
       "       [0, 0, 1],\n",
       "       [0, 0, 1],\n",
       "       [0, 0, 1],\n",
       "       [0, 0, 1],\n",
       "       [0, 0, 1],\n",
       "       [0, 0, 1],\n",
       "       [0, 0, 1],\n",
       "       [0, 0, 1],\n",
       "       [0, 0, 1],\n",
       "       [0, 0, 1],\n",
       "       [0, 0, 1],\n",
       "       [0, 0, 1],\n",
       "       [0, 0, 1],\n",
       "       [0, 0, 1],\n",
       "       [0, 0, 1],\n",
       "       [0, 0, 1],\n",
       "       [0, 0, 1],\n",
       "       [0, 0, 1],\n",
       "       [0, 0, 1],\n",
       "       [0, 0, 1],\n",
       "       [0, 0, 1],\n",
       "       [0, 0, 1],\n",
       "       [0, 0, 1],\n",
       "       [0, 0, 1],\n",
       "       [0, 0, 1],\n",
       "       [0, 0, 1],\n",
       "       [0, 0, 1],\n",
       "       [0, 0, 1],\n",
       "       [0, 0, 1],\n",
       "       [0, 0, 1]])"
      ]
     },
     "execution_count": 102,
     "metadata": {},
     "output_type": "execute_result"
    }
   ],
   "source": [
    "from sklearn.preprocessing import LabelBinarizer\n",
    "\n",
    "onehot_y = LabelBinarizer().fit(df.y).transform(df.y)\n",
    "onehot_y"
   ]
  },
  {
   "cell_type": "code",
   "execution_count": 106,
   "id": "651d01d0",
   "metadata": {},
   "outputs": [
    {
     "data": {
      "image/png": "[encoded data removed]",
      "text/plain": [
       "<Figure size 640x480 with 1 Axes>"
      ]
     },
     "metadata": {},
     "output_type": "display_data"
    },
    {
     "data": {
      "image/png": "[encoded data removed]",
      "text/plain": [
       "<Figure size 640x480 with 1 Axes>"
      ]
     },
     "metadata": {},
     "output_type": "display_data"
    }
   ],
   "source": [
    "class_id = 1\n",
    "metrics.RocCurveDisplay.from_predictions(\n",
    "    onehot_y[:,class_id], \n",
    "    mnl_model.predict(df)[class_id]\n",
    ").plot();"
   ]
  },
  {
   "cell_type": "code",
   "execution_count": null,
   "id": "2e37147e",
   "metadata": {},
   "outputs": [],
   "source": []
  }
 ],
 "metadata": {
  "celltoolbar": "Slideshow",
  "kernelspec": {
   "display_name": "Python 3 (ipykernel)",
   "language": "python",
   "name": "python3"
  },
  "language_info": {
   "codemirror_mode": {
    "name": "ipython",
    "version": 3
   },
   "file_extension": ".py",
   "mimetype": "text/x-python",
   "name": "python",
   "nbconvert_exporter": "python",
   "pygments_lexer": "ipython3",
   "version": "3.12.1"
  },
  "toc": {
   "base_numbering": 2
  }
 },
 "nbformat": 4,
 "nbformat_minor": 5
}
